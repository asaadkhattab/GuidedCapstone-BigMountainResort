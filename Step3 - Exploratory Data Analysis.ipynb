{
 "cells": [
  {
   "cell_type": "markdown",
   "metadata": {
    "colab_type": "text",
    "id": "cf5CmXQCZyF1"
   },
   "source": [
    "# Guided Capstone Step 3 Exploratory Data Analysis"
   ]
  },
  {
   "cell_type": "markdown",
   "metadata": {
    "colab_type": "text",
    "id": "6coRtYMknP8g"
   },
   "source": [
    "This is the third step in the Data Science Method. We introduced this topic in the last subunit. With Data Wrangling out of the way we can progress to the Exploratory Data Analysis section. In this exercise, you will learn to build data profiles and plots, including relationship plot and data correlation plot. You will also implement k-means clustering, complete clusters, and update data frame as a CSV file. Let's get started! \n",
    "  \n",
    "**The Data Science Method**  \n",
    "\n",
    "\n",
    "1.   Problem Identification \n",
    "\n",
    "2.   Data Wrangling \n",
    "  * Data Collection \n",
    "   * Data Organization\n",
    "  * Data Definition \n",
    "  * Data Cleaning\n",
    " \n",
    "3.   **Exploratory Data Analysis** \n",
    " * Build data profile tables and plots\n",
    "        - Outliers & Anomalies\n",
    " * Explore data relationships\n",
    " * Identification and creation of features\n",
    "\n",
    "4.   Pre-processing and Training Data Development\n",
    "  * Create dummy or indicator features for categorical variables\n",
    "  * Standardize the magnitude of numeric features\n",
    "  * Split into testing and training datasets\n",
    "  * Apply scaler to the testing set\n",
    "5.   Modeling \n",
    "  * Fit Models with Training Data Set\n",
    "  * Review Model Outcomes — Iterate over additional models as needed.\n",
    "  * Identify the Final Model\n",
    "\n",
    "6.   Documentation\n",
    "  * Review the Results\n",
    "  * Present and share your findings - storytelling\n",
    "  * Finalize Code \n",
    "  * Finalize Documentation"
   ]
  },
  {
   "cell_type": "markdown",
   "metadata": {
    "colab_type": "text",
    "id": "KGpKRX884-Vz"
   },
   "source": [
    "**<font color='teal'> Start by loading the necessary packages as we did in step 2 and printing out our current working directory just to confirm we are in the correct project directory. </font>**"
   ]
  },
  {
   "cell_type": "code",
   "execution_count": 1,
   "metadata": {
    "colab": {},
    "colab_type": "code",
    "id": "ND33_51f4-V0"
   },
   "outputs": [],
   "source": [
    "#load python packages\n",
    "import os\n",
    "import pandas as pd\n",
    "import datetime\n",
    "import seaborn as sns\n",
    "import matplotlib.pyplot as plt\n",
    "import numpy as np\n",
    "%matplotlib inline\n"
   ]
  },
  {
   "cell_type": "markdown",
   "metadata": {
    "colab_type": "text",
    "id": "6RaogaD74-V6"
   },
   "source": [
    "**<font color='teal'> If you need to change your path refer back to step 2 on how to do that. Then load the csv file you created in step 2, remember it should be saved inside your data subfolder and print the first five rows.</font>**"
   ]
  },
  {
   "cell_type": "code",
   "execution_count": 2,
   "metadata": {
    "colab": {},
    "colab_type": "code",
    "id": "eJOG5gwW4-V7"
   },
   "outputs": [],
   "source": [
    "path = 'data/step2_output.csv'\n",
    "df = pd.read_csv(path)"
   ]
  },
  {
   "cell_type": "code",
   "execution_count": 3,
   "metadata": {},
   "outputs": [
    {
     "data": {
      "text/html": [
       "<div>\n",
       "<style scoped>\n",
       "    .dataframe tbody tr th:only-of-type {\n",
       "        vertical-align: middle;\n",
       "    }\n",
       "\n",
       "    .dataframe tbody tr th {\n",
       "        vertical-align: top;\n",
       "    }\n",
       "\n",
       "    .dataframe thead th {\n",
       "        text-align: right;\n",
       "    }\n",
       "</style>\n",
       "<table border=\"1\" class=\"dataframe\">\n",
       "  <thead>\n",
       "    <tr style=\"text-align: right;\">\n",
       "      <th></th>\n",
       "      <th>Name</th>\n",
       "      <th>Region</th>\n",
       "      <th>state</th>\n",
       "      <th>summit_elev</th>\n",
       "      <th>vertical_drop</th>\n",
       "      <th>base_elev</th>\n",
       "      <th>trams</th>\n",
       "      <th>fastEight</th>\n",
       "      <th>fastSixes</th>\n",
       "      <th>fastQuads</th>\n",
       "      <th>...</th>\n",
       "      <th>LongestRun_mi</th>\n",
       "      <th>SkiableTerrain_ac</th>\n",
       "      <th>Snow Making_ac</th>\n",
       "      <th>daysOpenLastYear</th>\n",
       "      <th>yearsOpen</th>\n",
       "      <th>averageSnowfall</th>\n",
       "      <th>AdultWeekday</th>\n",
       "      <th>AdultWeekend</th>\n",
       "      <th>projectedDaysOpen</th>\n",
       "      <th>NightSkiing_ac</th>\n",
       "    </tr>\n",
       "  </thead>\n",
       "  <tbody>\n",
       "    <tr>\n",
       "      <th>0</th>\n",
       "      <td>Alyeska Resort</td>\n",
       "      <td>Alaska</td>\n",
       "      <td>Alaska</td>\n",
       "      <td>3939</td>\n",
       "      <td>2500</td>\n",
       "      <td>250</td>\n",
       "      <td>1</td>\n",
       "      <td>0.0</td>\n",
       "      <td>0</td>\n",
       "      <td>2</td>\n",
       "      <td>...</td>\n",
       "      <td>1.0</td>\n",
       "      <td>1610.0</td>\n",
       "      <td>113.0</td>\n",
       "      <td>150.0</td>\n",
       "      <td>60.0</td>\n",
       "      <td>669.0</td>\n",
       "      <td>65.0</td>\n",
       "      <td>85.0</td>\n",
       "      <td>150.0</td>\n",
       "      <td>550.0</td>\n",
       "    </tr>\n",
       "    <tr>\n",
       "      <th>1</th>\n",
       "      <td>Eaglecrest Ski Area</td>\n",
       "      <td>Alaska</td>\n",
       "      <td>Alaska</td>\n",
       "      <td>2600</td>\n",
       "      <td>1540</td>\n",
       "      <td>1200</td>\n",
       "      <td>0</td>\n",
       "      <td>0.0</td>\n",
       "      <td>0</td>\n",
       "      <td>0</td>\n",
       "      <td>...</td>\n",
       "      <td>2.0</td>\n",
       "      <td>640.0</td>\n",
       "      <td>60.0</td>\n",
       "      <td>45.0</td>\n",
       "      <td>44.0</td>\n",
       "      <td>350.0</td>\n",
       "      <td>47.0</td>\n",
       "      <td>53.0</td>\n",
       "      <td>90.0</td>\n",
       "      <td>0.0</td>\n",
       "    </tr>\n",
       "    <tr>\n",
       "      <th>2</th>\n",
       "      <td>Hilltop Ski Area</td>\n",
       "      <td>Alaska</td>\n",
       "      <td>Alaska</td>\n",
       "      <td>2090</td>\n",
       "      <td>294</td>\n",
       "      <td>1796</td>\n",
       "      <td>0</td>\n",
       "      <td>0.0</td>\n",
       "      <td>0</td>\n",
       "      <td>0</td>\n",
       "      <td>...</td>\n",
       "      <td>1.0</td>\n",
       "      <td>30.0</td>\n",
       "      <td>30.0</td>\n",
       "      <td>150.0</td>\n",
       "      <td>36.0</td>\n",
       "      <td>69.0</td>\n",
       "      <td>30.0</td>\n",
       "      <td>34.0</td>\n",
       "      <td>152.0</td>\n",
       "      <td>30.0</td>\n",
       "    </tr>\n",
       "    <tr>\n",
       "      <th>3</th>\n",
       "      <td>Arizona Snowbowl</td>\n",
       "      <td>Arizona</td>\n",
       "      <td>Arizona</td>\n",
       "      <td>11500</td>\n",
       "      <td>2300</td>\n",
       "      <td>9200</td>\n",
       "      <td>0</td>\n",
       "      <td>0.0</td>\n",
       "      <td>1</td>\n",
       "      <td>0</td>\n",
       "      <td>...</td>\n",
       "      <td>2.0</td>\n",
       "      <td>777.0</td>\n",
       "      <td>104.0</td>\n",
       "      <td>122.0</td>\n",
       "      <td>81.0</td>\n",
       "      <td>260.0</td>\n",
       "      <td>89.0</td>\n",
       "      <td>89.0</td>\n",
       "      <td>122.0</td>\n",
       "      <td>0.0</td>\n",
       "    </tr>\n",
       "    <tr>\n",
       "      <th>4</th>\n",
       "      <td>Sunrise Park Resort</td>\n",
       "      <td>Arizona</td>\n",
       "      <td>Arizona</td>\n",
       "      <td>11100</td>\n",
       "      <td>1800</td>\n",
       "      <td>9200</td>\n",
       "      <td>0</td>\n",
       "      <td>0.0</td>\n",
       "      <td>0</td>\n",
       "      <td>1</td>\n",
       "      <td>...</td>\n",
       "      <td>1.2</td>\n",
       "      <td>800.0</td>\n",
       "      <td>80.0</td>\n",
       "      <td>115.0</td>\n",
       "      <td>49.0</td>\n",
       "      <td>250.0</td>\n",
       "      <td>74.0</td>\n",
       "      <td>78.0</td>\n",
       "      <td>104.0</td>\n",
       "      <td>80.0</td>\n",
       "    </tr>\n",
       "  </tbody>\n",
       "</table>\n",
       "<p>5 rows × 27 columns</p>\n",
       "</div>"
      ],
      "text/plain": [
       "                  Name   Region    state  summit_elev  vertical_drop  \\\n",
       "0       Alyeska Resort   Alaska   Alaska         3939           2500   \n",
       "1  Eaglecrest Ski Area   Alaska   Alaska         2600           1540   \n",
       "2     Hilltop Ski Area   Alaska   Alaska         2090            294   \n",
       "3     Arizona Snowbowl  Arizona  Arizona        11500           2300   \n",
       "4  Sunrise Park Resort  Arizona  Arizona        11100           1800   \n",
       "\n",
       "   base_elev  trams  fastEight  fastSixes  fastQuads  ...  LongestRun_mi  \\\n",
       "0        250      1        0.0          0          2  ...            1.0   \n",
       "1       1200      0        0.0          0          0  ...            2.0   \n",
       "2       1796      0        0.0          0          0  ...            1.0   \n",
       "3       9200      0        0.0          1          0  ...            2.0   \n",
       "4       9200      0        0.0          0          1  ...            1.2   \n",
       "\n",
       "   SkiableTerrain_ac  Snow Making_ac  daysOpenLastYear  yearsOpen  \\\n",
       "0             1610.0           113.0             150.0       60.0   \n",
       "1              640.0            60.0              45.0       44.0   \n",
       "2               30.0            30.0             150.0       36.0   \n",
       "3              777.0           104.0             122.0       81.0   \n",
       "4              800.0            80.0             115.0       49.0   \n",
       "\n",
       "   averageSnowfall  AdultWeekday  AdultWeekend  projectedDaysOpen  \\\n",
       "0            669.0          65.0          85.0              150.0   \n",
       "1            350.0          47.0          53.0               90.0   \n",
       "2             69.0          30.0          34.0              152.0   \n",
       "3            260.0          89.0          89.0              122.0   \n",
       "4            250.0          74.0          78.0              104.0   \n",
       "\n",
       "   NightSkiing_ac  \n",
       "0           550.0  \n",
       "1             0.0  \n",
       "2            30.0  \n",
       "3             0.0  \n",
       "4            80.0  \n",
       "\n",
       "[5 rows x 27 columns]"
      ]
     },
     "execution_count": 3,
     "metadata": {},
     "output_type": "execute_result"
    }
   ],
   "source": [
    "df.head()"
   ]
  },
  {
   "cell_type": "markdown",
   "metadata": {
    "colab_type": "text",
    "id": "lZDJfp-RlDZX"
   },
   "source": [
    "# Build data profile tables and plots "
   ]
  },
  {
   "cell_type": "markdown",
   "metadata": {
    "colab_type": "text",
    "id": "zkBHf9smZyGB"
   },
   "source": [
    "**<font color='teal'> Print out the summary stats table transposed to fit on the screen using the `describe()` function.</font>**"
   ]
  },
  {
   "cell_type": "code",
   "execution_count": 4,
   "metadata": {
    "colab": {},
    "colab_type": "code",
    "id": "i5sEVbbjZyGC"
   },
   "outputs": [
    {
     "data": {
      "text/html": [
       "<div>\n",
       "<style scoped>\n",
       "    .dataframe tbody tr th:only-of-type {\n",
       "        vertical-align: middle;\n",
       "    }\n",
       "\n",
       "    .dataframe tbody tr th {\n",
       "        vertical-align: top;\n",
       "    }\n",
       "\n",
       "    .dataframe thead th {\n",
       "        text-align: right;\n",
       "    }\n",
       "</style>\n",
       "<table border=\"1\" class=\"dataframe\">\n",
       "  <thead>\n",
       "    <tr style=\"text-align: right;\">\n",
       "      <th></th>\n",
       "      <th>count</th>\n",
       "      <th>mean</th>\n",
       "      <th>std</th>\n",
       "      <th>min</th>\n",
       "      <th>25%</th>\n",
       "      <th>50%</th>\n",
       "      <th>75%</th>\n",
       "      <th>max</th>\n",
       "    </tr>\n",
       "  </thead>\n",
       "  <tbody>\n",
       "    <tr>\n",
       "      <th>summit_elev</th>\n",
       "      <td>330.0</td>\n",
       "      <td>4591.818182</td>\n",
       "      <td>3735.535934</td>\n",
       "      <td>315.0</td>\n",
       "      <td>1403.75</td>\n",
       "      <td>3127.500000</td>\n",
       "      <td>7806.000000</td>\n",
       "      <td>13487.0</td>\n",
       "    </tr>\n",
       "    <tr>\n",
       "      <th>vertical_drop</th>\n",
       "      <td>330.0</td>\n",
       "      <td>1215.427273</td>\n",
       "      <td>947.864557</td>\n",
       "      <td>60.0</td>\n",
       "      <td>461.25</td>\n",
       "      <td>964.500000</td>\n",
       "      <td>1800.000000</td>\n",
       "      <td>4425.0</td>\n",
       "    </tr>\n",
       "    <tr>\n",
       "      <th>base_elev</th>\n",
       "      <td>330.0</td>\n",
       "      <td>3374.000000</td>\n",
       "      <td>3117.121621</td>\n",
       "      <td>70.0</td>\n",
       "      <td>869.00</td>\n",
       "      <td>1561.500000</td>\n",
       "      <td>6325.250000</td>\n",
       "      <td>10800.0</td>\n",
       "    </tr>\n",
       "    <tr>\n",
       "      <th>trams</th>\n",
       "      <td>330.0</td>\n",
       "      <td>0.172727</td>\n",
       "      <td>0.559946</td>\n",
       "      <td>0.0</td>\n",
       "      <td>0.00</td>\n",
       "      <td>0.000000</td>\n",
       "      <td>0.000000</td>\n",
       "      <td>4.0</td>\n",
       "    </tr>\n",
       "    <tr>\n",
       "      <th>fastEight</th>\n",
       "      <td>330.0</td>\n",
       "      <td>0.003030</td>\n",
       "      <td>0.055048</td>\n",
       "      <td>0.0</td>\n",
       "      <td>0.00</td>\n",
       "      <td>0.000000</td>\n",
       "      <td>0.000000</td>\n",
       "      <td>1.0</td>\n",
       "    </tr>\n",
       "    <tr>\n",
       "      <th>fastSixes</th>\n",
       "      <td>330.0</td>\n",
       "      <td>0.184848</td>\n",
       "      <td>0.651685</td>\n",
       "      <td>0.0</td>\n",
       "      <td>0.00</td>\n",
       "      <td>0.000000</td>\n",
       "      <td>0.000000</td>\n",
       "      <td>6.0</td>\n",
       "    </tr>\n",
       "    <tr>\n",
       "      <th>fastQuads</th>\n",
       "      <td>330.0</td>\n",
       "      <td>1.018182</td>\n",
       "      <td>2.198294</td>\n",
       "      <td>0.0</td>\n",
       "      <td>0.00</td>\n",
       "      <td>0.000000</td>\n",
       "      <td>1.000000</td>\n",
       "      <td>15.0</td>\n",
       "    </tr>\n",
       "    <tr>\n",
       "      <th>quad</th>\n",
       "      <td>330.0</td>\n",
       "      <td>0.933333</td>\n",
       "      <td>1.312245</td>\n",
       "      <td>0.0</td>\n",
       "      <td>0.00</td>\n",
       "      <td>0.000000</td>\n",
       "      <td>1.000000</td>\n",
       "      <td>8.0</td>\n",
       "    </tr>\n",
       "    <tr>\n",
       "      <th>triple</th>\n",
       "      <td>330.0</td>\n",
       "      <td>1.500000</td>\n",
       "      <td>1.619130</td>\n",
       "      <td>0.0</td>\n",
       "      <td>0.00</td>\n",
       "      <td>1.000000</td>\n",
       "      <td>2.000000</td>\n",
       "      <td>8.0</td>\n",
       "    </tr>\n",
       "    <tr>\n",
       "      <th>double</th>\n",
       "      <td>330.0</td>\n",
       "      <td>1.833333</td>\n",
       "      <td>1.815028</td>\n",
       "      <td>0.0</td>\n",
       "      <td>1.00</td>\n",
       "      <td>1.000000</td>\n",
       "      <td>3.000000</td>\n",
       "      <td>14.0</td>\n",
       "    </tr>\n",
       "    <tr>\n",
       "      <th>surface</th>\n",
       "      <td>330.0</td>\n",
       "      <td>2.621212</td>\n",
       "      <td>2.059636</td>\n",
       "      <td>0.0</td>\n",
       "      <td>1.00</td>\n",
       "      <td>2.000000</td>\n",
       "      <td>3.000000</td>\n",
       "      <td>15.0</td>\n",
       "    </tr>\n",
       "    <tr>\n",
       "      <th>total_chairs</th>\n",
       "      <td>330.0</td>\n",
       "      <td>8.266667</td>\n",
       "      <td>5.798683</td>\n",
       "      <td>0.0</td>\n",
       "      <td>5.00</td>\n",
       "      <td>7.000000</td>\n",
       "      <td>10.000000</td>\n",
       "      <td>41.0</td>\n",
       "    </tr>\n",
       "    <tr>\n",
       "      <th>Runs</th>\n",
       "      <td>330.0</td>\n",
       "      <td>48.214724</td>\n",
       "      <td>46.081366</td>\n",
       "      <td>3.0</td>\n",
       "      <td>19.00</td>\n",
       "      <td>34.000000</td>\n",
       "      <td>60.000000</td>\n",
       "      <td>341.0</td>\n",
       "    </tr>\n",
       "    <tr>\n",
       "      <th>TerrainParks</th>\n",
       "      <td>330.0</td>\n",
       "      <td>2.384848</td>\n",
       "      <td>2.109556</td>\n",
       "      <td>0.0</td>\n",
       "      <td>1.00</td>\n",
       "      <td>2.000000</td>\n",
       "      <td>3.000000</td>\n",
       "      <td>14.0</td>\n",
       "    </tr>\n",
       "    <tr>\n",
       "      <th>LongestRun_mi</th>\n",
       "      <td>330.0</td>\n",
       "      <td>1.433231</td>\n",
       "      <td>1.147352</td>\n",
       "      <td>0.0</td>\n",
       "      <td>0.60</td>\n",
       "      <td>1.000000</td>\n",
       "      <td>2.000000</td>\n",
       "      <td>6.0</td>\n",
       "    </tr>\n",
       "    <tr>\n",
       "      <th>SkiableTerrain_ac</th>\n",
       "      <td>330.0</td>\n",
       "      <td>739.801223</td>\n",
       "      <td>1807.868079</td>\n",
       "      <td>8.0</td>\n",
       "      <td>85.00</td>\n",
       "      <td>200.000000</td>\n",
       "      <td>739.801223</td>\n",
       "      <td>26819.0</td>\n",
       "    </tr>\n",
       "    <tr>\n",
       "      <th>Snow Making_ac</th>\n",
       "      <td>330.0</td>\n",
       "      <td>150.496970</td>\n",
       "      <td>249.854380</td>\n",
       "      <td>0.0</td>\n",
       "      <td>30.00</td>\n",
       "      <td>86.000000</td>\n",
       "      <td>192.000000</td>\n",
       "      <td>3379.0</td>\n",
       "    </tr>\n",
       "    <tr>\n",
       "      <th>daysOpenLastYear</th>\n",
       "      <td>330.0</td>\n",
       "      <td>115.103943</td>\n",
       "      <td>32.231212</td>\n",
       "      <td>3.0</td>\n",
       "      <td>100.00</td>\n",
       "      <td>115.103943</td>\n",
       "      <td>130.000000</td>\n",
       "      <td>305.0</td>\n",
       "    </tr>\n",
       "    <tr>\n",
       "      <th>yearsOpen</th>\n",
       "      <td>330.0</td>\n",
       "      <td>63.656535</td>\n",
       "      <td>109.263494</td>\n",
       "      <td>6.0</td>\n",
       "      <td>50.00</td>\n",
       "      <td>58.000000</td>\n",
       "      <td>68.750000</td>\n",
       "      <td>2019.0</td>\n",
       "    </tr>\n",
       "    <tr>\n",
       "      <th>averageSnowfall</th>\n",
       "      <td>330.0</td>\n",
       "      <td>185.316456</td>\n",
       "      <td>133.424094</td>\n",
       "      <td>18.0</td>\n",
       "      <td>71.25</td>\n",
       "      <td>158.000000</td>\n",
       "      <td>278.750000</td>\n",
       "      <td>669.0</td>\n",
       "    </tr>\n",
       "    <tr>\n",
       "      <th>AdultWeekday</th>\n",
       "      <td>330.0</td>\n",
       "      <td>57.916957</td>\n",
       "      <td>23.898798</td>\n",
       "      <td>15.0</td>\n",
       "      <td>43.00</td>\n",
       "      <td>57.916957</td>\n",
       "      <td>67.000000</td>\n",
       "      <td>179.0</td>\n",
       "    </tr>\n",
       "    <tr>\n",
       "      <th>AdultWeekend</th>\n",
       "      <td>330.0</td>\n",
       "      <td>64.166810</td>\n",
       "      <td>22.571324</td>\n",
       "      <td>17.0</td>\n",
       "      <td>49.00</td>\n",
       "      <td>64.166810</td>\n",
       "      <td>72.000000</td>\n",
       "      <td>179.0</td>\n",
       "    </tr>\n",
       "    <tr>\n",
       "      <th>projectedDaysOpen</th>\n",
       "      <td>330.0</td>\n",
       "      <td>120.053004</td>\n",
       "      <td>28.742976</td>\n",
       "      <td>30.0</td>\n",
       "      <td>101.25</td>\n",
       "      <td>120.053004</td>\n",
       "      <td>136.000000</td>\n",
       "      <td>305.0</td>\n",
       "    </tr>\n",
       "    <tr>\n",
       "      <th>NightSkiing_ac</th>\n",
       "      <td>330.0</td>\n",
       "      <td>56.890909</td>\n",
       "      <td>93.464882</td>\n",
       "      <td>0.0</td>\n",
       "      <td>0.00</td>\n",
       "      <td>27.000000</td>\n",
       "      <td>83.750000</td>\n",
       "      <td>650.0</td>\n",
       "    </tr>\n",
       "  </tbody>\n",
       "</table>\n",
       "</div>"
      ],
      "text/plain": [
       "                   count         mean          std    min      25%  \\\n",
       "summit_elev        330.0  4591.818182  3735.535934  315.0  1403.75   \n",
       "vertical_drop      330.0  1215.427273   947.864557   60.0   461.25   \n",
       "base_elev          330.0  3374.000000  3117.121621   70.0   869.00   \n",
       "trams              330.0     0.172727     0.559946    0.0     0.00   \n",
       "fastEight          330.0     0.003030     0.055048    0.0     0.00   \n",
       "fastSixes          330.0     0.184848     0.651685    0.0     0.00   \n",
       "fastQuads          330.0     1.018182     2.198294    0.0     0.00   \n",
       "quad               330.0     0.933333     1.312245    0.0     0.00   \n",
       "triple             330.0     1.500000     1.619130    0.0     0.00   \n",
       "double             330.0     1.833333     1.815028    0.0     1.00   \n",
       "surface            330.0     2.621212     2.059636    0.0     1.00   \n",
       "total_chairs       330.0     8.266667     5.798683    0.0     5.00   \n",
       "Runs               330.0    48.214724    46.081366    3.0    19.00   \n",
       "TerrainParks       330.0     2.384848     2.109556    0.0     1.00   \n",
       "LongestRun_mi      330.0     1.433231     1.147352    0.0     0.60   \n",
       "SkiableTerrain_ac  330.0   739.801223  1807.868079    8.0    85.00   \n",
       "Snow Making_ac     330.0   150.496970   249.854380    0.0    30.00   \n",
       "daysOpenLastYear   330.0   115.103943    32.231212    3.0   100.00   \n",
       "yearsOpen          330.0    63.656535   109.263494    6.0    50.00   \n",
       "averageSnowfall    330.0   185.316456   133.424094   18.0    71.25   \n",
       "AdultWeekday       330.0    57.916957    23.898798   15.0    43.00   \n",
       "AdultWeekend       330.0    64.166810    22.571324   17.0    49.00   \n",
       "projectedDaysOpen  330.0   120.053004    28.742976   30.0   101.25   \n",
       "NightSkiing_ac     330.0    56.890909    93.464882    0.0     0.00   \n",
       "\n",
       "                           50%          75%      max  \n",
       "summit_elev        3127.500000  7806.000000  13487.0  \n",
       "vertical_drop       964.500000  1800.000000   4425.0  \n",
       "base_elev          1561.500000  6325.250000  10800.0  \n",
       "trams                 0.000000     0.000000      4.0  \n",
       "fastEight             0.000000     0.000000      1.0  \n",
       "fastSixes             0.000000     0.000000      6.0  \n",
       "fastQuads             0.000000     1.000000     15.0  \n",
       "quad                  0.000000     1.000000      8.0  \n",
       "triple                1.000000     2.000000      8.0  \n",
       "double                1.000000     3.000000     14.0  \n",
       "surface               2.000000     3.000000     15.0  \n",
       "total_chairs          7.000000    10.000000     41.0  \n",
       "Runs                 34.000000    60.000000    341.0  \n",
       "TerrainParks          2.000000     3.000000     14.0  \n",
       "LongestRun_mi         1.000000     2.000000      6.0  \n",
       "SkiableTerrain_ac   200.000000   739.801223  26819.0  \n",
       "Snow Making_ac       86.000000   192.000000   3379.0  \n",
       "daysOpenLastYear    115.103943   130.000000    305.0  \n",
       "yearsOpen            58.000000    68.750000   2019.0  \n",
       "averageSnowfall     158.000000   278.750000    669.0  \n",
       "AdultWeekday         57.916957    67.000000    179.0  \n",
       "AdultWeekend         64.166810    72.000000    179.0  \n",
       "projectedDaysOpen   120.053004   136.000000    305.0  \n",
       "NightSkiing_ac       27.000000    83.750000    650.0  "
      ]
     },
     "execution_count": 4,
     "metadata": {},
     "output_type": "execute_result"
    }
   ],
   "source": [
    "df.describe().T"
   ]
  },
  {
   "cell_type": "markdown",
   "metadata": {
    "colab_type": "text",
    "id": "qbsc0sfW4-WI"
   },
   "source": [
    "**<font color='teal'> Histograms are an excellent way to review the range and density of values for each numeric features in your data set and build data profiles. Plot the histograms for all numeric features and adjust the bins size to 25.</font>**"
   ]
  },
  {
   "cell_type": "code",
   "execution_count": 5,
   "metadata": {
    "colab": {},
    "colab_type": "code",
    "id": "PX_gPWmAZyHW"
   },
   "outputs": [
    {
     "data": {
      "text/plain": [
       "<matplotlib.axes._subplots.AxesSubplot at 0x126efdb10>"
      ]
     },
     "execution_count": 5,
     "metadata": {},
     "output_type": "execute_result"
    },
    {
     "data": {
      "image/png": "[encoded data removed]",
      "text/plain": [
       "<Figure size 432x288 with 1 Axes>"
      ]
     },
     "metadata": {
      "needs_background": "light"
     },
     "output_type": "display_data"
    }
   ],
   "source": [
    "df.plot(kind='hist',bins =10)"
   ]
  },
  {
   "cell_type": "code",
   "execution_count": 6,
   "metadata": {},
   "outputs": [
    {
     "data": {
      "text/plain": [
       "<matplotlib.axes._subplots.AxesSubplot at 0x127a749d0>"
      ]
     },
     "execution_count": 6,
     "metadata": {},
     "output_type": "execute_result"
    },
    {
     "data": {
      "image/png": "[encoded data removed]",
      "text/plain": [
       "<Figure size 432x288 with 1 Axes>"
      ]
     },
     "metadata": {
      "needs_background": "light"
     },
     "output_type": "display_data"
    }
   ],
   "source": [
    "df['summit_elev'].plot(kind='hist', bins = 25, title=\"Summit Elev\")"
   ]
  },
  {
   "cell_type": "code",
   "execution_count": 7,
   "metadata": {},
   "outputs": [
    {
     "data": {
      "text/plain": [
       "<matplotlib.axes._subplots.AxesSubplot at 0x127ba58d0>"
      ]
     },
     "execution_count": 7,
     "metadata": {},
     "output_type": "execute_result"
    },
    {
     "data": {
      "image/png": "[encoded data removed]",
      "text/plain": [
       "<Figure size 432x288 with 1 Axes>"
      ]
     },
     "metadata": {
      "needs_background": "light"
     },
     "output_type": "display_data"
    }
   ],
   "source": [
    "df['vertical_drop'].plot(kind='hist', bins = 25, title=\"Vertical Drop\")"
   ]
  },
  {
   "cell_type": "code",
   "execution_count": 8,
   "metadata": {},
   "outputs": [
    {
     "data": {
      "text/plain": [
       "<matplotlib.axes._subplots.AxesSubplot at 0x127cd42d0>"
      ]
     },
     "execution_count": 8,
     "metadata": {},
     "output_type": "execute_result"
    },
    {
     "data": {
      "image/png": "[encoded data removed]",
      "text/plain": [
       "<Figure size 432x288 with 1 Axes>"
      ]
     },
     "metadata": {
      "needs_background": "light"
     },
     "output_type": "display_data"
    }
   ],
   "source": [
    "df['base_elev'].plot(kind='hist', bins = 25, title=\"Base Elev\")"
   ]
  },
  {
   "cell_type": "code",
   "execution_count": 9,
   "metadata": {},
   "outputs": [
    {
     "data": {
      "text/plain": [
       "<matplotlib.axes._subplots.AxesSubplot at 0x127dfdf90>"
      ]
     },
     "execution_count": 9,
     "metadata": {},
     "output_type": "execute_result"
    },
    {
     "data": {
      "image/png": "[encoded data removed]",
      "text/plain": [
       "<Figure size 432x288 with 1 Axes>"
      ]
     },
     "metadata": {
      "needs_background": "light"
     },
     "output_type": "display_data"
    }
   ],
   "source": [
    "df['trams'].plot(kind='hist', bins = 25, title=\"Trams\")"
   ]
  },
  {
   "cell_type": "code",
   "execution_count": 10,
   "metadata": {},
   "outputs": [
    {
     "data": {
      "text/plain": [
       "<matplotlib.axes._subplots.AxesSubplot at 0x127baa950>"
      ]
     },
     "execution_count": 10,
     "metadata": {},
     "output_type": "execute_result"
    },
    {
     "data": {
      "image/png": "[encoded data removed]",
      "text/plain": [
       "<Figure size 432x288 with 1 Axes>"
      ]
     },
     "metadata": {
      "needs_background": "light"
     },
     "output_type": "display_data"
    }
   ],
   "source": [
    "df['fastEight'].plot(kind='hist', bins = 25, title=\"FastEight\")"
   ]
  },
  {
   "cell_type": "code",
   "execution_count": 11,
   "metadata": {},
   "outputs": [
    {
     "data": {
      "text/plain": [
       "<matplotlib.axes._subplots.AxesSubplot at 0x12801d950>"
      ]
     },
     "execution_count": 11,
     "metadata": {},
     "output_type": "execute_result"
    },
    {
     "data": {
      "image/png": "[encoded data removed]",
      "text/plain": [
       "<Figure size 432x288 with 1 Axes>"
      ]
     },
     "metadata": {
      "needs_background": "light"
     },
     "output_type": "display_data"
    }
   ],
   "source": [
    "df['fastSixes'].plot(kind='hist', bins = 25, title=\"FastSixes\")"
   ]
  },
  {
   "cell_type": "code",
   "execution_count": 12,
   "metadata": {},
   "outputs": [
    {
     "data": {
      "text/plain": [
       "<matplotlib.axes._subplots.AxesSubplot at 0x127a62650>"
      ]
     },
     "execution_count": 12,
     "metadata": {},
     "output_type": "execute_result"
    },
    {
     "data": {
      "image/png": "[encoded data removed]",
      "text/plain": [
       "<Figure size 432x288 with 1 Axes>"
      ]
     },
     "metadata": {
      "needs_background": "light"
     },
     "output_type": "display_data"
    }
   ],
   "source": [
    "df['fastQuads'].plot(kind='hist', bins = 25, title=\"Fast Quads\")"
   ]
  },
  {
   "cell_type": "code",
   "execution_count": 13,
   "metadata": {},
   "outputs": [
    {
     "data": {
      "text/plain": [
       "<matplotlib.axes._subplots.AxesSubplot at 0x128277450>"
      ]
     },
     "execution_count": 13,
     "metadata": {},
     "output_type": "execute_result"
    },
    {
     "data": {
      "image/png": "[encoded data removed]",
      "text/plain": [
       "<Figure size 432x288 with 1 Axes>"
      ]
     },
     "metadata": {
      "needs_background": "light"
     },
     "output_type": "display_data"
    }
   ],
   "source": [
    "df['quad'].plot(kind='hist', bins = 25, title=\"Quad\")"
   ]
  },
  {
   "cell_type": "code",
   "execution_count": 14,
   "metadata": {},
   "outputs": [
    {
     "data": {
      "text/plain": [
       "<matplotlib.axes._subplots.AxesSubplot at 0x1283a6c90>"
      ]
     },
     "execution_count": 14,
     "metadata": {},
     "output_type": "execute_result"
    },
    {
     "data": {
      "image/png": "[encoded data removed]",
      "text/plain": [
       "<Figure size 432x288 with 1 Axes>"
      ]
     },
     "metadata": {
      "needs_background": "light"
     },
     "output_type": "display_data"
    }
   ],
   "source": [
    "df['triple'].plot(kind='hist', bins = 25, title=\"triple\")"
   ]
  },
  {
   "cell_type": "code",
   "execution_count": 15,
   "metadata": {},
   "outputs": [
    {
     "data": {
      "text/plain": [
       "<matplotlib.axes._subplots.AxesSubplot at 0x1284c6f50>"
      ]
     },
     "execution_count": 15,
     "metadata": {},
     "output_type": "execute_result"
    },
    {
     "data": {
      "image/png": "[encoded data removed]",
      "text/plain": [
       "<Figure size 432x288 with 1 Axes>"
      ]
     },
     "metadata": {
      "needs_background": "light"
     },
     "output_type": "display_data"
    }
   ],
   "source": [
    "df['double'].plot(kind='hist', bins = 25, title=\"Double\")"
   ]
  },
  {
   "cell_type": "code",
   "execution_count": 16,
   "metadata": {},
   "outputs": [
    {
     "data": {
      "text/plain": [
       "<matplotlib.axes._subplots.AxesSubplot at 0x12860ebd0>"
      ]
     },
     "execution_count": 16,
     "metadata": {},
     "output_type": "execute_result"
    },
    {
     "data": {
      "image/png": "[encoded data removed]",
      "text/plain": [
       "<Figure size 432x288 with 1 Axes>"
      ]
     },
     "metadata": {
      "needs_background": "light"
     },
     "output_type": "display_data"
    }
   ],
   "source": [
    "df['surface'].plot(kind='hist', bins = 25, title=\"Surface\")"
   ]
  },
  {
   "cell_type": "code",
   "execution_count": 17,
   "metadata": {},
   "outputs": [
    {
     "data": {
      "text/plain": [
       "<matplotlib.axes._subplots.AxesSubplot at 0x12873af10>"
      ]
     },
     "execution_count": 17,
     "metadata": {},
     "output_type": "execute_result"
    },
    {
     "data": {
      "image/png": "[encoded data removed]",
      "text/plain": [
       "<Figure size 432x288 with 1 Axes>"
      ]
     },
     "metadata": {
      "needs_background": "light"
     },
     "output_type": "display_data"
    }
   ],
   "source": [
    "df['total_chairs'].plot(kind='hist', bins = 25, title=\"Total Chairs\")"
   ]
  },
  {
   "cell_type": "code",
   "execution_count": 18,
   "metadata": {},
   "outputs": [
    {
     "data": {
      "text/plain": [
       "<matplotlib.axes._subplots.AxesSubplot at 0x128862c90>"
      ]
     },
     "execution_count": 18,
     "metadata": {},
     "output_type": "execute_result"
    },
    {
     "data": {
      "image/png": "[encoded data removed]",
      "text/plain": [
       "<Figure size 432x288 with 1 Axes>"
      ]
     },
     "metadata": {
      "needs_background": "light"
     },
     "output_type": "display_data"
    }
   ],
   "source": [
    "df['Runs'].plot(kind='hist', bins = 25, title=\"Runs\")"
   ]
  },
  {
   "cell_type": "code",
   "execution_count": 19,
   "metadata": {},
   "outputs": [
    {
     "data": {
      "text/plain": [
       "<matplotlib.axes._subplots.AxesSubplot at 0x128943a90>"
      ]
     },
     "execution_count": 19,
     "metadata": {},
     "output_type": "execute_result"
    },
    {
     "data": {
      "image/png": "[encoded data removed]",
      "text/plain": [
       "<Figure size 432x288 with 1 Axes>"
      ]
     },
     "metadata": {
      "needs_background": "light"
     },
     "output_type": "display_data"
    }
   ],
   "source": [
    "df['TerrainParks'].plot(kind='hist', bins = 25, title=\"Terrain Parks\")"
   ]
  },
  {
   "cell_type": "code",
   "execution_count": 20,
   "metadata": {},
   "outputs": [
    {
     "data": {
      "text/plain": [
       "<matplotlib.axes._subplots.AxesSubplot at 0x128aa8890>"
      ]
     },
     "execution_count": 20,
     "metadata": {},
     "output_type": "execute_result"
    },
    {
     "data": {
      "image/png": "[encoded data removed]",
      "text/plain": [
       "<Figure size 432x288 with 1 Axes>"
      ]
     },
     "metadata": {
      "needs_background": "light"
     },
     "output_type": "display_data"
    }
   ],
   "source": [
    "df['LongestRun_mi'].plot(kind='hist', bins = 25, title=\"LongestRun_mi\")"
   ]
  },
  {
   "cell_type": "code",
   "execution_count": 21,
   "metadata": {},
   "outputs": [
    {
     "data": {
      "text/plain": [
       "<matplotlib.axes._subplots.AxesSubplot at 0x127dfd4d0>"
      ]
     },
     "execution_count": 21,
     "metadata": {},
     "output_type": "execute_result"
    },
    {
     "data": {
      "image/png": "[encoded data removed]",
      "text/plain": [
       "<Figure size 432x288 with 1 Axes>"
      ]
     },
     "metadata": {
      "needs_background": "light"
     },
     "output_type": "display_data"
    }
   ],
   "source": [
    "df['SkiableTerrain_ac'].plot(kind='hist', bins = 25, title=\"SkiableTerrain\")"
   ]
  },
  {
   "cell_type": "code",
   "execution_count": 22,
   "metadata": {},
   "outputs": [
    {
     "data": {
      "text/plain": [
       "<matplotlib.axes._subplots.AxesSubplot at 0x128cc8710>"
      ]
     },
     "execution_count": 22,
     "metadata": {},
     "output_type": "execute_result"
    },
    {
     "data": {
      "image/png": "[encoded data removed]",
      "text/plain": [
       "<Figure size 432x288 with 1 Axes>"
      ]
     },
     "metadata": {
      "needs_background": "light"
     },
     "output_type": "display_data"
    }
   ],
   "source": [
    "df['Snow Making_ac'].plot(kind='hist', bins = 25, title=\"Snow Making_ac\")"
   ]
  },
  {
   "cell_type": "code",
   "execution_count": 23,
   "metadata": {},
   "outputs": [
    {
     "data": {
      "text/plain": [
       "<matplotlib.axes._subplots.AxesSubplot at 0x128ab0cd0>"
      ]
     },
     "execution_count": 23,
     "metadata": {},
     "output_type": "execute_result"
    },
    {
     "data": {
      "image/png": "[encoded data removed]",
      "text/plain": [
       "<Figure size 432x288 with 1 Axes>"
      ]
     },
     "metadata": {
      "needs_background": "light"
     },
     "output_type": "display_data"
    }
   ],
   "source": [
    "df['daysOpenLastYear'].plot(kind='hist', bins = 25, title=\"Days Open Last Year\")"
   ]
  },
  {
   "cell_type": "code",
   "execution_count": 24,
   "metadata": {},
   "outputs": [
    {
     "data": {
      "text/plain": [
       "<matplotlib.axes._subplots.AxesSubplot at 0x128f29b10>"
      ]
     },
     "execution_count": 24,
     "metadata": {},
     "output_type": "execute_result"
    },
    {
     "data": {
      "image/png": "[encoded data removed]",
      "text/plain": [
       "<Figure size 432x288 with 1 Axes>"
      ]
     },
     "metadata": {
      "needs_background": "light"
     },
     "output_type": "display_data"
    }
   ],
   "source": [
    "df['yearsOpen'].plot(kind='hist', bins = 25, title=\" Years Open\")"
   ]
  },
  {
   "cell_type": "code",
   "execution_count": 25,
   "metadata": {},
   "outputs": [
    {
     "data": {
      "text/plain": [
       "<matplotlib.axes._subplots.AxesSubplot at 0x128ef51d0>"
      ]
     },
     "execution_count": 25,
     "metadata": {},
     "output_type": "execute_result"
    },
    {
     "data": {
      "image/png": "[encoded data removed]",
      "text/plain": [
       "<Figure size 432x288 with 1 Axes>"
      ]
     },
     "metadata": {
      "needs_background": "light"
     },
     "output_type": "display_data"
    }
   ],
   "source": [
    "df['averageSnowfall'].plot(kind='hist', bins = 25, title=\"Average Snowfall\")"
   ]
  },
  {
   "cell_type": "code",
   "execution_count": 26,
   "metadata": {},
   "outputs": [
    {
     "data": {
      "text/plain": [
       "<matplotlib.axes._subplots.AxesSubplot at 0x1291503d0>"
      ]
     },
     "execution_count": 26,
     "metadata": {},
     "output_type": "execute_result"
    },
    {
     "data": {
      "image/png": "[encoded data removed]",
      "text/plain": [
       "<Figure size 432x288 with 1 Axes>"
      ]
     },
     "metadata": {
      "needs_background": "light"
     },
     "output_type": "display_data"
    }
   ],
   "source": [
    "df['AdultWeekday'].plot(kind='hist', bins = 25, title=\"Adult Weekday\")"
   ]
  },
  {
   "cell_type": "code",
   "execution_count": 27,
   "metadata": {},
   "outputs": [
    {
     "data": {
      "text/plain": [
       "<matplotlib.axes._subplots.AxesSubplot at 0x127feaad0>"
      ]
     },
     "execution_count": 27,
     "metadata": {},
     "output_type": "execute_result"
    },
    {
     "data": {
      "image/png": "[encoded data removed]",
      "text/plain": [
       "<Figure size 432x288 with 1 Axes>"
      ]
     },
     "metadata": {
      "needs_background": "light"
     },
     "output_type": "display_data"
    }
   ],
   "source": [
    "df['AdultWeekend'].plot(kind='hist', bins = 25, title=\"Adult Weekend\")"
   ]
  },
  {
   "cell_type": "code",
   "execution_count": 28,
   "metadata": {},
   "outputs": [
    {
     "data": {
      "text/plain": [
       "<matplotlib.axes._subplots.AxesSubplot at 0x128110390>"
      ]
     },
     "execution_count": 28,
     "metadata": {},
     "output_type": "execute_result"
    },
    {
     "data": {
      "image/png": "[encoded data removed]",
      "text/plain": [
       "<Figure size 432x288 with 1 Axes>"
      ]
     },
     "metadata": {
      "needs_background": "light"
     },
     "output_type": "display_data"
    }
   ],
   "source": [
    "df['projectedDaysOpen'].plot(kind='hist', bins = 25, title=\"Projected Days Open \")"
   ]
  },
  {
   "cell_type": "code",
   "execution_count": 29,
   "metadata": {},
   "outputs": [
    {
     "data": {
      "text/plain": [
       "<matplotlib.axes._subplots.AxesSubplot at 0x1293bac10>"
      ]
     },
     "execution_count": 29,
     "metadata": {},
     "output_type": "execute_result"
    },
    {
     "data": {
      "image/png": "[encoded data removed]",
      "text/plain": [
       "<Figure size 432x288 with 1 Axes>"
      ]
     },
     "metadata": {
      "needs_background": "light"
     },
     "output_type": "display_data"
    }
   ],
   "source": [
    "df['NightSkiing_ac'].plot(kind='hist', bins = 25, title=\"NightSkiing\")"
   ]
  },
  {
   "cell_type": "markdown",
   "metadata": {
    "colab_type": "text",
    "id": "_IEI0Kzj4-WN"
   },
   "source": [
    "Look for similarities in the features that may indicate that they are duplicates or highly correlated features. Make a note of your findings and any other interesting insights you find about these numeric features."
   ]
  },
  {
   "cell_type": "markdown",
   "metadata": {
    "colab_type": "text",
    "id": "cL107nfB4-WO"
   },
   "source": [
    "**<font color='teal'> Okay, now you should be getting a sense for what the data look like. Let's create a barplot for the categorical features `Region` and `state` where the heights of the bars are the counts of each level in that variable. </font>**"
   ]
  },
  {
   "cell_type": "markdown",
   "metadata": {
    "colab_type": "text",
    "id": "UYHlF-jM4-WP"
   },
   "source": [
    "**<font color='teal'>State Levels Plot</font>**"
   ]
  },
  {
   "cell_type": "code",
   "execution_count": 30,
   "metadata": {
    "colab": {},
    "colab_type": "code",
    "id": "ET_UkmR-4-WQ"
   },
   "outputs": [
    {
     "data": {
      "text/plain": [
       "<matplotlib.axes._subplots.AxesSubplot at 0x1295c63d0>"
      ]
     },
     "execution_count": 30,
     "metadata": {},
     "output_type": "execute_result"
    },
    {
     "data": {
      "image/png": "[encoded data removed]",
      "text/plain": [
       "<Figure size 720x720 with 1 Axes>"
      ]
     },
     "metadata": {
      "needs_background": "light"
     },
     "output_type": "display_data"
    }
   ],
   "source": [
    "# Uncomment the following code to get your visualization started \n",
    "f, ax = plt.subplots(figsize=(10, 10))\n",
    "\n",
    "# In the following brackets, we want the value_counts() of the states \n",
    "x = pd.DataFrame(df.state.value_counts())\n",
    "\n",
    "# Get the state names by calling list() on the x.index\n",
    "names = list(x.index)\n",
    "\n",
    "# Get the values by plugging x.state into the list() function\n",
    "values = list(x.state)\n",
    "\n",
    "# We're now going to call the barplot() method on our sns seaborn object. \n",
    "# If you don't have a searborn object yet, make sure you've imported seaborn as sns in your imports above. \n",
    "sns.barplot(x=values, y=names, palette=\"RdBu_r\")"
   ]
  },
  {
   "cell_type": "markdown",
   "metadata": {
    "colab_type": "text",
    "id": "f2Qx9U_94-WV"
   },
   "source": [
    "**<font color='teal'>Region Levels Plot</font>**"
   ]
  },
  {
   "cell_type": "code",
   "execution_count": 31,
   "metadata": {},
   "outputs": [
    {
     "data": {
      "text/plain": [
       "<matplotlib.axes._subplots.AxesSubplot at 0x129620c90>"
      ]
     },
     "execution_count": 31,
     "metadata": {},
     "output_type": "execute_result"
    },
    {
     "data": {
      "image/png": "[encoded data removed]",
      "text/plain": [
       "<Figure size 720x720 with 1 Axes>"
      ]
     },
     "metadata": {
      "needs_background": "light"
     },
     "output_type": "display_data"
    }
   ],
   "source": [
    "f, ax = plt.subplots(figsize=(10, 10))\n",
    "\n",
    "x = pd.DataFrame(df.Region.value_counts())\n",
    "\n",
    "names = list(x.index)\n",
    "\n",
    "values = list(x.Region)\n",
    "\n",
    "sns.barplot(x=values, y=names, palette=\"RdBu_r\") "
   ]
  },
  {
   "cell_type": "markdown",
   "metadata": {
    "colab_type": "text",
    "id": "FuztX1lb4-Wa"
   },
   "source": [
    "By reviewing the State and Regions counts plots you should notice that the Region feature is nearly identical to the state and therfore we can remove from the dataframe.**<font color='teal'> Remove the `Region` column using the drop function.</font>**"
   ]
  },
  {
   "cell_type": "code",
   "execution_count": 32,
   "metadata": {
    "colab": {},
    "colab_type": "code",
    "id": "XRsTmTSX4-Wc"
   },
   "outputs": [],
   "source": [
    "try:\n",
    "    df.drop(columns='Region', inplace=True)\n",
    "except:\n",
    "    pass"
   ]
  },
  {
   "cell_type": "code",
   "execution_count": 33,
   "metadata": {},
   "outputs": [
    {
     "data": {
      "text/plain": [
       "Index(['Name', 'state', 'summit_elev', 'vertical_drop', 'base_elev', 'trams',\n",
       "       'fastEight', 'fastSixes', 'fastQuads', 'quad', 'triple', 'double',\n",
       "       'surface', 'total_chairs', 'Runs', 'TerrainParks', 'LongestRun_mi',\n",
       "       'SkiableTerrain_ac', 'Snow Making_ac', 'daysOpenLastYear', 'yearsOpen',\n",
       "       'averageSnowfall', 'AdultWeekday', 'AdultWeekend', 'projectedDaysOpen',\n",
       "       'NightSkiing_ac'],\n",
       "      dtype='object')"
      ]
     },
     "execution_count": 33,
     "metadata": {},
     "output_type": "execute_result"
    }
   ],
   "source": [
    "df.columns"
   ]
  },
  {
   "cell_type": "markdown",
   "metadata": {
    "colab_type": "text",
    "id": "HnDVhE1-ZyGF"
   },
   "source": [
    "## Anamolies & Outliers - Review boxplots"
   ]
  },
  {
   "cell_type": "markdown",
   "metadata": {
    "colab_type": "text",
    "id": "tVbFWUNb4-Wf"
   },
   "source": [
    "**<font color='teal'> Print boxplot for every column</font>**\n",
    "\n",
    "Hint: you'll see the methodology here in this article on Exploratory Data Analysis [here](nce-method-dsm-exploratory-data-analysis-bc84d4d8d3f9). "
   ]
  },
  {
   "cell_type": "code",
   "execution_count": 34,
   "metadata": {
    "colab": {},
    "colab_type": "code",
    "id": "gW3D-WlDZyGG"
   },
   "outputs": [
    {
     "data": {
      "text/plain": [
       "<matplotlib.axes._subplots.AxesSubplot at 0x129d5ce10>"
      ]
     },
     "execution_count": 34,
     "metadata": {},
     "output_type": "execute_result"
    },
    {
     "data": {
      "image/png": "[encoded data removed]",
      "text/plain": [
       "<Figure size 432x288 with 1 Axes>"
      ]
     },
     "metadata": {
      "needs_background": "light"
     },
     "output_type": "display_data"
    }
   ],
   "source": [
    "df['AdultWeekend'].plot(kind='box', title=\"Adult Weekend\")"
   ]
  },
  {
   "cell_type": "code",
   "execution_count": 35,
   "metadata": {},
   "outputs": [
    {
     "data": {
      "text/plain": [
       "<matplotlib.axes._subplots.AxesSubplot at 0x129f4ea10>"
      ]
     },
     "execution_count": 35,
     "metadata": {},
     "output_type": "execute_result"
    },
    {
     "data": {
      "image/png": "[encoded data removed]",
      "text/plain": [
       "<Figure size 864x1080 with 1 Axes>"
      ]
     },
     "metadata": {
      "needs_background": "light"
     },
     "output_type": "display_data"
    }
   ],
   "source": [
    "df.boxplot(figsize=(12,15), vert=False)"
   ]
  },
  {
   "cell_type": "markdown",
   "metadata": {
    "colab_type": "text",
    "id": "blzjJLn54-Wl"
   },
   "source": [
    "You need to create boxplots and  histograms to evaluate the data for potential outliers or data anomalies. Generally, outliers are defined as observations that differ significantly from the other values in the dataset or feature. \n",
    "\n",
    "Reviewing the distribution of values by column will help you  interpret this. Outliers are extreme values that fall far outside the mean and standard deviation of a set of observations. They  can mislead the training process in building machine learning models. Outliers may be real anomalies in the observations or artificial errors. \n",
    "\n",
    "One method for outlier analysis is extreme value analysis using a boxplot, which assumes a normal distribution. The figure below describes the components of a boxplot. Notice the outlier is the point outside the upper whisker end. \n",
    "\n",
    "![](AnnotatedBoxplot.png)  \n",
    "<font color='teal'>Follow these steps:  \n",
    "\n",
    "1. Create boxplots - earlier step\n",
    "2. Apply outlier removal using the Interquartile range or replacement \n",
    "3. Review how many observations were removed</font>\n",
    "\n",
    "Hint: Recall from your statistics prework that a common definition of an outlier is an observation lying more than (1.5 * the Interquartile range) above the third quartile, or more than just that much below the first quartile."
   ]
  },
  {
   "cell_type": "code",
   "execution_count": 36,
   "metadata": {
    "colab": {},
    "colab_type": "code",
    "id": "ILrNrad44-Wm"
   },
   "outputs": [
    {
     "data": {
      "image/png": "[encoded data removed]",
      "text/plain": [
       "<Figure size 864x1080 with 1 Axes>"
      ]
     },
     "metadata": {
      "needs_background": "light"
     },
     "output_type": "display_data"
    }
   ],
   "source": [
    "# Let's get the Interquartile range, or IQR. This is equal to Q3 - Q1. \n",
    "# First, let's use the quantile() method to get the first quartile, and store it in a variable called Q1.\n",
    "# We'll want to plug 0.25 into the quantile method. \n",
    "Q1 = df.quantile(0.25)\n",
    "\n",
    "# Now get Q3 and store in a variable called Q3. \n",
    "Q3 = df.quantile(0.75)\n",
    "\n",
    "# Now calculate the IQR, storing it in a variable called IQR.\n",
    "IQR = Q3 - Q1\n",
    "\n",
    "# Make a variable called `dfno`, and assign it the value: df[~((df < (Q1 - 1.5 * IQR)) |(df> (Q3 + 1.5 * IQR))).any(axis=1)]. \n",
    "# This filters on our existing dataframe, picking out just those observations that are NOT outliers. \n",
    "\n",
    "dfno = df[~((df < (Q1 - 1.5 * IQR)) |(df> (Q3 + 1.5 * IQR))).any(axis=1)]\n",
    "\n",
    "# We now want to make a boxplot of this new dataframe dfno. \n",
    "boxplot = dfno.boxplot(grid = False, vert = False, fontsize=15, figsize = (12,15) )\n"
   ]
  },
  {
   "cell_type": "code",
   "execution_count": 37,
   "metadata": {
    "colab": {},
    "colab_type": "code",
    "id": "EW-fSw0l4-Ws"
   },
   "outputs": [],
   "source": [
    "# Print the shapes of our dataframes df and dfno to compare the number of observations in each. "
   ]
  },
  {
   "cell_type": "code",
   "execution_count": 38,
   "metadata": {},
   "outputs": [
    {
     "data": {
      "text/plain": [
       "(330, 26)"
      ]
     },
     "execution_count": 38,
     "metadata": {},
     "output_type": "execute_result"
    }
   ],
   "source": [
    "df.shape"
   ]
  },
  {
   "cell_type": "code",
   "execution_count": 39,
   "metadata": {},
   "outputs": [
    {
     "data": {
      "text/plain": [
       "(176, 26)"
      ]
     },
     "execution_count": 39,
     "metadata": {},
     "output_type": "execute_result"
    }
   ],
   "source": [
    "dfno.shape"
   ]
  },
  {
   "cell_type": "markdown",
   "metadata": {},
   "source": [
    "There are many ways to discover and remove outliers, and what counts as a sensible way of doing so depends on your problem, your methodology for solving that problem, and the nature of your data. \n",
    "\n",
    "Each method will have its merits and demerits. As we can see, in this instance, we've lost a great many observations! \n",
    "\n",
    "There is no hard and fast rule as to which outlier removal method is best in all cases, and you will have to exercise your good judgement in arriving at an appropriate method for your problem at hand. We will cover outlier removal in more depth in units 7 (Data Wrangling) and 10 (Statistics for Exploratory Data Analysis) of the course. "
   ]
  },
  {
   "cell_type": "markdown",
   "metadata": {
    "colab_type": "text",
    "id": "Ovv76_nQlUh1"
   },
   "source": [
    "There are many possible response variables you could have identified in Step 1 of this guided capstone. However, for the rest of this guided capstone project, we will focus on increasing revenue by increasing the lift ticket prices and the number of days the resort is open per year. In this case, we need to investigate the expected lift ticket price for Big Mountain based on all the other given resort characteristics. In addition, we want to predict the number of days the resort will be open each season."
   ]
  },
  {
   "cell_type": "markdown",
   "metadata": {
    "colab_type": "text",
    "id": "-jbwlAAk4-Wx"
   },
   "source": [
    "<font color='teal'>**Review the `AdultWeekday`,`AdultWeekend` response variable distributions**</font>"
   ]
  },
  {
   "cell_type": "code",
   "execution_count": 40,
   "metadata": {
    "colab": {},
    "colab_type": "code",
    "id": "og2uVb9rlUGB"
   },
   "outputs": [
    {
     "data": {
      "text/plain": [
       "<matplotlib.axes._subplots.AxesSubplot at 0x12abda190>"
      ]
     },
     "execution_count": 40,
     "metadata": {},
     "output_type": "execute_result"
    },
    {
     "data": {
      "image/png": "[encoded data removed]",
      "text/plain": [
       "<Figure size 432x288 with 1 Axes>"
      ]
     },
     "metadata": {
      "needs_background": "light"
     },
     "output_type": "display_data"
    }
   ],
   "source": [
    "# Make a histogram of the 'AdultWeekday' column of the dfno dataframe. \n",
    "# You'll want to call hist() on that column \n",
    "dfno['AdultWeekday'].hist()"
   ]
  },
  {
   "cell_type": "code",
   "execution_count": 41,
   "metadata": {
    "colab": {},
    "colab_type": "code",
    "id": "KYqUmw2j4-W1"
   },
   "outputs": [
    {
     "data": {
      "text/plain": [
       "<matplotlib.axes._subplots.AxesSubplot at 0x12abd48d0>"
      ]
     },
     "execution_count": 41,
     "metadata": {},
     "output_type": "execute_result"
    },
    {
     "data": {
      "image/png": "[encoded data removed]",
      "text/plain": [
       "<Figure size 432x288 with 1 Axes>"
      ]
     },
     "metadata": {
      "needs_background": "light"
     },
     "output_type": "display_data"
    }
   ],
   "source": [
    "# Do the same but with the AdultWeekend column \n",
    "dfno['AdultWeekend'].hist()"
   ]
  },
  {
   "cell_type": "markdown",
   "metadata": {
    "colab_type": "text",
    "id": "SJdu2biU4-W4"
   },
   "source": [
    "<font color='teal'>**Review the `daysOpenLastYear`,`projecteDaysOpen` response variable distributions**</font>"
   ]
  },
  {
   "cell_type": "code",
   "execution_count": 42,
   "metadata": {
    "colab": {},
    "colab_type": "code",
    "id": "r_za8i8O4-W5"
   },
   "outputs": [
    {
     "data": {
      "text/plain": [
       "<matplotlib.axes._subplots.AxesSubplot at 0x12b02fb90>"
      ]
     },
     "execution_count": 42,
     "metadata": {},
     "output_type": "execute_result"
    },
    {
     "data": {
      "image/png": "[encoded data removed]",
      "text/plain": [
       "<Figure size 432x288 with 1 Axes>"
      ]
     },
     "metadata": {
      "needs_background": "light"
     },
     "output_type": "display_data"
    }
   ],
   "source": [
    "# Do the same as above! You got this :) \n",
    "dfno['daysOpenLastYear'].plot(kind='hist')"
   ]
  },
  {
   "cell_type": "code",
   "execution_count": 43,
   "metadata": {
    "colab": {},
    "colab_type": "code",
    "id": "7kA5coRq4-W9"
   },
   "outputs": [
    {
     "data": {
      "text/plain": [
       "<matplotlib.axes._subplots.AxesSubplot at 0x12b1072d0>"
      ]
     },
     "execution_count": 43,
     "metadata": {},
     "output_type": "execute_result"
    },
    {
     "data": {
      "image/png": "[encoded data removed]",
      "text/plain": [
       "<Figure size 432x288 with 1 Axes>"
      ]
     },
     "metadata": {
      "needs_background": "light"
     },
     "output_type": "display_data"
    }
   ],
   "source": [
    "dfno['projectedDaysOpen'].plot(kind='hist')"
   ]
  },
  {
   "cell_type": "markdown",
   "metadata": {
    "colab_type": "text",
    "id": "ajO60aWZ4-XA"
   },
   "source": [
    "After reviewing these respons varible distributions, there doesn't appear to be any data issues to mitigate. Now, we move on to investigating feature relationship and interactions between the features the response."
   ]
  },
  {
   "cell_type": "code",
   "execution_count": 44,
   "metadata": {},
   "outputs": [
    {
     "data": {
      "image/png": "[encoded data removed]",
      "text/plain": [
       "<Figure size 720x720 with 25 Axes>"
      ]
     },
     "metadata": {
      "needs_background": "light"
     },
     "output_type": "display_data"
    }
   ],
   "source": [
    "hist = df.hist(bins=10,figsize =(10,10))"
   ]
  },
  {
   "cell_type": "markdown",
   "metadata": {
    "colab_type": "text",
    "id": "r5harOR1X-cZ"
   },
   "source": [
    "# Explore data relationships"
   ]
  },
  {
   "cell_type": "markdown",
   "metadata": {
    "colab_type": "text",
    "id": "K1zsIb5h4-XC"
   },
   "source": [
    "<font color='teal'>**Create pairplots or what is commonly referred to as biplots**</font>\n",
    "\n",
    "Hint: pairplots are covered in this article on EDA [here](https://medium.com/@aiden.dataminer/the-data-science-method-dsm-exploratory-data-analysis-bc84d4d8d3f9). "
   ]
  },
  {
   "cell_type": "code",
   "execution_count": null,
   "metadata": {
    "colab": {},
    "colab_type": "code",
    "id": "EY1Cnmrf4-XD"
   },
   "outputs": [],
   "source": [
    "sns.pairplot(df)"
   ]
  },
  {
   "cell_type": "markdown",
   "metadata": {
    "colab_type": "text",
    "id": "idsd9zX44-XG"
   },
   "source": [
    "# Identification and creation of features"
   ]
  },
  {
   "cell_type": "markdown",
   "metadata": {
    "colab_type": "text",
    "id": "DOi-cwQx4-XH"
   },
   "source": [
    "<font color='teal'>**Create a Pearson correlation heatmap**</font>"
   ]
  },
  {
   "cell_type": "code",
   "execution_count": 46,
   "metadata": {
    "colab": {},
    "colab_type": "code",
    "id": "ehAKkcQz4-XI"
   },
   "outputs": [
    {
     "data": {
      "text/html": [
       "<style  type=\"text/css\" >\n",
       "    #T_23e0d20c_8e4d_11ea_999b_8c85901a33efrow0_col0 {\n",
       "            background-color:  #b40426;\n",
       "            color:  #f1f1f1;\n",
       "        }    #T_23e0d20c_8e4d_11ea_999b_8c85901a33efrow0_col1 {\n",
       "            background-color:  #f39778;\n",
       "            color:  #000000;\n",
       "        }    #T_23e0d20c_8e4d_11ea_999b_8c85901a33efrow0_col2 {\n",
       "            background-color:  #ba162b;\n",
       "            color:  #f1f1f1;\n",
       "        }    #T_23e0d20c_8e4d_11ea_999b_8c85901a33efrow0_col3 {\n",
       "            background-color:  #c0d4f5;\n",
       "            color:  #000000;\n",
       "        }    #T_23e0d20c_8e4d_11ea_999b_8c85901a33efrow0_col4 {\n",
       "            background-color:  #6282ea;\n",
       "            color:  #000000;\n",
       "        }    #T_23e0d20c_8e4d_11ea_999b_8c85901a33efrow0_col5 {\n",
       "            background-color:  #a1c0ff;\n",
       "            color:  #000000;\n",
       "        }    #T_23e0d20c_8e4d_11ea_999b_8c85901a33efrow0_col6 {\n",
       "            background-color:  #d2dbe8;\n",
       "            color:  #000000;\n",
       "        }    #T_23e0d20c_8e4d_11ea_999b_8c85901a33efrow0_col7 {\n",
       "            background-color:  #5977e3;\n",
       "            color:  #000000;\n",
       "        }    #T_23e0d20c_8e4d_11ea_999b_8c85901a33efrow0_col8 {\n",
       "            background-color:  #80a3fa;\n",
       "            color:  #000000;\n",
       "        }    #T_23e0d20c_8e4d_11ea_999b_8c85901a33efrow0_col9 {\n",
       "            background-color:  #7da0f9;\n",
       "            color:  #000000;\n",
       "        }    #T_23e0d20c_8e4d_11ea_999b_8c85901a33efrow0_col10 {\n",
       "            background-color:  #4e68d8;\n",
       "            color:  #000000;\n",
       "        }    #T_23e0d20c_8e4d_11ea_999b_8c85901a33efrow0_col11 {\n",
       "            background-color:  #9ebeff;\n",
       "            color:  #000000;\n",
       "        }    #T_23e0d20c_8e4d_11ea_999b_8c85901a33efrow0_col12 {\n",
       "            background-color:  #efcebd;\n",
       "            color:  #000000;\n",
       "        }    #T_23e0d20c_8e4d_11ea_999b_8c85901a33efrow0_col13 {\n",
       "            background-color:  #6282ea;\n",
       "            color:  #000000;\n",
       "        }    #T_23e0d20c_8e4d_11ea_999b_8c85901a33efrow0_col14 {\n",
       "            background-color:  #efcfbf;\n",
       "            color:  #000000;\n",
       "        }    #T_23e0d20c_8e4d_11ea_999b_8c85901a33efrow0_col15 {\n",
       "            background-color:  #d9dce1;\n",
       "            color:  #000000;\n",
       "        }    #T_23e0d20c_8e4d_11ea_999b_8c85901a33efrow0_col16 {\n",
       "            background-color:  #89acfd;\n",
       "            color:  #000000;\n",
       "        }    #T_23e0d20c_8e4d_11ea_999b_8c85901a33efrow0_col17 {\n",
       "            background-color:  #c6d6f1;\n",
       "            color:  #000000;\n",
       "        }    #T_23e0d20c_8e4d_11ea_999b_8c85901a33efrow0_col18 {\n",
       "            background-color:  #3f53c6;\n",
       "            color:  #f1f1f1;\n",
       "        }    #T_23e0d20c_8e4d_11ea_999b_8c85901a33efrow0_col19 {\n",
       "            background-color:  #f6a586;\n",
       "            color:  #000000;\n",
       "        }    #T_23e0d20c_8e4d_11ea_999b_8c85901a33efrow0_col20 {\n",
       "            background-color:  #d7dce3;\n",
       "            color:  #000000;\n",
       "        }    #T_23e0d20c_8e4d_11ea_999b_8c85901a33efrow0_col21 {\n",
       "            background-color:  #bad0f8;\n",
       "            color:  #000000;\n",
       "        }    #T_23e0d20c_8e4d_11ea_999b_8c85901a33efrow0_col22 {\n",
       "            background-color:  #bcd2f7;\n",
       "            color:  #000000;\n",
       "        }    #T_23e0d20c_8e4d_11ea_999b_8c85901a33efrow0_col23 {\n",
       "            background-color:  #3f53c6;\n",
       "            color:  #f1f1f1;\n",
       "        }    #T_23e0d20c_8e4d_11ea_999b_8c85901a33efrow1_col0 {\n",
       "            background-color:  #f18f71;\n",
       "            color:  #000000;\n",
       "        }    #T_23e0d20c_8e4d_11ea_999b_8c85901a33efrow1_col1 {\n",
       "            background-color:  #b40426;\n",
       "            color:  #f1f1f1;\n",
       "        }    #T_23e0d20c_8e4d_11ea_999b_8c85901a33efrow1_col2 {\n",
       "            background-color:  #f7bca1;\n",
       "            color:  #000000;\n",
       "        }    #T_23e0d20c_8e4d_11ea_999b_8c85901a33efrow1_col3 {\n",
       "            background-color:  #f5c4ac;\n",
       "            color:  #000000;\n",
       "        }    #T_23e0d20c_8e4d_11ea_999b_8c85901a33efrow1_col4 {\n",
       "            background-color:  #7da0f9;\n",
       "            color:  #000000;\n",
       "        }    #T_23e0d20c_8e4d_11ea_999b_8c85901a33efrow1_col5 {\n",
       "            background-color:  #c6d6f1;\n",
       "            color:  #000000;\n",
       "        }    #T_23e0d20c_8e4d_11ea_999b_8c85901a33efrow1_col6 {\n",
       "            background-color:  #f7b194;\n",
       "            color:  #000000;\n",
       "        }    #T_23e0d20c_8e4d_11ea_999b_8c85901a33efrow1_col7 {\n",
       "            background-color:  #86a9fc;\n",
       "            color:  #000000;\n",
       "        }    #T_23e0d20c_8e4d_11ea_999b_8c85901a33efrow1_col8 {\n",
       "            background-color:  #9abbff;\n",
       "            color:  #000000;\n",
       "        }    #T_23e0d20c_8e4d_11ea_999b_8c85901a33efrow1_col9 {\n",
       "            background-color:  #90b2fe;\n",
       "            color:  #000000;\n",
       "        }    #T_23e0d20c_8e4d_11ea_999b_8c85901a33efrow1_col10 {\n",
       "            background-color:  #7597f6;\n",
       "            color:  #000000;\n",
       "        }    #T_23e0d20c_8e4d_11ea_999b_8c85901a33efrow1_col11 {\n",
       "            background-color:  #e9d5cb;\n",
       "            color:  #000000;\n",
       "        }    #T_23e0d20c_8e4d_11ea_999b_8c85901a33efrow1_col12 {\n",
       "            background-color:  #ec8165;\n",
       "            color:  #000000;\n",
       "        }    #T_23e0d20c_8e4d_11ea_999b_8c85901a33efrow1_col13 {\n",
       "            background-color:  #a3c2fe;\n",
       "            color:  #000000;\n",
       "        }    #T_23e0d20c_8e4d_11ea_999b_8c85901a33efrow1_col14 {\n",
       "            background-color:  #f08a6c;\n",
       "            color:  #000000;\n",
       "        }    #T_23e0d20c_8e4d_11ea_999b_8c85901a33efrow1_col15 {\n",
       "            background-color:  #e8d6cc;\n",
       "            color:  #000000;\n",
       "        }    #T_23e0d20c_8e4d_11ea_999b_8c85901a33efrow1_col16 {\n",
       "            background-color:  #cad8ef;\n",
       "            color:  #000000;\n",
       "        }    #T_23e0d20c_8e4d_11ea_999b_8c85901a33efrow1_col17 {\n",
       "            background-color:  #e2dad5;\n",
       "            color:  #000000;\n",
       "        }    #T_23e0d20c_8e4d_11ea_999b_8c85901a33efrow1_col18 {\n",
       "            background-color:  #3d50c3;\n",
       "            color:  #f1f1f1;\n",
       "        }    #T_23e0d20c_8e4d_11ea_999b_8c85901a33efrow1_col19 {\n",
       "            background-color:  #f7af91;\n",
       "            color:  #000000;\n",
       "        }    #T_23e0d20c_8e4d_11ea_999b_8c85901a33efrow1_col20 {\n",
       "            background-color:  #f5c0a7;\n",
       "            color:  #000000;\n",
       "        }    #T_23e0d20c_8e4d_11ea_999b_8c85901a33efrow1_col21 {\n",
       "            background-color:  #efcfbf;\n",
       "            color:  #000000;\n",
       "        }    #T_23e0d20c_8e4d_11ea_999b_8c85901a33efrow1_col22 {\n",
       "            background-color:  #dddcdc;\n",
       "            color:  #000000;\n",
       "        }    #T_23e0d20c_8e4d_11ea_999b_8c85901a33efrow1_col23 {\n",
       "            background-color:  #5673e0;\n",
       "            color:  #000000;\n",
       "        }    #T_23e0d20c_8e4d_11ea_999b_8c85901a33efrow2_col0 {\n",
       "            background-color:  #ba162b;\n",
       "            color:  #f1f1f1;\n",
       "        }    #T_23e0d20c_8e4d_11ea_999b_8c85901a33efrow2_col1 {\n",
       "            background-color:  #f3c7b1;\n",
       "            color:  #000000;\n",
       "        }    #T_23e0d20c_8e4d_11ea_999b_8c85901a33efrow2_col2 {\n",
       "            background-color:  #b40426;\n",
       "            color:  #f1f1f1;\n",
       "        }    #T_23e0d20c_8e4d_11ea_999b_8c85901a33efrow2_col3 {\n",
       "            background-color:  #9ebeff;\n",
       "            color:  #000000;\n",
       "        }    #T_23e0d20c_8e4d_11ea_999b_8c85901a33efrow2_col4 {\n",
       "            background-color:  #5875e1;\n",
       "            color:  #000000;\n",
       "        }    #T_23e0d20c_8e4d_11ea_999b_8c85901a33efrow2_col5 {\n",
       "            background-color:  #90b2fe;\n",
       "            color:  #000000;\n",
       "        }    #T_23e0d20c_8e4d_11ea_999b_8c85901a33efrow2_col6 {\n",
       "            background-color:  #b1cbfc;\n",
       "            color:  #000000;\n",
       "        }    #T_23e0d20c_8e4d_11ea_999b_8c85901a33efrow2_col7 {\n",
       "            background-color:  #4a63d3;\n",
       "            color:  #f1f1f1;\n",
       "        }    #T_23e0d20c_8e4d_11ea_999b_8c85901a33efrow2_col8 {\n",
       "            background-color:  #7597f6;\n",
       "            color:  #000000;\n",
       "        }    #T_23e0d20c_8e4d_11ea_999b_8c85901a33efrow2_col9 {\n",
       "            background-color:  #7396f5;\n",
       "            color:  #000000;\n",
       "        }    #T_23e0d20c_8e4d_11ea_999b_8c85901a33efrow2_col10 {\n",
       "            background-color:  #455cce;\n",
       "            color:  #f1f1f1;\n",
       "        }    #T_23e0d20c_8e4d_11ea_999b_8c85901a33efrow2_col11 {\n",
       "            background-color:  #7b9ff9;\n",
       "            color:  #000000;\n",
       "        }    #T_23e0d20c_8e4d_11ea_999b_8c85901a33efrow2_col12 {\n",
       "            background-color:  #d4dbe6;\n",
       "            color:  #000000;\n",
       "        }    #T_23e0d20c_8e4d_11ea_999b_8c85901a33efrow2_col13 {\n",
       "            background-color:  #4e68d8;\n",
       "            color:  #000000;\n",
       "        }    #T_23e0d20c_8e4d_11ea_999b_8c85901a33efrow2_col14 {\n",
       "            background-color:  #d6dce4;\n",
       "            color:  #000000;\n",
       "        }    #T_23e0d20c_8e4d_11ea_999b_8c85901a33efrow2_col15 {\n",
       "            background-color:  #c9d7f0;\n",
       "            color:  #000000;\n",
       "        }    #T_23e0d20c_8e4d_11ea_999b_8c85901a33efrow2_col16 {\n",
       "            background-color:  #7093f3;\n",
       "            color:  #000000;\n",
       "        }    #T_23e0d20c_8e4d_11ea_999b_8c85901a33efrow2_col17 {\n",
       "            background-color:  #aec9fc;\n",
       "            color:  #000000;\n",
       "        }    #T_23e0d20c_8e4d_11ea_999b_8c85901a33efrow2_col18 {\n",
       "            background-color:  #3f53c6;\n",
       "            color:  #f1f1f1;\n",
       "        }    #T_23e0d20c_8e4d_11ea_999b_8c85901a33efrow2_col19 {\n",
       "            background-color:  #f7b89c;\n",
       "            color:  #000000;\n",
       "        }    #T_23e0d20c_8e4d_11ea_999b_8c85901a33efrow2_col20 {\n",
       "            background-color:  #bed2f6;\n",
       "            color:  #000000;\n",
       "        }    #T_23e0d20c_8e4d_11ea_999b_8c85901a33efrow2_col21 {\n",
       "            background-color:  #97b8ff;\n",
       "            color:  #000000;\n",
       "        }    #T_23e0d20c_8e4d_11ea_999b_8c85901a33efrow2_col22 {\n",
       "            background-color:  #a3c2fe;\n",
       "            color:  #000000;\n",
       "        }    #T_23e0d20c_8e4d_11ea_999b_8c85901a33efrow2_col23 {\n",
       "            background-color:  #3b4cc0;\n",
       "            color:  #f1f1f1;\n",
       "        }    #T_23e0d20c_8e4d_11ea_999b_8c85901a33efrow3_col0 {\n",
       "            background-color:  #cad8ef;\n",
       "            color:  #000000;\n",
       "        }    #T_23e0d20c_8e4d_11ea_999b_8c85901a33efrow3_col1 {\n",
       "            background-color:  #f3c7b1;\n",
       "            color:  #000000;\n",
       "        }    #T_23e0d20c_8e4d_11ea_999b_8c85901a33efrow3_col2 {\n",
       "            background-color:  #aec9fc;\n",
       "            color:  #000000;\n",
       "        }    #T_23e0d20c_8e4d_11ea_999b_8c85901a33efrow3_col3 {\n",
       "            background-color:  #b40426;\n",
       "            color:  #f1f1f1;\n",
       "        }    #T_23e0d20c_8e4d_11ea_999b_8c85901a33efrow3_col4 {\n",
       "            background-color:  #5b7ae5;\n",
       "            color:  #000000;\n",
       "        }    #T_23e0d20c_8e4d_11ea_999b_8c85901a33efrow3_col5 {\n",
       "            background-color:  #ebd3c6;\n",
       "            color:  #000000;\n",
       "        }    #T_23e0d20c_8e4d_11ea_999b_8c85901a33efrow3_col6 {\n",
       "            background-color:  #f7b89c;\n",
       "            color:  #000000;\n",
       "        }    #T_23e0d20c_8e4d_11ea_999b_8c85901a33efrow3_col7 {\n",
       "            background-color:  #9fbfff;\n",
       "            color:  #000000;\n",
       "        }    #T_23e0d20c_8e4d_11ea_999b_8c85901a33efrow3_col8 {\n",
       "            background-color:  #9ebeff;\n",
       "            color:  #000000;\n",
       "        }    #T_23e0d20c_8e4d_11ea_999b_8c85901a33efrow3_col9 {\n",
       "            background-color:  #7093f3;\n",
       "            color:  #000000;\n",
       "        }    #T_23e0d20c_8e4d_11ea_999b_8c85901a33efrow3_col10 {\n",
       "            background-color:  #adc9fd;\n",
       "            color:  #000000;\n",
       "        }    #T_23e0d20c_8e4d_11ea_999b_8c85901a33efrow3_col11 {\n",
       "            background-color:  #f6bda2;\n",
       "            color:  #000000;\n",
       "        }    #T_23e0d20c_8e4d_11ea_999b_8c85901a33efrow3_col12 {\n",
       "            background-color:  #f7ad90;\n",
       "            color:  #000000;\n",
       "        }    #T_23e0d20c_8e4d_11ea_999b_8c85901a33efrow3_col13 {\n",
       "            background-color:  #9fbfff;\n",
       "            color:  #000000;\n",
       "        }    #T_23e0d20c_8e4d_11ea_999b_8c85901a33efrow3_col14 {\n",
       "            background-color:  #f3c7b1;\n",
       "            color:  #000000;\n",
       "        }    #T_23e0d20c_8e4d_11ea_999b_8c85901a33efrow3_col15 {\n",
       "            background-color:  #b2ccfb;\n",
       "            color:  #000000;\n",
       "        }    #T_23e0d20c_8e4d_11ea_999b_8c85901a33efrow3_col16 {\n",
       "            background-color:  #e9d5cb;\n",
       "            color:  #000000;\n",
       "        }    #T_23e0d20c_8e4d_11ea_999b_8c85901a33efrow3_col17 {\n",
       "            background-color:  #abc8fd;\n",
       "            color:  #000000;\n",
       "        }    #T_23e0d20c_8e4d_11ea_999b_8c85901a33efrow3_col18 {\n",
       "            background-color:  #4358cb;\n",
       "            color:  #f1f1f1;\n",
       "        }    #T_23e0d20c_8e4d_11ea_999b_8c85901a33efrow3_col19 {\n",
       "            background-color:  #b3cdfb;\n",
       "            color:  #000000;\n",
       "        }    #T_23e0d20c_8e4d_11ea_999b_8c85901a33efrow3_col20 {\n",
       "            background-color:  #c6d6f1;\n",
       "            color:  #000000;\n",
       "        }    #T_23e0d20c_8e4d_11ea_999b_8c85901a33efrow3_col21 {\n",
       "            background-color:  #c3d5f4;\n",
       "            color:  #000000;\n",
       "        }    #T_23e0d20c_8e4d_11ea_999b_8c85901a33efrow3_col22 {\n",
       "            background-color:  #799cf8;\n",
       "            color:  #000000;\n",
       "        }    #T_23e0d20c_8e4d_11ea_999b_8c85901a33efrow3_col23 {\n",
       "            background-color:  #4f69d9;\n",
       "            color:  #000000;\n",
       "        }    #T_23e0d20c_8e4d_11ea_999b_8c85901a33efrow4_col0 {\n",
       "            background-color:  #84a7fc;\n",
       "            color:  #000000;\n",
       "        }    #T_23e0d20c_8e4d_11ea_999b_8c85901a33efrow4_col1 {\n",
       "            background-color:  #86a9fc;\n",
       "            color:  #000000;\n",
       "        }    #T_23e0d20c_8e4d_11ea_999b_8c85901a33efrow4_col2 {\n",
       "            background-color:  #80a3fa;\n",
       "            color:  #000000;\n",
       "        }    #T_23e0d20c_8e4d_11ea_999b_8c85901a33efrow4_col3 {\n",
       "            background-color:  #6e90f2;\n",
       "            color:  #000000;\n",
       "        }    #T_23e0d20c_8e4d_11ea_999b_8c85901a33efrow4_col4 {\n",
       "            background-color:  #b40426;\n",
       "            color:  #f1f1f1;\n",
       "        }    #T_23e0d20c_8e4d_11ea_999b_8c85901a33efrow4_col5 {\n",
       "            background-color:  #7da0f9;\n",
       "            color:  #000000;\n",
       "        }    #T_23e0d20c_8e4d_11ea_999b_8c85901a33efrow4_col6 {\n",
       "            background-color:  #5f7fe8;\n",
       "            color:  #000000;\n",
       "        }    #T_23e0d20c_8e4d_11ea_999b_8c85901a33efrow4_col7 {\n",
       "            background-color:  #7699f6;\n",
       "            color:  #000000;\n",
       "        }    #T_23e0d20c_8e4d_11ea_999b_8c85901a33efrow4_col8 {\n",
       "            background-color:  #82a6fb;\n",
       "            color:  #000000;\n",
       "        }    #T_23e0d20c_8e4d_11ea_999b_8c85901a33efrow4_col9 {\n",
       "            background-color:  #7a9df8;\n",
       "            color:  #000000;\n",
       "        }    #T_23e0d20c_8e4d_11ea_999b_8c85901a33efrow4_col10 {\n",
       "            background-color:  #a7c5fe;\n",
       "            color:  #000000;\n",
       "        }    #T_23e0d20c_8e4d_11ea_999b_8c85901a33efrow4_col11 {\n",
       "            background-color:  #90b2fe;\n",
       "            color:  #000000;\n",
       "        }    #T_23e0d20c_8e4d_11ea_999b_8c85901a33efrow4_col12 {\n",
       "            background-color:  #abc8fd;\n",
       "            color:  #000000;\n",
       "        }    #T_23e0d20c_8e4d_11ea_999b_8c85901a33efrow4_col13 {\n",
       "            background-color:  #5e7de7;\n",
       "            color:  #000000;\n",
       "        }    #T_23e0d20c_8e4d_11ea_999b_8c85901a33efrow4_col14 {\n",
       "            background-color:  #9fbfff;\n",
       "            color:  #000000;\n",
       "        }    #T_23e0d20c_8e4d_11ea_999b_8c85901a33efrow4_col15 {\n",
       "            background-color:  #7295f4;\n",
       "            color:  #000000;\n",
       "        }    #T_23e0d20c_8e4d_11ea_999b_8c85901a33efrow4_col16 {\n",
       "            background-color:  #4c66d6;\n",
       "            color:  #000000;\n",
       "        }    #T_23e0d20c_8e4d_11ea_999b_8c85901a33efrow4_col17 {\n",
       "            background-color:  #4358cb;\n",
       "            color:  #f1f1f1;\n",
       "        }    #T_23e0d20c_8e4d_11ea_999b_8c85901a33efrow4_col18 {\n",
       "            background-color:  #4358cb;\n",
       "            color:  #f1f1f1;\n",
       "        }    #T_23e0d20c_8e4d_11ea_999b_8c85901a33efrow4_col19 {\n",
       "            background-color:  #7597f6;\n",
       "            color:  #000000;\n",
       "        }    #T_23e0d20c_8e4d_11ea_999b_8c85901a33efrow4_col20 {\n",
       "            background-color:  #4055c8;\n",
       "            color:  #f1f1f1;\n",
       "        }    #T_23e0d20c_8e4d_11ea_999b_8c85901a33efrow4_col21 {\n",
       "            background-color:  #3b4cc0;\n",
       "            color:  #f1f1f1;\n",
       "        }    #T_23e0d20c_8e4d_11ea_999b_8c85901a33efrow4_col22 {\n",
       "            background-color:  #4358cb;\n",
       "            color:  #f1f1f1;\n",
       "        }    #T_23e0d20c_8e4d_11ea_999b_8c85901a33efrow4_col23 {\n",
       "            background-color:  #6282ea;\n",
       "            color:  #000000;\n",
       "        }    #T_23e0d20c_8e4d_11ea_999b_8c85901a33efrow5_col0 {\n",
       "            background-color:  #b3cdfb;\n",
       "            color:  #000000;\n",
       "        }    #T_23e0d20c_8e4d_11ea_999b_8c85901a33efrow5_col1 {\n",
       "            background-color:  #c6d6f1;\n",
       "            color:  #000000;\n",
       "        }    #T_23e0d20c_8e4d_11ea_999b_8c85901a33efrow5_col2 {\n",
       "            background-color:  #a9c6fd;\n",
       "            color:  #000000;\n",
       "        }    #T_23e0d20c_8e4d_11ea_999b_8c85901a33efrow5_col3 {\n",
       "            background-color:  #edd1c2;\n",
       "            color:  #000000;\n",
       "        }    #T_23e0d20c_8e4d_11ea_999b_8c85901a33efrow5_col4 {\n",
       "            background-color:  #7295f4;\n",
       "            color:  #000000;\n",
       "        }    #T_23e0d20c_8e4d_11ea_999b_8c85901a33efrow5_col5 {\n",
       "            background-color:  #b40426;\n",
       "            color:  #f1f1f1;\n",
       "        }    #T_23e0d20c_8e4d_11ea_999b_8c85901a33efrow5_col6 {\n",
       "            background-color:  #cfdaea;\n",
       "            color:  #000000;\n",
       "        }    #T_23e0d20c_8e4d_11ea_999b_8c85901a33efrow5_col7 {\n",
       "            background-color:  #80a3fa;\n",
       "            color:  #000000;\n",
       "        }    #T_23e0d20c_8e4d_11ea_999b_8c85901a33efrow5_col8 {\n",
       "            background-color:  #9ebeff;\n",
       "            color:  #000000;\n",
       "        }    #T_23e0d20c_8e4d_11ea_999b_8c85901a33efrow5_col9 {\n",
       "            background-color:  #80a3fa;\n",
       "            color:  #000000;\n",
       "        }    #T_23e0d20c_8e4d_11ea_999b_8c85901a33efrow5_col10 {\n",
       "            background-color:  #cad8ef;\n",
       "            color:  #000000;\n",
       "        }    #T_23e0d20c_8e4d_11ea_999b_8c85901a33efrow5_col11 {\n",
       "            background-color:  #f2cbb7;\n",
       "            color:  #000000;\n",
       "        }    #T_23e0d20c_8e4d_11ea_999b_8c85901a33efrow5_col12 {\n",
       "            background-color:  #ecd3c5;\n",
       "            color:  #000000;\n",
       "        }    #T_23e0d20c_8e4d_11ea_999b_8c85901a33efrow5_col13 {\n",
       "            background-color:  #a6c4fe;\n",
       "            color:  #000000;\n",
       "        }    #T_23e0d20c_8e4d_11ea_999b_8c85901a33efrow5_col14 {\n",
       "            background-color:  #cbd8ee;\n",
       "            color:  #000000;\n",
       "        }    #T_23e0d20c_8e4d_11ea_999b_8c85901a33efrow5_col15 {\n",
       "            background-color:  #a2c1ff;\n",
       "            color:  #000000;\n",
       "        }    #T_23e0d20c_8e4d_11ea_999b_8c85901a33efrow5_col16 {\n",
       "            background-color:  #cad8ef;\n",
       "            color:  #000000;\n",
       "        }    #T_23e0d20c_8e4d_11ea_999b_8c85901a33efrow5_col17 {\n",
       "            background-color:  #8fb1fe;\n",
       "            color:  #000000;\n",
       "        }    #T_23e0d20c_8e4d_11ea_999b_8c85901a33efrow5_col18 {\n",
       "            background-color:  #4358cb;\n",
       "            color:  #f1f1f1;\n",
       "        }    #T_23e0d20c_8e4d_11ea_999b_8c85901a33efrow5_col19 {\n",
       "            background-color:  #90b2fe;\n",
       "            color:  #000000;\n",
       "        }    #T_23e0d20c_8e4d_11ea_999b_8c85901a33efrow5_col20 {\n",
       "            background-color:  #88abfd;\n",
       "            color:  #000000;\n",
       "        }    #T_23e0d20c_8e4d_11ea_999b_8c85901a33efrow5_col21 {\n",
       "            background-color:  #85a8fc;\n",
       "            color:  #000000;\n",
       "        }    #T_23e0d20c_8e4d_11ea_999b_8c85901a33efrow5_col22 {\n",
       "            background-color:  #7699f6;\n",
       "            color:  #000000;\n",
       "        }    #T_23e0d20c_8e4d_11ea_999b_8c85901a33efrow5_col23 {\n",
       "            background-color:  #5673e0;\n",
       "            color:  #000000;\n",
       "        }    #T_23e0d20c_8e4d_11ea_999b_8c85901a33efrow6_col0 {\n",
       "            background-color:  #e3d9d3;\n",
       "            color:  #000000;\n",
       "        }    #T_23e0d20c_8e4d_11ea_999b_8c85901a33efrow6_col1 {\n",
       "            background-color:  #f7ac8e;\n",
       "            color:  #000000;\n",
       "        }    #T_23e0d20c_8e4d_11ea_999b_8c85901a33efrow6_col2 {\n",
       "            background-color:  #ccd9ed;\n",
       "            color:  #000000;\n",
       "        }    #T_23e0d20c_8e4d_11ea_999b_8c85901a33efrow6_col3 {\n",
       "            background-color:  #f7b093;\n",
       "            color:  #000000;\n",
       "        }    #T_23e0d20c_8e4d_11ea_999b_8c85901a33efrow6_col4 {\n",
       "            background-color:  #6282ea;\n",
       "            color:  #000000;\n",
       "        }    #T_23e0d20c_8e4d_11ea_999b_8c85901a33efrow6_col5 {\n",
       "            background-color:  #d7dce3;\n",
       "            color:  #000000;\n",
       "        }    #T_23e0d20c_8e4d_11ea_999b_8c85901a33efrow6_col6 {\n",
       "            background-color:  #b40426;\n",
       "            color:  #f1f1f1;\n",
       "        }    #T_23e0d20c_8e4d_11ea_999b_8c85901a33efrow6_col7 {\n",
       "            background-color:  #89acfd;\n",
       "            color:  #000000;\n",
       "        }    #T_23e0d20c_8e4d_11ea_999b_8c85901a33efrow6_col8 {\n",
       "            background-color:  #a7c5fe;\n",
       "            color:  #000000;\n",
       "        }    #T_23e0d20c_8e4d_11ea_999b_8c85901a33efrow6_col9 {\n",
       "            background-color:  #7a9df8;\n",
       "            color:  #000000;\n",
       "        }    #T_23e0d20c_8e4d_11ea_999b_8c85901a33efrow6_col10 {\n",
       "            background-color:  #bfd3f6;\n",
       "            color:  #000000;\n",
       "        }    #T_23e0d20c_8e4d_11ea_999b_8c85901a33efrow6_col11 {\n",
       "            background-color:  #f39577;\n",
       "            color:  #000000;\n",
       "        }    #T_23e0d20c_8e4d_11ea_999b_8c85901a33efrow6_col12 {\n",
       "            background-color:  #f39778;\n",
       "            color:  #000000;\n",
       "        }    #T_23e0d20c_8e4d_11ea_999b_8c85901a33efrow6_col13 {\n",
       "            background-color:  #c3d5f4;\n",
       "            color:  #000000;\n",
       "        }    #T_23e0d20c_8e4d_11ea_999b_8c85901a33efrow6_col14 {\n",
       "            background-color:  #f4c5ad;\n",
       "            color:  #000000;\n",
       "        }    #T_23e0d20c_8e4d_11ea_999b_8c85901a33efrow6_col15 {\n",
       "            background-color:  #c3d5f4;\n",
       "            color:  #000000;\n",
       "        }    #T_23e0d20c_8e4d_11ea_999b_8c85901a33efrow6_col16 {\n",
       "            background-color:  #e2dad5;\n",
       "            color:  #000000;\n",
       "        }    #T_23e0d20c_8e4d_11ea_999b_8c85901a33efrow6_col17 {\n",
       "            background-color:  #ccd9ed;\n",
       "            color:  #000000;\n",
       "        }    #T_23e0d20c_8e4d_11ea_999b_8c85901a33efrow6_col18 {\n",
       "            background-color:  #3f53c6;\n",
       "            color:  #f1f1f1;\n",
       "        }    #T_23e0d20c_8e4d_11ea_999b_8c85901a33efrow6_col19 {\n",
       "            background-color:  #d2dbe8;\n",
       "            color:  #000000;\n",
       "        }    #T_23e0d20c_8e4d_11ea_999b_8c85901a33efrow6_col20 {\n",
       "            background-color:  #e9d5cb;\n",
       "            color:  #000000;\n",
       "        }    #T_23e0d20c_8e4d_11ea_999b_8c85901a33efrow6_col21 {\n",
       "            background-color:  #e4d9d2;\n",
       "            color:  #000000;\n",
       "        }    #T_23e0d20c_8e4d_11ea_999b_8c85901a33efrow6_col22 {\n",
       "            background-color:  #aec9fc;\n",
       "            color:  #000000;\n",
       "        }    #T_23e0d20c_8e4d_11ea_999b_8c85901a33efrow6_col23 {\n",
       "            background-color:  #6485ec;\n",
       "            color:  #000000;\n",
       "        }    #T_23e0d20c_8e4d_11ea_999b_8c85901a33efrow7_col0 {\n",
       "            background-color:  #6384eb;\n",
       "            color:  #000000;\n",
       "        }    #T_23e0d20c_8e4d_11ea_999b_8c85901a33efrow7_col1 {\n",
       "            background-color:  #7a9df8;\n",
       "            color:  #000000;\n",
       "        }    #T_23e0d20c_8e4d_11ea_999b_8c85901a33efrow7_col2 {\n",
       "            background-color:  #5a78e4;\n",
       "            color:  #000000;\n",
       "        }    #T_23e0d20c_8e4d_11ea_999b_8c85901a33efrow7_col3 {\n",
       "            background-color:  #9bbcff;\n",
       "            color:  #000000;\n",
       "        }    #T_23e0d20c_8e4d_11ea_999b_8c85901a33efrow7_col4 {\n",
       "            background-color:  #5e7de7;\n",
       "            color:  #000000;\n",
       "        }    #T_23e0d20c_8e4d_11ea_999b_8c85901a33efrow7_col5 {\n",
       "            background-color:  #7396f5;\n",
       "            color:  #000000;\n",
       "        }    #T_23e0d20c_8e4d_11ea_999b_8c85901a33efrow7_col6 {\n",
       "            background-color:  #6f92f3;\n",
       "            color:  #000000;\n",
       "        }    #T_23e0d20c_8e4d_11ea_999b_8c85901a33efrow7_col7 {\n",
       "            background-color:  #b40426;\n",
       "            color:  #f1f1f1;\n",
       "        }    #T_23e0d20c_8e4d_11ea_999b_8c85901a33efrow7_col8 {\n",
       "            background-color:  #7295f4;\n",
       "            color:  #000000;\n",
       "        }    #T_23e0d20c_8e4d_11ea_999b_8c85901a33efrow7_col9 {\n",
       "            background-color:  #3b4cc0;\n",
       "            color:  #f1f1f1;\n",
       "        }    #T_23e0d20c_8e4d_11ea_999b_8c85901a33efrow7_col10 {\n",
       "            background-color:  #7ea1fa;\n",
       "            color:  #000000;\n",
       "        }    #T_23e0d20c_8e4d_11ea_999b_8c85901a33efrow7_col11 {\n",
       "            background-color:  #b3cdfb;\n",
       "            color:  #000000;\n",
       "        }    #T_23e0d20c_8e4d_11ea_999b_8c85901a33efrow7_col12 {\n",
       "            background-color:  #a6c4fe;\n",
       "            color:  #000000;\n",
       "        }    #T_23e0d20c_8e4d_11ea_999b_8c85901a33efrow7_col13 {\n",
       "            background-color:  #89acfd;\n",
       "            color:  #000000;\n",
       "        }    #T_23e0d20c_8e4d_11ea_999b_8c85901a33efrow7_col14 {\n",
       "            background-color:  #9abbff;\n",
       "            color:  #000000;\n",
       "        }    #T_23e0d20c_8e4d_11ea_999b_8c85901a33efrow7_col15 {\n",
       "            background-color:  #5572df;\n",
       "            color:  #000000;\n",
       "        }    #T_23e0d20c_8e4d_11ea_999b_8c85901a33efrow7_col16 {\n",
       "            background-color:  #82a6fb;\n",
       "            color:  #000000;\n",
       "        }    #T_23e0d20c_8e4d_11ea_999b_8c85901a33efrow7_col17 {\n",
       "            background-color:  #7295f4;\n",
       "            color:  #000000;\n",
       "        }    #T_23e0d20c_8e4d_11ea_999b_8c85901a33efrow7_col18 {\n",
       "            background-color:  #3d50c3;\n",
       "            color:  #f1f1f1;\n",
       "        }    #T_23e0d20c_8e4d_11ea_999b_8c85901a33efrow7_col19 {\n",
       "            background-color:  #6e90f2;\n",
       "            color:  #000000;\n",
       "        }    #T_23e0d20c_8e4d_11ea_999b_8c85901a33efrow7_col20 {\n",
       "            background-color:  #92b4fe;\n",
       "            color:  #000000;\n",
       "        }    #T_23e0d20c_8e4d_11ea_999b_8c85901a33efrow7_col21 {\n",
       "            background-color:  #9ebeff;\n",
       "            color:  #000000;\n",
       "        }    #T_23e0d20c_8e4d_11ea_999b_8c85901a33efrow7_col22 {\n",
       "            background-color:  #7699f6;\n",
       "            color:  #000000;\n",
       "        }    #T_23e0d20c_8e4d_11ea_999b_8c85901a33efrow7_col23 {\n",
       "            background-color:  #9abbff;\n",
       "            color:  #000000;\n",
       "        }    #T_23e0d20c_8e4d_11ea_999b_8c85901a33efrow8_col0 {\n",
       "            background-color:  #9dbdff;\n",
       "            color:  #000000;\n",
       "        }    #T_23e0d20c_8e4d_11ea_999b_8c85901a33efrow8_col1 {\n",
       "            background-color:  #a1c0ff;\n",
       "            color:  #000000;\n",
       "        }    #T_23e0d20c_8e4d_11ea_999b_8c85901a33efrow8_col2 {\n",
       "            background-color:  #97b8ff;\n",
       "            color:  #000000;\n",
       "        }    #T_23e0d20c_8e4d_11ea_999b_8c85901a33efrow8_col3 {\n",
       "            background-color:  #abc8fd;\n",
       "            color:  #000000;\n",
       "        }    #T_23e0d20c_8e4d_11ea_999b_8c85901a33efrow8_col4 {\n",
       "            background-color:  #80a3fa;\n",
       "            color:  #000000;\n",
       "        }    #T_23e0d20c_8e4d_11ea_999b_8c85901a33efrow8_col5 {\n",
       "            background-color:  #a5c3fe;\n",
       "            color:  #000000;\n",
       "        }    #T_23e0d20c_8e4d_11ea_999b_8c85901a33efrow8_col6 {\n",
       "            background-color:  #a3c2fe;\n",
       "            color:  #000000;\n",
       "        }    #T_23e0d20c_8e4d_11ea_999b_8c85901a33efrow8_col7 {\n",
       "            background-color:  #86a9fc;\n",
       "            color:  #000000;\n",
       "        }    #T_23e0d20c_8e4d_11ea_999b_8c85901a33efrow8_col8 {\n",
       "            background-color:  #b40426;\n",
       "            color:  #f1f1f1;\n",
       "        }    #T_23e0d20c_8e4d_11ea_999b_8c85901a33efrow8_col9 {\n",
       "            background-color:  #5572df;\n",
       "            color:  #000000;\n",
       "        }    #T_23e0d20c_8e4d_11ea_999b_8c85901a33efrow8_col10 {\n",
       "            background-color:  #90b2fe;\n",
       "            color:  #000000;\n",
       "        }    #T_23e0d20c_8e4d_11ea_999b_8c85901a33efrow8_col11 {\n",
       "            background-color:  #e7d7ce;\n",
       "            color:  #000000;\n",
       "        }    #T_23e0d20c_8e4d_11ea_999b_8c85901a33efrow8_col12 {\n",
       "            background-color:  #bcd2f7;\n",
       "            color:  #000000;\n",
       "        }    #T_23e0d20c_8e4d_11ea_999b_8c85901a33efrow8_col13 {\n",
       "            background-color:  #b9d0f9;\n",
       "            color:  #000000;\n",
       "        }    #T_23e0d20c_8e4d_11ea_999b_8c85901a33efrow8_col14 {\n",
       "            background-color:  #abc8fd;\n",
       "            color:  #000000;\n",
       "        }    #T_23e0d20c_8e4d_11ea_999b_8c85901a33efrow8_col15 {\n",
       "            background-color:  #6f92f3;\n",
       "            color:  #000000;\n",
       "        }    #T_23e0d20c_8e4d_11ea_999b_8c85901a33efrow8_col16 {\n",
       "            background-color:  #adc9fd;\n",
       "            color:  #000000;\n",
       "        }    #T_23e0d20c_8e4d_11ea_999b_8c85901a33efrow8_col17 {\n",
       "            background-color:  #7295f4;\n",
       "            color:  #000000;\n",
       "        }    #T_23e0d20c_8e4d_11ea_999b_8c85901a33efrow8_col18 {\n",
       "            background-color:  #3b4cc0;\n",
       "            color:  #f1f1f1;\n",
       "        }    #T_23e0d20c_8e4d_11ea_999b_8c85901a33efrow8_col19 {\n",
       "            background-color:  #81a4fb;\n",
       "            color:  #000000;\n",
       "        }    #T_23e0d20c_8e4d_11ea_999b_8c85901a33efrow8_col20 {\n",
       "            background-color:  #98b9ff;\n",
       "            color:  #000000;\n",
       "        }    #T_23e0d20c_8e4d_11ea_999b_8c85901a33efrow8_col21 {\n",
       "            background-color:  #a2c1ff;\n",
       "            color:  #000000;\n",
       "        }    #T_23e0d20c_8e4d_11ea_999b_8c85901a33efrow8_col22 {\n",
       "            background-color:  #6788ee;\n",
       "            color:  #000000;\n",
       "        }    #T_23e0d20c_8e4d_11ea_999b_8c85901a33efrow8_col23 {\n",
       "            background-color:  #85a8fc;\n",
       "            color:  #000000;\n",
       "        }    #T_23e0d20c_8e4d_11ea_999b_8c85901a33efrow9_col0 {\n",
       "            background-color:  #86a9fc;\n",
       "            color:  #000000;\n",
       "        }    #T_23e0d20c_8e4d_11ea_999b_8c85901a33efrow9_col1 {\n",
       "            background-color:  #84a7fc;\n",
       "            color:  #000000;\n",
       "        }    #T_23e0d20c_8e4d_11ea_999b_8c85901a33efrow9_col2 {\n",
       "            background-color:  #82a6fb;\n",
       "            color:  #000000;\n",
       "        }    #T_23e0d20c_8e4d_11ea_999b_8c85901a33efrow9_col3 {\n",
       "            background-color:  #6b8df0;\n",
       "            color:  #000000;\n",
       "        }    #T_23e0d20c_8e4d_11ea_999b_8c85901a33efrow9_col4 {\n",
       "            background-color:  #6282ea;\n",
       "            color:  #000000;\n",
       "        }    #T_23e0d20c_8e4d_11ea_999b_8c85901a33efrow9_col5 {\n",
       "            background-color:  #7396f5;\n",
       "            color:  #000000;\n",
       "        }    #T_23e0d20c_8e4d_11ea_999b_8c85901a33efrow9_col6 {\n",
       "            background-color:  #5f7fe8;\n",
       "            color:  #000000;\n",
       "        }    #T_23e0d20c_8e4d_11ea_999b_8c85901a33efrow9_col7 {\n",
       "            background-color:  #3b4cc0;\n",
       "            color:  #f1f1f1;\n",
       "        }    #T_23e0d20c_8e4d_11ea_999b_8c85901a33efrow9_col8 {\n",
       "            background-color:  #3f53c6;\n",
       "            color:  #f1f1f1;\n",
       "        }    #T_23e0d20c_8e4d_11ea_999b_8c85901a33efrow9_col9 {\n",
       "            background-color:  #b40426;\n",
       "            color:  #f1f1f1;\n",
       "        }    #T_23e0d20c_8e4d_11ea_999b_8c85901a33efrow9_col10 {\n",
       "            background-color:  #7597f6;\n",
       "            color:  #000000;\n",
       "        }    #T_23e0d20c_8e4d_11ea_999b_8c85901a33efrow9_col11 {\n",
       "            background-color:  #b6cefa;\n",
       "            color:  #000000;\n",
       "        }    #T_23e0d20c_8e4d_11ea_999b_8c85901a33efrow9_col12 {\n",
       "            background-color:  #92b4fe;\n",
       "            color:  #000000;\n",
       "        }    #T_23e0d20c_8e4d_11ea_999b_8c85901a33efrow9_col13 {\n",
       "            background-color:  #82a6fb;\n",
       "            color:  #000000;\n",
       "        }    #T_23e0d20c_8e4d_11ea_999b_8c85901a33efrow9_col14 {\n",
       "            background-color:  #89acfd;\n",
       "            color:  #000000;\n",
       "        }    #T_23e0d20c_8e4d_11ea_999b_8c85901a33efrow9_col15 {\n",
       "            background-color:  #5b7ae5;\n",
       "            color:  #000000;\n",
       "        }    #T_23e0d20c_8e4d_11ea_999b_8c85901a33efrow9_col16 {\n",
       "            background-color:  #5977e3;\n",
       "            color:  #000000;\n",
       "        }    #T_23e0d20c_8e4d_11ea_999b_8c85901a33efrow9_col17 {\n",
       "            background-color:  #536edd;\n",
       "            color:  #000000;\n",
       "        }    #T_23e0d20c_8e4d_11ea_999b_8c85901a33efrow9_col18 {\n",
       "            background-color:  #3d50c3;\n",
       "            color:  #f1f1f1;\n",
       "        }    #T_23e0d20c_8e4d_11ea_999b_8c85901a33efrow9_col19 {\n",
       "            background-color:  #7597f6;\n",
       "            color:  #000000;\n",
       "        }    #T_23e0d20c_8e4d_11ea_999b_8c85901a33efrow9_col20 {\n",
       "            background-color:  #6687ed;\n",
       "            color:  #000000;\n",
       "        }    #T_23e0d20c_8e4d_11ea_999b_8c85901a33efrow9_col21 {\n",
       "            background-color:  #5f7fe8;\n",
       "            color:  #000000;\n",
       "        }    #T_23e0d20c_8e4d_11ea_999b_8c85901a33efrow9_col22 {\n",
       "            background-color:  #5673e0;\n",
       "            color:  #000000;\n",
       "        }    #T_23e0d20c_8e4d_11ea_999b_8c85901a33efrow9_col23 {\n",
       "            background-color:  #92b4fe;\n",
       "            color:  #000000;\n",
       "        }    #T_23e0d20c_8e4d_11ea_999b_8c85901a33efrow10_col0 {\n",
       "            background-color:  #5a78e4;\n",
       "            color:  #000000;\n",
       "        }    #T_23e0d20c_8e4d_11ea_999b_8c85901a33efrow10_col1 {\n",
       "            background-color:  #6a8bef;\n",
       "            color:  #000000;\n",
       "        }    #T_23e0d20c_8e4d_11ea_999b_8c85901a33efrow10_col2 {\n",
       "            background-color:  #5673e0;\n",
       "            color:  #000000;\n",
       "        }    #T_23e0d20c_8e4d_11ea_999b_8c85901a33efrow10_col3 {\n",
       "            background-color:  #abc8fd;\n",
       "            color:  #000000;\n",
       "        }    #T_23e0d20c_8e4d_11ea_999b_8c85901a33efrow10_col4 {\n",
       "            background-color:  #94b6ff;\n",
       "            color:  #000000;\n",
       "        }    #T_23e0d20c_8e4d_11ea_999b_8c85901a33efrow10_col5 {\n",
       "            background-color:  #c4d5f3;\n",
       "            color:  #000000;\n",
       "        }    #T_23e0d20c_8e4d_11ea_999b_8c85901a33efrow10_col6 {\n",
       "            background-color:  #adc9fd;\n",
       "            color:  #000000;\n",
       "        }    #T_23e0d20c_8e4d_11ea_999b_8c85901a33efrow10_col7 {\n",
       "            background-color:  #80a3fa;\n",
       "            color:  #000000;\n",
       "        }    #T_23e0d20c_8e4d_11ea_999b_8c85901a33efrow10_col8 {\n",
       "            background-color:  #80a3fa;\n",
       "            color:  #000000;\n",
       "        }    #T_23e0d20c_8e4d_11ea_999b_8c85901a33efrow10_col9 {\n",
       "            background-color:  #7699f6;\n",
       "            color:  #000000;\n",
       "        }    #T_23e0d20c_8e4d_11ea_999b_8c85901a33efrow10_col10 {\n",
       "            background-color:  #b40426;\n",
       "            color:  #f1f1f1;\n",
       "        }    #T_23e0d20c_8e4d_11ea_999b_8c85901a33efrow10_col11 {\n",
       "            background-color:  #f7ba9f;\n",
       "            color:  #000000;\n",
       "        }    #T_23e0d20c_8e4d_11ea_999b_8c85901a33efrow10_col12 {\n",
       "            background-color:  #a9c6fd;\n",
       "            color:  #000000;\n",
       "        }    #T_23e0d20c_8e4d_11ea_999b_8c85901a33efrow10_col13 {\n",
       "            background-color:  #a6c4fe;\n",
       "            color:  #000000;\n",
       "        }    #T_23e0d20c_8e4d_11ea_999b_8c85901a33efrow10_col14 {\n",
       "            background-color:  #8db0fe;\n",
       "            color:  #000000;\n",
       "        }    #T_23e0d20c_8e4d_11ea_999b_8c85901a33efrow10_col15 {\n",
       "            background-color:  #5e7de7;\n",
       "            color:  #000000;\n",
       "        }    #T_23e0d20c_8e4d_11ea_999b_8c85901a33efrow10_col16 {\n",
       "            background-color:  #a2c1ff;\n",
       "            color:  #000000;\n",
       "        }    #T_23e0d20c_8e4d_11ea_999b_8c85901a33efrow10_col17 {\n",
       "            background-color:  #6180e9;\n",
       "            color:  #000000;\n",
       "        }    #T_23e0d20c_8e4d_11ea_999b_8c85901a33efrow10_col18 {\n",
       "            background-color:  #6282ea;\n",
       "            color:  #000000;\n",
       "        }    #T_23e0d20c_8e4d_11ea_999b_8c85901a33efrow10_col19 {\n",
       "            background-color:  #3b4cc0;\n",
       "            color:  #f1f1f1;\n",
       "        }    #T_23e0d20c_8e4d_11ea_999b_8c85901a33efrow10_col20 {\n",
       "            background-color:  #4055c8;\n",
       "            color:  #f1f1f1;\n",
       "        }    #T_23e0d20c_8e4d_11ea_999b_8c85901a33efrow10_col21 {\n",
       "            background-color:  #4055c8;\n",
       "            color:  #f1f1f1;\n",
       "        }    #T_23e0d20c_8e4d_11ea_999b_8c85901a33efrow10_col22 {\n",
       "            background-color:  #506bda;\n",
       "            color:  #000000;\n",
       "        }    #T_23e0d20c_8e4d_11ea_999b_8c85901a33efrow10_col23 {\n",
       "            background-color:  #7699f6;\n",
       "            color:  #000000;\n",
       "        }    #T_23e0d20c_8e4d_11ea_999b_8c85901a33efrow11_col0 {\n",
       "            background-color:  #bfd3f6;\n",
       "            color:  #000000;\n",
       "        }    #T_23e0d20c_8e4d_11ea_999b_8c85901a33efrow11_col1 {\n",
       "            background-color:  #efcfbf;\n",
       "            color:  #000000;\n",
       "        }    #T_23e0d20c_8e4d_11ea_999b_8c85901a33efrow11_col2 {\n",
       "            background-color:  #a6c4fe;\n",
       "            color:  #000000;\n",
       "        }    #T_23e0d20c_8e4d_11ea_999b_8c85901a33efrow11_col3 {\n",
       "            background-color:  #f7b396;\n",
       "            color:  #000000;\n",
       "        }    #T_23e0d20c_8e4d_11ea_999b_8c85901a33efrow11_col4 {\n",
       "            background-color:  #98b9ff;\n",
       "            color:  #000000;\n",
       "        }    #T_23e0d20c_8e4d_11ea_999b_8c85901a33efrow11_col5 {\n",
       "            background-color:  #f5c4ac;\n",
       "            color:  #000000;\n",
       "        }    #T_23e0d20c_8e4d_11ea_999b_8c85901a33efrow11_col6 {\n",
       "            background-color:  #f39475;\n",
       "            color:  #000000;\n",
       "        }    #T_23e0d20c_8e4d_11ea_999b_8c85901a33efrow11_col7 {\n",
       "            background-color:  #c9d7f0;\n",
       "            color:  #000000;\n",
       "        }    #T_23e0d20c_8e4d_11ea_999b_8c85901a33efrow11_col8 {\n",
       "            background-color:  #ead4c8;\n",
       "            color:  #000000;\n",
       "        }    #T_23e0d20c_8e4d_11ea_999b_8c85901a33efrow11_col9 {\n",
       "            background-color:  #cbd8ee;\n",
       "            color:  #000000;\n",
       "        }    #T_23e0d20c_8e4d_11ea_999b_8c85901a33efrow11_col10 {\n",
       "            background-color:  #f7af91;\n",
       "            color:  #000000;\n",
       "        }    #T_23e0d20c_8e4d_11ea_999b_8c85901a33efrow11_col11 {\n",
       "            background-color:  #b40426;\n",
       "            color:  #f1f1f1;\n",
       "        }    #T_23e0d20c_8e4d_11ea_999b_8c85901a33efrow11_col12 {\n",
       "            background-color:  #f18f71;\n",
       "            color:  #000000;\n",
       "        }    #T_23e0d20c_8e4d_11ea_999b_8c85901a33efrow11_col13 {\n",
       "            background-color:  #f1ccb8;\n",
       "            color:  #000000;\n",
       "        }    #T_23e0d20c_8e4d_11ea_999b_8c85901a33efrow11_col14 {\n",
       "            background-color:  #f0cdbb;\n",
       "            color:  #000000;\n",
       "        }    #T_23e0d20c_8e4d_11ea_999b_8c85901a33efrow11_col15 {\n",
       "            background-color:  #afcafc;\n",
       "            color:  #000000;\n",
       "        }    #T_23e0d20c_8e4d_11ea_999b_8c85901a33efrow11_col16 {\n",
       "            background-color:  #efcfbf;\n",
       "            color:  #000000;\n",
       "        }    #T_23e0d20c_8e4d_11ea_999b_8c85901a33efrow11_col17 {\n",
       "            background-color:  #bfd3f6;\n",
       "            color:  #000000;\n",
       "        }    #T_23e0d20c_8e4d_11ea_999b_8c85901a33efrow11_col18 {\n",
       "            background-color:  #455cce;\n",
       "            color:  #f1f1f1;\n",
       "        }    #T_23e0d20c_8e4d_11ea_999b_8c85901a33efrow11_col19 {\n",
       "            background-color:  #a3c2fe;\n",
       "            color:  #000000;\n",
       "        }    #T_23e0d20c_8e4d_11ea_999b_8c85901a33efrow11_col20 {\n",
       "            background-color:  #cfdaea;\n",
       "            color:  #000000;\n",
       "        }    #T_23e0d20c_8e4d_11ea_999b_8c85901a33efrow11_col21 {\n",
       "            background-color:  #d5dbe5;\n",
       "            color:  #000000;\n",
       "        }    #T_23e0d20c_8e4d_11ea_999b_8c85901a33efrow11_col22 {\n",
       "            background-color:  #a7c5fe;\n",
       "            color:  #000000;\n",
       "        }    #T_23e0d20c_8e4d_11ea_999b_8c85901a33efrow11_col23 {\n",
       "            background-color:  #85a8fc;\n",
       "            color:  #000000;\n",
       "        }    #T_23e0d20c_8e4d_11ea_999b_8c85901a33efrow12_col0 {\n",
       "            background-color:  #f5c2aa;\n",
       "            color:  #000000;\n",
       "        }    #T_23e0d20c_8e4d_11ea_999b_8c85901a33efrow12_col1 {\n",
       "            background-color:  #eb7d62;\n",
       "            color:  #000000;\n",
       "        }    #T_23e0d20c_8e4d_11ea_999b_8c85901a33efrow12_col2 {\n",
       "            background-color:  #e5d8d1;\n",
       "            color:  #000000;\n",
       "        }    #T_23e0d20c_8e4d_11ea_999b_8c85901a33efrow12_col3 {\n",
       "            background-color:  #f7a688;\n",
       "            color:  #000000;\n",
       "        }    #T_23e0d20c_8e4d_11ea_999b_8c85901a33efrow12_col4 {\n",
       "            background-color:  #abc8fd;\n",
       "            color:  #000000;\n",
       "        }    #T_23e0d20c_8e4d_11ea_999b_8c85901a33efrow12_col5 {\n",
       "            background-color:  #efcfbf;\n",
       "            color:  #000000;\n",
       "        }    #T_23e0d20c_8e4d_11ea_999b_8c85901a33efrow12_col6 {\n",
       "            background-color:  #f39778;\n",
       "            color:  #000000;\n",
       "        }    #T_23e0d20c_8e4d_11ea_999b_8c85901a33efrow12_col7 {\n",
       "            background-color:  #b7cff9;\n",
       "            color:  #000000;\n",
       "        }    #T_23e0d20c_8e4d_11ea_999b_8c85901a33efrow12_col8 {\n",
       "            background-color:  #bed2f6;\n",
       "            color:  #000000;\n",
       "        }    #T_23e0d20c_8e4d_11ea_999b_8c85901a33efrow12_col9 {\n",
       "            background-color:  #a6c4fe;\n",
       "            color:  #000000;\n",
       "        }    #T_23e0d20c_8e4d_11ea_999b_8c85901a33efrow12_col10 {\n",
       "            background-color:  #b9d0f9;\n",
       "            color:  #000000;\n",
       "        }    #T_23e0d20c_8e4d_11ea_999b_8c85901a33efrow12_col11 {\n",
       "            background-color:  #f29072;\n",
       "            color:  #000000;\n",
       "        }    #T_23e0d20c_8e4d_11ea_999b_8c85901a33efrow12_col12 {\n",
       "            background-color:  #b40426;\n",
       "            color:  #f1f1f1;\n",
       "        }    #T_23e0d20c_8e4d_11ea_999b_8c85901a33efrow12_col13 {\n",
       "            background-color:  #cedaeb;\n",
       "            color:  #000000;\n",
       "        }    #T_23e0d20c_8e4d_11ea_999b_8c85901a33efrow12_col14 {\n",
       "            background-color:  #f49a7b;\n",
       "            color:  #000000;\n",
       "        }    #T_23e0d20c_8e4d_11ea_999b_8c85901a33efrow12_col15 {\n",
       "            background-color:  #dedcdb;\n",
       "            color:  #000000;\n",
       "        }    #T_23e0d20c_8e4d_11ea_999b_8c85901a33efrow12_col16 {\n",
       "            background-color:  #d2dbe8;\n",
       "            color:  #000000;\n",
       "        }    #T_23e0d20c_8e4d_11ea_999b_8c85901a33efrow12_col17 {\n",
       "            background-color:  #d5dbe5;\n",
       "            color:  #000000;\n",
       "        }    #T_23e0d20c_8e4d_11ea_999b_8c85901a33efrow12_col18 {\n",
       "            background-color:  #3f53c6;\n",
       "            color:  #f1f1f1;\n",
       "        }    #T_23e0d20c_8e4d_11ea_999b_8c85901a33efrow12_col19 {\n",
       "            background-color:  #edd2c3;\n",
       "            color:  #000000;\n",
       "        }    #T_23e0d20c_8e4d_11ea_999b_8c85901a33efrow12_col20 {\n",
       "            background-color:  #f2cbb7;\n",
       "            color:  #000000;\n",
       "        }    #T_23e0d20c_8e4d_11ea_999b_8c85901a33efrow12_col21 {\n",
       "            background-color:  #ebd3c6;\n",
       "            color:  #000000;\n",
       "        }    #T_23e0d20c_8e4d_11ea_999b_8c85901a33efrow12_col22 {\n",
       "            background-color:  #c6d6f1;\n",
       "            color:  #000000;\n",
       "        }    #T_23e0d20c_8e4d_11ea_999b_8c85901a33efrow12_col23 {\n",
       "            background-color:  #6282ea;\n",
       "            color:  #000000;\n",
       "        }    #T_23e0d20c_8e4d_11ea_999b_8c85901a33efrow13_col0 {\n",
       "            background-color:  #96b7ff;\n",
       "            color:  #000000;\n",
       "        }    #T_23e0d20c_8e4d_11ea_999b_8c85901a33efrow13_col1 {\n",
       "            background-color:  #bbd1f8;\n",
       "            color:  #000000;\n",
       "        }    #T_23e0d20c_8e4d_11ea_999b_8c85901a33efrow13_col2 {\n",
       "            background-color:  #88abfd;\n",
       "            color:  #000000;\n",
       "        }    #T_23e0d20c_8e4d_11ea_999b_8c85901a33efrow13_col3 {\n",
       "            background-color:  #bed2f6;\n",
       "            color:  #000000;\n",
       "        }    #T_23e0d20c_8e4d_11ea_999b_8c85901a33efrow13_col4 {\n",
       "            background-color:  #7295f4;\n",
       "            color:  #000000;\n",
       "        }    #T_23e0d20c_8e4d_11ea_999b_8c85901a33efrow13_col5 {\n",
       "            background-color:  #bed2f6;\n",
       "            color:  #000000;\n",
       "        }    #T_23e0d20c_8e4d_11ea_999b_8c85901a33efrow13_col6 {\n",
       "            background-color:  #ccd9ed;\n",
       "            color:  #000000;\n",
       "        }    #T_23e0d20c_8e4d_11ea_999b_8c85901a33efrow13_col7 {\n",
       "            background-color:  #afcafc;\n",
       "            color:  #000000;\n",
       "        }    #T_23e0d20c_8e4d_11ea_999b_8c85901a33efrow13_col8 {\n",
       "            background-color:  #c7d7f0;\n",
       "            color:  #000000;\n",
       "        }    #T_23e0d20c_8e4d_11ea_999b_8c85901a33efrow13_col9 {\n",
       "            background-color:  #a9c6fd;\n",
       "            color:  #000000;\n",
       "        }    #T_23e0d20c_8e4d_11ea_999b_8c85901a33efrow13_col10 {\n",
       "            background-color:  #c5d6f2;\n",
       "            color:  #000000;\n",
       "        }    #T_23e0d20c_8e4d_11ea_999b_8c85901a33efrow13_col11 {\n",
       "            background-color:  #f3c8b2;\n",
       "            color:  #000000;\n",
       "        }    #T_23e0d20c_8e4d_11ea_999b_8c85901a33efrow13_col12 {\n",
       "            background-color:  #d9dce1;\n",
       "            color:  #000000;\n",
       "        }    #T_23e0d20c_8e4d_11ea_999b_8c85901a33efrow13_col13 {\n",
       "            background-color:  #b40426;\n",
       "            color:  #f1f1f1;\n",
       "        }    #T_23e0d20c_8e4d_11ea_999b_8c85901a33efrow13_col14 {\n",
       "            background-color:  #c9d7f0;\n",
       "            color:  #000000;\n",
       "        }    #T_23e0d20c_8e4d_11ea_999b_8c85901a33efrow13_col15 {\n",
       "            background-color:  #6f92f3;\n",
       "            color:  #000000;\n",
       "        }    #T_23e0d20c_8e4d_11ea_999b_8c85901a33efrow13_col16 {\n",
       "            background-color:  #bad0f8;\n",
       "            color:  #000000;\n",
       "        }    #T_23e0d20c_8e4d_11ea_999b_8c85901a33efrow13_col17 {\n",
       "            background-color:  #96b7ff;\n",
       "            color:  #000000;\n",
       "        }    #T_23e0d20c_8e4d_11ea_999b_8c85901a33efrow13_col18 {\n",
       "            background-color:  #516ddb;\n",
       "            color:  #000000;\n",
       "        }    #T_23e0d20c_8e4d_11ea_999b_8c85901a33efrow13_col19 {\n",
       "            background-color:  #7ea1fa;\n",
       "            color:  #000000;\n",
       "        }    #T_23e0d20c_8e4d_11ea_999b_8c85901a33efrow13_col20 {\n",
       "            background-color:  #a6c4fe;\n",
       "            color:  #000000;\n",
       "        }    #T_23e0d20c_8e4d_11ea_999b_8c85901a33efrow13_col21 {\n",
       "            background-color:  #adc9fd;\n",
       "            color:  #000000;\n",
       "        }    #T_23e0d20c_8e4d_11ea_999b_8c85901a33efrow13_col22 {\n",
       "            background-color:  #8badfd;\n",
       "            color:  #000000;\n",
       "        }    #T_23e0d20c_8e4d_11ea_999b_8c85901a33efrow13_col23 {\n",
       "            background-color:  #94b6ff;\n",
       "            color:  #000000;\n",
       "        }    #T_23e0d20c_8e4d_11ea_999b_8c85901a33efrow14_col0 {\n",
       "            background-color:  #f1ccb8;\n",
       "            color:  #000000;\n",
       "        }    #T_23e0d20c_8e4d_11ea_999b_8c85901a33efrow14_col1 {\n",
       "            background-color:  #f18f71;\n",
       "            color:  #000000;\n",
       "        }    #T_23e0d20c_8e4d_11ea_999b_8c85901a33efrow14_col2 {\n",
       "            background-color:  #dddcdc;\n",
       "            color:  #000000;\n",
       "        }    #T_23e0d20c_8e4d_11ea_999b_8c85901a33efrow14_col3 {\n",
       "            background-color:  #f2c9b4;\n",
       "            color:  #000000;\n",
       "        }    #T_23e0d20c_8e4d_11ea_999b_8c85901a33efrow14_col4 {\n",
       "            background-color:  #8badfd;\n",
       "            color:  #000000;\n",
       "        }    #T_23e0d20c_8e4d_11ea_999b_8c85901a33efrow14_col5 {\n",
       "            background-color:  #c4d5f3;\n",
       "            color:  #000000;\n",
       "        }    #T_23e0d20c_8e4d_11ea_999b_8c85901a33efrow14_col6 {\n",
       "            background-color:  #f0cdbb;\n",
       "            color:  #000000;\n",
       "        }    #T_23e0d20c_8e4d_11ea_999b_8c85901a33efrow14_col7 {\n",
       "            background-color:  #9abbff;\n",
       "            color:  #000000;\n",
       "        }    #T_23e0d20c_8e4d_11ea_999b_8c85901a33efrow14_col8 {\n",
       "            background-color:  #9abbff;\n",
       "            color:  #000000;\n",
       "        }    #T_23e0d20c_8e4d_11ea_999b_8c85901a33efrow14_col9 {\n",
       "            background-color:  #89acfd;\n",
       "            color:  #000000;\n",
       "        }    #T_23e0d20c_8e4d_11ea_999b_8c85901a33efrow14_col10 {\n",
       "            background-color:  #8badfd;\n",
       "            color:  #000000;\n",
       "        }    #T_23e0d20c_8e4d_11ea_999b_8c85901a33efrow14_col11 {\n",
       "            background-color:  #e7d7ce;\n",
       "            color:  #000000;\n",
       "        }    #T_23e0d20c_8e4d_11ea_999b_8c85901a33efrow14_col12 {\n",
       "            background-color:  #f6a283;\n",
       "            color:  #000000;\n",
       "        }    #T_23e0d20c_8e4d_11ea_999b_8c85901a33efrow14_col13 {\n",
       "            background-color:  #aac7fd;\n",
       "            color:  #000000;\n",
       "        }    #T_23e0d20c_8e4d_11ea_999b_8c85901a33efrow14_col14 {\n",
       "            background-color:  #b40426;\n",
       "            color:  #f1f1f1;\n",
       "        }    #T_23e0d20c_8e4d_11ea_999b_8c85901a33efrow14_col15 {\n",
       "            background-color:  #bcd2f7;\n",
       "            color:  #000000;\n",
       "        }    #T_23e0d20c_8e4d_11ea_999b_8c85901a33efrow14_col16 {\n",
       "            background-color:  #dadce0;\n",
       "            color:  #000000;\n",
       "        }    #T_23e0d20c_8e4d_11ea_999b_8c85901a33efrow14_col17 {\n",
       "            background-color:  #b9d0f9;\n",
       "            color:  #000000;\n",
       "        }    #T_23e0d20c_8e4d_11ea_999b_8c85901a33efrow14_col18 {\n",
       "            background-color:  #455cce;\n",
       "            color:  #f1f1f1;\n",
       "        }    #T_23e0d20c_8e4d_11ea_999b_8c85901a33efrow14_col19 {\n",
       "            background-color:  #e2dad5;\n",
       "            color:  #000000;\n",
       "        }    #T_23e0d20c_8e4d_11ea_999b_8c85901a33efrow14_col20 {\n",
       "            background-color:  #e2dad5;\n",
       "            color:  #000000;\n",
       "        }    #T_23e0d20c_8e4d_11ea_999b_8c85901a33efrow14_col21 {\n",
       "            background-color:  #d7dce3;\n",
       "            color:  #000000;\n",
       "        }    #T_23e0d20c_8e4d_11ea_999b_8c85901a33efrow14_col22 {\n",
       "            background-color:  #aec9fc;\n",
       "            color:  #000000;\n",
       "        }    #T_23e0d20c_8e4d_11ea_999b_8c85901a33efrow14_col23 {\n",
       "            background-color:  #4a63d3;\n",
       "            color:  #f1f1f1;\n",
       "        }    #T_23e0d20c_8e4d_11ea_999b_8c85901a33efrow15_col0 {\n",
       "            background-color:  #e8d6cc;\n",
       "            color:  #000000;\n",
       "        }    #T_23e0d20c_8e4d_11ea_999b_8c85901a33efrow15_col1 {\n",
       "            background-color:  #ebd3c6;\n",
       "            color:  #000000;\n",
       "        }    #T_23e0d20c_8e4d_11ea_999b_8c85901a33efrow15_col2 {\n",
       "            background-color:  #dddcdc;\n",
       "            color:  #000000;\n",
       "        }    #T_23e0d20c_8e4d_11ea_999b_8c85901a33efrow15_col3 {\n",
       "            background-color:  #c0d4f5;\n",
       "            color:  #000000;\n",
       "        }    #T_23e0d20c_8e4d_11ea_999b_8c85901a33efrow15_col4 {\n",
       "            background-color:  #7295f4;\n",
       "            color:  #000000;\n",
       "        }    #T_23e0d20c_8e4d_11ea_999b_8c85901a33efrow15_col5 {\n",
       "            background-color:  #abc8fd;\n",
       "            color:  #000000;\n",
       "        }    #T_23e0d20c_8e4d_11ea_999b_8c85901a33efrow15_col6 {\n",
       "            background-color:  #c0d4f5;\n",
       "            color:  #000000;\n",
       "        }    #T_23e0d20c_8e4d_11ea_999b_8c85901a33efrow15_col7 {\n",
       "            background-color:  #6e90f2;\n",
       "            color:  #000000;\n",
       "        }    #T_23e0d20c_8e4d_11ea_999b_8c85901a33efrow15_col8 {\n",
       "            background-color:  #7295f4;\n",
       "            color:  #000000;\n",
       "        }    #T_23e0d20c_8e4d_11ea_999b_8c85901a33efrow15_col9 {\n",
       "            background-color:  #7396f5;\n",
       "            color:  #000000;\n",
       "        }    #T_23e0d20c_8e4d_11ea_999b_8c85901a33efrow15_col10 {\n",
       "            background-color:  #7597f6;\n",
       "            color:  #000000;\n",
       "        }    #T_23e0d20c_8e4d_11ea_999b_8c85901a33efrow15_col11 {\n",
       "            background-color:  #a9c6fd;\n",
       "            color:  #000000;\n",
       "        }    #T_23e0d20c_8e4d_11ea_999b_8c85901a33efrow15_col12 {\n",
       "            background-color:  #dedcdb;\n",
       "            color:  #000000;\n",
       "        }    #T_23e0d20c_8e4d_11ea_999b_8c85901a33efrow15_col13 {\n",
       "            background-color:  #5a78e4;\n",
       "            color:  #000000;\n",
       "        }    #T_23e0d20c_8e4d_11ea_999b_8c85901a33efrow15_col14 {\n",
       "            background-color:  #cbd8ee;\n",
       "            color:  #000000;\n",
       "        }    #T_23e0d20c_8e4d_11ea_999b_8c85901a33efrow15_col15 {\n",
       "            background-color:  #b40426;\n",
       "            color:  #f1f1f1;\n",
       "        }    #T_23e0d20c_8e4d_11ea_999b_8c85901a33efrow15_col16 {\n",
       "            background-color:  #85a8fc;\n",
       "            color:  #000000;\n",
       "        }    #T_23e0d20c_8e4d_11ea_999b_8c85901a33efrow15_col17 {\n",
       "            background-color:  #a3c2fe;\n",
       "            color:  #000000;\n",
       "        }    #T_23e0d20c_8e4d_11ea_999b_8c85901a33efrow15_col18 {\n",
       "            background-color:  #3d50c3;\n",
       "            color:  #f1f1f1;\n",
       "        }    #T_23e0d20c_8e4d_11ea_999b_8c85901a33efrow15_col19 {\n",
       "            background-color:  #dbdcde;\n",
       "            color:  #000000;\n",
       "        }    #T_23e0d20c_8e4d_11ea_999b_8c85901a33efrow15_col20 {\n",
       "            background-color:  #a6c4fe;\n",
       "            color:  #000000;\n",
       "        }    #T_23e0d20c_8e4d_11ea_999b_8c85901a33efrow15_col21 {\n",
       "            background-color:  #94b6ff;\n",
       "            color:  #000000;\n",
       "        }    #T_23e0d20c_8e4d_11ea_999b_8c85901a33efrow15_col22 {\n",
       "            background-color:  #9dbdff;\n",
       "            color:  #000000;\n",
       "        }    #T_23e0d20c_8e4d_11ea_999b_8c85901a33efrow15_col23 {\n",
       "            background-color:  #7093f3;\n",
       "            color:  #000000;\n",
       "        }    #T_23e0d20c_8e4d_11ea_999b_8c85901a33efrow16_col0 {\n",
       "            background-color:  #aec9fc;\n",
       "            color:  #000000;\n",
       "        }    #T_23e0d20c_8e4d_11ea_999b_8c85901a33efrow16_col1 {\n",
       "            background-color:  #d4dbe6;\n",
       "            color:  #000000;\n",
       "        }    #T_23e0d20c_8e4d_11ea_999b_8c85901a33efrow16_col2 {\n",
       "            background-color:  #9dbdff;\n",
       "            color:  #000000;\n",
       "        }    #T_23e0d20c_8e4d_11ea_999b_8c85901a33efrow16_col3 {\n",
       "            background-color:  #f1cdba;\n",
       "            color:  #000000;\n",
       "        }    #T_23e0d20c_8e4d_11ea_999b_8c85901a33efrow16_col4 {\n",
       "            background-color:  #5572df;\n",
       "            color:  #000000;\n",
       "        }    #T_23e0d20c_8e4d_11ea_999b_8c85901a33efrow16_col5 {\n",
       "            background-color:  #d4dbe6;\n",
       "            color:  #000000;\n",
       "        }    #T_23e0d20c_8e4d_11ea_999b_8c85901a33efrow16_col6 {\n",
       "            background-color:  #e4d9d2;\n",
       "            color:  #000000;\n",
       "        }    #T_23e0d20c_8e4d_11ea_999b_8c85901a33efrow16_col7 {\n",
       "            background-color:  #9fbfff;\n",
       "            color:  #000000;\n",
       "        }    #T_23e0d20c_8e4d_11ea_999b_8c85901a33efrow16_col8 {\n",
       "            background-color:  #b5cdfa;\n",
       "            color:  #000000;\n",
       "        }    #T_23e0d20c_8e4d_11ea_999b_8c85901a33efrow16_col9 {\n",
       "            background-color:  #7a9df8;\n",
       "            color:  #000000;\n",
       "        }    #T_23e0d20c_8e4d_11ea_999b_8c85901a33efrow16_col10 {\n",
       "            background-color:  #b9d0f9;\n",
       "            color:  #000000;\n",
       "        }    #T_23e0d20c_8e4d_11ea_999b_8c85901a33efrow16_col11 {\n",
       "            background-color:  #efcfbf;\n",
       "            color:  #000000;\n",
       "        }    #T_23e0d20c_8e4d_11ea_999b_8c85901a33efrow16_col12 {\n",
       "            background-color:  #d6dce4;\n",
       "            color:  #000000;\n",
       "        }    #T_23e0d20c_8e4d_11ea_999b_8c85901a33efrow16_col13 {\n",
       "            background-color:  #b1cbfc;\n",
       "            color:  #000000;\n",
       "        }    #T_23e0d20c_8e4d_11ea_999b_8c85901a33efrow16_col14 {\n",
       "            background-color:  #e8d6cc;\n",
       "            color:  #000000;\n",
       "        }    #T_23e0d20c_8e4d_11ea_999b_8c85901a33efrow16_col15 {\n",
       "            background-color:  #8db0fe;\n",
       "            color:  #000000;\n",
       "        }    #T_23e0d20c_8e4d_11ea_999b_8c85901a33efrow16_col16 {\n",
       "            background-color:  #b40426;\n",
       "            color:  #f1f1f1;\n",
       "        }    #T_23e0d20c_8e4d_11ea_999b_8c85901a33efrow16_col17 {\n",
       "            background-color:  #a3c2fe;\n",
       "            color:  #000000;\n",
       "        }    #T_23e0d20c_8e4d_11ea_999b_8c85901a33efrow16_col18 {\n",
       "            background-color:  #455cce;\n",
       "            color:  #f1f1f1;\n",
       "        }    #T_23e0d20c_8e4d_11ea_999b_8c85901a33efrow16_col19 {\n",
       "            background-color:  #8db0fe;\n",
       "            color:  #000000;\n",
       "        }    #T_23e0d20c_8e4d_11ea_999b_8c85901a33efrow16_col20 {\n",
       "            background-color:  #a6c4fe;\n",
       "            color:  #000000;\n",
       "        }    #T_23e0d20c_8e4d_11ea_999b_8c85901a33efrow16_col21 {\n",
       "            background-color:  #a9c6fd;\n",
       "            color:  #000000;\n",
       "        }    #T_23e0d20c_8e4d_11ea_999b_8c85901a33efrow16_col22 {\n",
       "            background-color:  #88abfd;\n",
       "            color:  #000000;\n",
       "        }    #T_23e0d20c_8e4d_11ea_999b_8c85901a33efrow16_col23 {\n",
       "            background-color:  #7093f3;\n",
       "            color:  #000000;\n",
       "        }    #T_23e0d20c_8e4d_11ea_999b_8c85901a33efrow17_col0 {\n",
       "            background-color:  #dfdbd9;\n",
       "            color:  #000000;\n",
       "        }    #T_23e0d20c_8e4d_11ea_999b_8c85901a33efrow17_col1 {\n",
       "            background-color:  #ebd3c6;\n",
       "            color:  #000000;\n",
       "        }    #T_23e0d20c_8e4d_11ea_999b_8c85901a33efrow17_col2 {\n",
       "            background-color:  #d2dbe8;\n",
       "            color:  #000000;\n",
       "        }    #T_23e0d20c_8e4d_11ea_999b_8c85901a33efrow17_col3 {\n",
       "            background-color:  #c3d5f4;\n",
       "            color:  #000000;\n",
       "        }    #T_23e0d20c_8e4d_11ea_999b_8c85901a33efrow17_col4 {\n",
       "            background-color:  #516ddb;\n",
       "            color:  #000000;\n",
       "        }    #T_23e0d20c_8e4d_11ea_999b_8c85901a33efrow17_col5 {\n",
       "            background-color:  #a5c3fe;\n",
       "            color:  #000000;\n",
       "        }    #T_23e0d20c_8e4d_11ea_999b_8c85901a33efrow17_col6 {\n",
       "            background-color:  #d2dbe8;\n",
       "            color:  #000000;\n",
       "        }    #T_23e0d20c_8e4d_11ea_999b_8c85901a33efrow17_col7 {\n",
       "            background-color:  #96b7ff;\n",
       "            color:  #000000;\n",
       "        }    #T_23e0d20c_8e4d_11ea_999b_8c85901a33efrow17_col8 {\n",
       "            background-color:  #82a6fb;\n",
       "            color:  #000000;\n",
       "        }    #T_23e0d20c_8e4d_11ea_999b_8c85901a33efrow17_col9 {\n",
       "            background-color:  #7a9df8;\n",
       "            color:  #000000;\n",
       "        }    #T_23e0d20c_8e4d_11ea_999b_8c85901a33efrow17_col10 {\n",
       "            background-color:  #84a7fc;\n",
       "            color:  #000000;\n",
       "        }    #T_23e0d20c_8e4d_11ea_999b_8c85901a33efrow17_col11 {\n",
       "            background-color:  #c3d5f4;\n",
       "            color:  #000000;\n",
       "        }    #T_23e0d20c_8e4d_11ea_999b_8c85901a33efrow17_col12 {\n",
       "            background-color:  #dbdcde;\n",
       "            color:  #000000;\n",
       "        }    #T_23e0d20c_8e4d_11ea_999b_8c85901a33efrow17_col13 {\n",
       "            background-color:  #90b2fe;\n",
       "            color:  #000000;\n",
       "        }    #T_23e0d20c_8e4d_11ea_999b_8c85901a33efrow17_col14 {\n",
       "            background-color:  #d1dae9;\n",
       "            color:  #000000;\n",
       "        }    #T_23e0d20c_8e4d_11ea_999b_8c85901a33efrow17_col15 {\n",
       "            background-color:  #afcafc;\n",
       "            color:  #000000;\n",
       "        }    #T_23e0d20c_8e4d_11ea_999b_8c85901a33efrow17_col16 {\n",
       "            background-color:  #a9c6fd;\n",
       "            color:  #000000;\n",
       "        }    #T_23e0d20c_8e4d_11ea_999b_8c85901a33efrow17_col17 {\n",
       "            background-color:  #b40426;\n",
       "            color:  #f1f1f1;\n",
       "        }    #T_23e0d20c_8e4d_11ea_999b_8c85901a33efrow17_col18 {\n",
       "            background-color:  #4b64d5;\n",
       "            color:  #f1f1f1;\n",
       "        }    #T_23e0d20c_8e4d_11ea_999b_8c85901a33efrow17_col19 {\n",
       "            background-color:  #e2dad5;\n",
       "            color:  #000000;\n",
       "        }    #T_23e0d20c_8e4d_11ea_999b_8c85901a33efrow17_col20 {\n",
       "            background-color:  #d5dbe5;\n",
       "            color:  #000000;\n",
       "        }    #T_23e0d20c_8e4d_11ea_999b_8c85901a33efrow17_col21 {\n",
       "            background-color:  #d2dbe8;\n",
       "            color:  #000000;\n",
       "        }    #T_23e0d20c_8e4d_11ea_999b_8c85901a33efrow17_col22 {\n",
       "            background-color:  #ee8669;\n",
       "            color:  #000000;\n",
       "        }    #T_23e0d20c_8e4d_11ea_999b_8c85901a33efrow17_col23 {\n",
       "            background-color:  #7093f3;\n",
       "            color:  #000000;\n",
       "        }    #T_23e0d20c_8e4d_11ea_999b_8c85901a33efrow18_col0 {\n",
       "            background-color:  #5f7fe8;\n",
       "            color:  #000000;\n",
       "        }    #T_23e0d20c_8e4d_11ea_999b_8c85901a33efrow18_col1 {\n",
       "            background-color:  #455cce;\n",
       "            color:  #f1f1f1;\n",
       "        }    #T_23e0d20c_8e4d_11ea_999b_8c85901a33efrow18_col2 {\n",
       "            background-color:  #6485ec;\n",
       "            color:  #000000;\n",
       "        }    #T_23e0d20c_8e4d_11ea_999b_8c85901a33efrow18_col3 {\n",
       "            background-color:  #536edd;\n",
       "            color:  #000000;\n",
       "        }    #T_23e0d20c_8e4d_11ea_999b_8c85901a33efrow18_col4 {\n",
       "            background-color:  #3f53c6;\n",
       "            color:  #f1f1f1;\n",
       "        }    #T_23e0d20c_8e4d_11ea_999b_8c85901a33efrow18_col5 {\n",
       "            background-color:  #4b64d5;\n",
       "            color:  #f1f1f1;\n",
       "        }    #T_23e0d20c_8e4d_11ea_999b_8c85901a33efrow18_col6 {\n",
       "            background-color:  #3b4cc0;\n",
       "            color:  #f1f1f1;\n",
       "        }    #T_23e0d20c_8e4d_11ea_999b_8c85901a33efrow18_col7 {\n",
       "            background-color:  #536edd;\n",
       "            color:  #000000;\n",
       "        }    #T_23e0d20c_8e4d_11ea_999b_8c85901a33efrow18_col8 {\n",
       "            background-color:  #3b4cc0;\n",
       "            color:  #f1f1f1;\n",
       "        }    #T_23e0d20c_8e4d_11ea_999b_8c85901a33efrow18_col9 {\n",
       "            background-color:  #536edd;\n",
       "            color:  #000000;\n",
       "        }    #T_23e0d20c_8e4d_11ea_999b_8c85901a33efrow18_col10 {\n",
       "            background-color:  #7597f6;\n",
       "            color:  #000000;\n",
       "        }    #T_23e0d20c_8e4d_11ea_999b_8c85901a33efrow18_col11 {\n",
       "            background-color:  #3b4cc0;\n",
       "            color:  #f1f1f1;\n",
       "        }    #T_23e0d20c_8e4d_11ea_999b_8c85901a33efrow18_col12 {\n",
       "            background-color:  #3d50c3;\n",
       "            color:  #f1f1f1;\n",
       "        }    #T_23e0d20c_8e4d_11ea_999b_8c85901a33efrow18_col13 {\n",
       "            background-color:  #3b4cc0;\n",
       "            color:  #f1f1f1;\n",
       "        }    #T_23e0d20c_8e4d_11ea_999b_8c85901a33efrow18_col14 {\n",
       "            background-color:  #5b7ae5;\n",
       "            color:  #000000;\n",
       "        }    #T_23e0d20c_8e4d_11ea_999b_8c85901a33efrow18_col15 {\n",
       "            background-color:  #3b4cc0;\n",
       "            color:  #f1f1f1;\n",
       "        }    #T_23e0d20c_8e4d_11ea_999b_8c85901a33efrow18_col16 {\n",
       "            background-color:  #3b4cc0;\n",
       "            color:  #f1f1f1;\n",
       "        }    #T_23e0d20c_8e4d_11ea_999b_8c85901a33efrow18_col17 {\n",
       "            background-color:  #3b4cc0;\n",
       "            color:  #f1f1f1;\n",
       "        }    #T_23e0d20c_8e4d_11ea_999b_8c85901a33efrow18_col18 {\n",
       "            background-color:  #b40426;\n",
       "            color:  #f1f1f1;\n",
       "        }    #T_23e0d20c_8e4d_11ea_999b_8c85901a33efrow18_col19 {\n",
       "            background-color:  #6282ea;\n",
       "            color:  #000000;\n",
       "        }    #T_23e0d20c_8e4d_11ea_999b_8c85901a33efrow18_col20 {\n",
       "            background-color:  #4055c8;\n",
       "            color:  #f1f1f1;\n",
       "        }    #T_23e0d20c_8e4d_11ea_999b_8c85901a33efrow18_col21 {\n",
       "            background-color:  #3b4cc0;\n",
       "            color:  #f1f1f1;\n",
       "        }    #T_23e0d20c_8e4d_11ea_999b_8c85901a33efrow18_col22 {\n",
       "            background-color:  #3b4cc0;\n",
       "            color:  #f1f1f1;\n",
       "        }    #T_23e0d20c_8e4d_11ea_999b_8c85901a33efrow18_col23 {\n",
       "            background-color:  #6485ec;\n",
       "            color:  #000000;\n",
       "        }    #T_23e0d20c_8e4d_11ea_999b_8c85901a33efrow19_col0 {\n",
       "            background-color:  #f5a081;\n",
       "            color:  #000000;\n",
       "        }    #T_23e0d20c_8e4d_11ea_999b_8c85901a33efrow19_col1 {\n",
       "            background-color:  #f7b396;\n",
       "            color:  #000000;\n",
       "        }    #T_23e0d20c_8e4d_11ea_999b_8c85901a33efrow19_col2 {\n",
       "            background-color:  #f7b194;\n",
       "            color:  #000000;\n",
       "        }    #T_23e0d20c_8e4d_11ea_999b_8c85901a33efrow19_col3 {\n",
       "            background-color:  #b1cbfc;\n",
       "            color:  #000000;\n",
       "        }    #T_23e0d20c_8e4d_11ea_999b_8c85901a33efrow19_col4 {\n",
       "            background-color:  #5e7de7;\n",
       "            color:  #000000;\n",
       "        }    #T_23e0d20c_8e4d_11ea_999b_8c85901a33efrow19_col5 {\n",
       "            background-color:  #86a9fc;\n",
       "            color:  #000000;\n",
       "        }    #T_23e0d20c_8e4d_11ea_999b_8c85901a33efrow19_col6 {\n",
       "            background-color:  #c4d5f3;\n",
       "            color:  #000000;\n",
       "        }    #T_23e0d20c_8e4d_11ea_999b_8c85901a33efrow19_col7 {\n",
       "            background-color:  #7093f3;\n",
       "            color:  #000000;\n",
       "        }    #T_23e0d20c_8e4d_11ea_999b_8c85901a33efrow19_col8 {\n",
       "            background-color:  #6e90f2;\n",
       "            color:  #000000;\n",
       "        }    #T_23e0d20c_8e4d_11ea_999b_8c85901a33efrow19_col9 {\n",
       "            background-color:  #7699f6;\n",
       "            color:  #000000;\n",
       "        }    #T_23e0d20c_8e4d_11ea_999b_8c85901a33efrow19_col10 {\n",
       "            background-color:  #3b4cc0;\n",
       "            color:  #f1f1f1;\n",
       "        }    #T_23e0d20c_8e4d_11ea_999b_8c85901a33efrow19_col11 {\n",
       "            background-color:  #89acfd;\n",
       "            color:  #000000;\n",
       "        }    #T_23e0d20c_8e4d_11ea_999b_8c85901a33efrow19_col12 {\n",
       "            background-color:  #e5d8d1;\n",
       "            color:  #000000;\n",
       "        }    #T_23e0d20c_8e4d_11ea_999b_8c85901a33efrow19_col13 {\n",
       "            background-color:  #5470de;\n",
       "            color:  #000000;\n",
       "        }    #T_23e0d20c_8e4d_11ea_999b_8c85901a33efrow19_col14 {\n",
       "            background-color:  #e3d9d3;\n",
       "            color:  #000000;\n",
       "        }    #T_23e0d20c_8e4d_11ea_999b_8c85901a33efrow19_col15 {\n",
       "            background-color:  #d1dae9;\n",
       "            color:  #000000;\n",
       "        }    #T_23e0d20c_8e4d_11ea_999b_8c85901a33efrow19_col16 {\n",
       "            background-color:  #7093f3;\n",
       "            color:  #000000;\n",
       "        }    #T_23e0d20c_8e4d_11ea_999b_8c85901a33efrow19_col17 {\n",
       "            background-color:  #d2dbe8;\n",
       "            color:  #000000;\n",
       "        }    #T_23e0d20c_8e4d_11ea_999b_8c85901a33efrow19_col18 {\n",
       "            background-color:  #4f69d9;\n",
       "            color:  #000000;\n",
       "        }    #T_23e0d20c_8e4d_11ea_999b_8c85901a33efrow19_col19 {\n",
       "            background-color:  #b40426;\n",
       "            color:  #f1f1f1;\n",
       "        }    #T_23e0d20c_8e4d_11ea_999b_8c85901a33efrow19_col20 {\n",
       "            background-color:  #d5dbe5;\n",
       "            color:  #000000;\n",
       "        }    #T_23e0d20c_8e4d_11ea_999b_8c85901a33efrow19_col21 {\n",
       "            background-color:  #bad0f8;\n",
       "            color:  #000000;\n",
       "        }    #T_23e0d20c_8e4d_11ea_999b_8c85901a33efrow19_col22 {\n",
       "            background-color:  #dddcdc;\n",
       "            color:  #000000;\n",
       "        }    #T_23e0d20c_8e4d_11ea_999b_8c85901a33efrow19_col23 {\n",
       "            background-color:  #7093f3;\n",
       "            color:  #000000;\n",
       "        }    #T_23e0d20c_8e4d_11ea_999b_8c85901a33efrow20_col0 {\n",
       "            background-color:  #e8d6cc;\n",
       "            color:  #000000;\n",
       "        }    #T_23e0d20c_8e4d_11ea_999b_8c85901a33efrow20_col1 {\n",
       "            background-color:  #f7bca1;\n",
       "            color:  #000000;\n",
       "        }    #T_23e0d20c_8e4d_11ea_999b_8c85901a33efrow20_col2 {\n",
       "            background-color:  #d6dce4;\n",
       "            color:  #000000;\n",
       "        }    #T_23e0d20c_8e4d_11ea_999b_8c85901a33efrow20_col3 {\n",
       "            background-color:  #d3dbe7;\n",
       "            color:  #000000;\n",
       "        }    #T_23e0d20c_8e4d_11ea_999b_8c85901a33efrow20_col4 {\n",
       "            background-color:  #4358cb;\n",
       "            color:  #f1f1f1;\n",
       "        }    #T_23e0d20c_8e4d_11ea_999b_8c85901a33efrow20_col5 {\n",
       "            background-color:  #94b6ff;\n",
       "            color:  #000000;\n",
       "        }    #T_23e0d20c_8e4d_11ea_999b_8c85901a33efrow20_col6 {\n",
       "            background-color:  #e9d5cb;\n",
       "            color:  #000000;\n",
       "        }    #T_23e0d20c_8e4d_11ea_999b_8c85901a33efrow20_col7 {\n",
       "            background-color:  #a9c6fd;\n",
       "            color:  #000000;\n",
       "        }    #T_23e0d20c_8e4d_11ea_999b_8c85901a33efrow20_col8 {\n",
       "            background-color:  #9ebeff;\n",
       "            color:  #000000;\n",
       "        }    #T_23e0d20c_8e4d_11ea_999b_8c85901a33efrow20_col9 {\n",
       "            background-color:  #80a3fa;\n",
       "            color:  #000000;\n",
       "        }    #T_23e0d20c_8e4d_11ea_999b_8c85901a33efrow20_col10 {\n",
       "            background-color:  #5977e3;\n",
       "            color:  #000000;\n",
       "        }    #T_23e0d20c_8e4d_11ea_999b_8c85901a33efrow20_col11 {\n",
       "            background-color:  #ccd9ed;\n",
       "            color:  #000000;\n",
       "        }    #T_23e0d20c_8e4d_11ea_999b_8c85901a33efrow20_col12 {\n",
       "            background-color:  #f2cab5;\n",
       "            color:  #000000;\n",
       "        }    #T_23e0d20c_8e4d_11ea_999b_8c85901a33efrow20_col13 {\n",
       "            background-color:  #98b9ff;\n",
       "            color:  #000000;\n",
       "        }    #T_23e0d20c_8e4d_11ea_999b_8c85901a33efrow20_col14 {\n",
       "            background-color:  #ecd3c5;\n",
       "            color:  #000000;\n",
       "        }    #T_23e0d20c_8e4d_11ea_999b_8c85901a33efrow20_col15 {\n",
       "            background-color:  #a9c6fd;\n",
       "            color:  #000000;\n",
       "        }    #T_23e0d20c_8e4d_11ea_999b_8c85901a33efrow20_col16 {\n",
       "            background-color:  #a2c1ff;\n",
       "            color:  #000000;\n",
       "        }    #T_23e0d20c_8e4d_11ea_999b_8c85901a33efrow20_col17 {\n",
       "            background-color:  #cedaeb;\n",
       "            color:  #000000;\n",
       "        }    #T_23e0d20c_8e4d_11ea_999b_8c85901a33efrow20_col18 {\n",
       "            background-color:  #455cce;\n",
       "            color:  #f1f1f1;\n",
       "        }    #T_23e0d20c_8e4d_11ea_999b_8c85901a33efrow20_col19 {\n",
       "            background-color:  #e0dbd8;\n",
       "            color:  #000000;\n",
       "        }    #T_23e0d20c_8e4d_11ea_999b_8c85901a33efrow20_col20 {\n",
       "            background-color:  #b40426;\n",
       "            color:  #f1f1f1;\n",
       "        }    #T_23e0d20c_8e4d_11ea_999b_8c85901a33efrow20_col21 {\n",
       "            background-color:  #ca3b37;\n",
       "            color:  #f1f1f1;\n",
       "        }    #T_23e0d20c_8e4d_11ea_999b_8c85901a33efrow20_col22 {\n",
       "            background-color:  #bfd3f6;\n",
       "            color:  #000000;\n",
       "        }    #T_23e0d20c_8e4d_11ea_999b_8c85901a33efrow20_col23 {\n",
       "            background-color:  #6485ec;\n",
       "            color:  #000000;\n",
       "        }    #T_23e0d20c_8e4d_11ea_999b_8c85901a33efrow21_col0 {\n",
       "            background-color:  #d4dbe6;\n",
       "            color:  #000000;\n",
       "        }    #T_23e0d20c_8e4d_11ea_999b_8c85901a33efrow21_col1 {\n",
       "            background-color:  #f2c9b4;\n",
       "            color:  #000000;\n",
       "        }    #T_23e0d20c_8e4d_11ea_999b_8c85901a33efrow21_col2 {\n",
       "            background-color:  #bcd2f7;\n",
       "            color:  #000000;\n",
       "        }    #T_23e0d20c_8e4d_11ea_999b_8c85901a33efrow21_col3 {\n",
       "            background-color:  #d3dbe7;\n",
       "            color:  #000000;\n",
       "        }    #T_23e0d20c_8e4d_11ea_999b_8c85901a33efrow21_col4 {\n",
       "            background-color:  #4358cb;\n",
       "            color:  #f1f1f1;\n",
       "        }    #T_23e0d20c_8e4d_11ea_999b_8c85901a33efrow21_col5 {\n",
       "            background-color:  #97b8ff;\n",
       "            color:  #000000;\n",
       "        }    #T_23e0d20c_8e4d_11ea_999b_8c85901a33efrow21_col6 {\n",
       "            background-color:  #e7d7ce;\n",
       "            color:  #000000;\n",
       "        }    #T_23e0d20c_8e4d_11ea_999b_8c85901a33efrow21_col7 {\n",
       "            background-color:  #b7cff9;\n",
       "            color:  #000000;\n",
       "        }    #T_23e0d20c_8e4d_11ea_999b_8c85901a33efrow21_col8 {\n",
       "            background-color:  #abc8fd;\n",
       "            color:  #000000;\n",
       "        }    #T_23e0d20c_8e4d_11ea_999b_8c85901a33efrow21_col9 {\n",
       "            background-color:  #80a3fa;\n",
       "            color:  #000000;\n",
       "        }    #T_23e0d20c_8e4d_11ea_999b_8c85901a33efrow21_col10 {\n",
       "            background-color:  #5e7de7;\n",
       "            color:  #000000;\n",
       "        }    #T_23e0d20c_8e4d_11ea_999b_8c85901a33efrow21_col11 {\n",
       "            background-color:  #d5dbe5;\n",
       "            color:  #000000;\n",
       "        }    #T_23e0d20c_8e4d_11ea_999b_8c85901a33efrow21_col12 {\n",
       "            background-color:  #edd1c2;\n",
       "            color:  #000000;\n",
       "        }    #T_23e0d20c_8e4d_11ea_999b_8c85901a33efrow21_col13 {\n",
       "            background-color:  #a3c2fe;\n",
       "            color:  #000000;\n",
       "        }    #T_23e0d20c_8e4d_11ea_999b_8c85901a33efrow21_col14 {\n",
       "            background-color:  #e6d7cf;\n",
       "            color:  #000000;\n",
       "        }    #T_23e0d20c_8e4d_11ea_999b_8c85901a33efrow21_col15 {\n",
       "            background-color:  #9bbcff;\n",
       "            color:  #000000;\n",
       "        }    #T_23e0d20c_8e4d_11ea_999b_8c85901a33efrow21_col16 {\n",
       "            background-color:  #a9c6fd;\n",
       "            color:  #000000;\n",
       "        }    #T_23e0d20c_8e4d_11ea_999b_8c85901a33efrow21_col17 {\n",
       "            background-color:  #cedaeb;\n",
       "            color:  #000000;\n",
       "        }    #T_23e0d20c_8e4d_11ea_999b_8c85901a33efrow21_col18 {\n",
       "            background-color:  #455cce;\n",
       "            color:  #f1f1f1;\n",
       "        }    #T_23e0d20c_8e4d_11ea_999b_8c85901a33efrow21_col19 {\n",
       "            background-color:  #cdd9ec;\n",
       "            color:  #000000;\n",
       "        }    #T_23e0d20c_8e4d_11ea_999b_8c85901a33efrow21_col20 {\n",
       "            background-color:  #ca3b37;\n",
       "            color:  #f1f1f1;\n",
       "        }    #T_23e0d20c_8e4d_11ea_999b_8c85901a33efrow21_col21 {\n",
       "            background-color:  #b40426;\n",
       "            color:  #f1f1f1;\n",
       "        }    #T_23e0d20c_8e4d_11ea_999b_8c85901a33efrow21_col22 {\n",
       "            background-color:  #b9d0f9;\n",
       "            color:  #000000;\n",
       "        }    #T_23e0d20c_8e4d_11ea_999b_8c85901a33efrow21_col23 {\n",
       "            background-color:  #7699f6;\n",
       "            color:  #000000;\n",
       "        }    #T_23e0d20c_8e4d_11ea_999b_8c85901a33efrow22_col0 {\n",
       "            background-color:  #d8dce2;\n",
       "            color:  #000000;\n",
       "        }    #T_23e0d20c_8e4d_11ea_999b_8c85901a33efrow22_col1 {\n",
       "            background-color:  #e7d7ce;\n",
       "            color:  #000000;\n",
       "        }    #T_23e0d20c_8e4d_11ea_999b_8c85901a33efrow22_col2 {\n",
       "            background-color:  #cad8ef;\n",
       "            color:  #000000;\n",
       "        }    #T_23e0d20c_8e4d_11ea_999b_8c85901a33efrow22_col3 {\n",
       "            background-color:  #98b9ff;\n",
       "            color:  #000000;\n",
       "        }    #T_23e0d20c_8e4d_11ea_999b_8c85901a33efrow22_col4 {\n",
       "            background-color:  #516ddb;\n",
       "            color:  #000000;\n",
       "        }    #T_23e0d20c_8e4d_11ea_999b_8c85901a33efrow22_col5 {\n",
       "            background-color:  #8db0fe;\n",
       "            color:  #000000;\n",
       "        }    #T_23e0d20c_8e4d_11ea_999b_8c85901a33efrow22_col6 {\n",
       "            background-color:  #b7cff9;\n",
       "            color:  #000000;\n",
       "        }    #T_23e0d20c_8e4d_11ea_999b_8c85901a33efrow22_col7 {\n",
       "            background-color:  #9abbff;\n",
       "            color:  #000000;\n",
       "        }    #T_23e0d20c_8e4d_11ea_999b_8c85901a33efrow22_col8 {\n",
       "            background-color:  #799cf8;\n",
       "            color:  #000000;\n",
       "        }    #T_23e0d20c_8e4d_11ea_999b_8c85901a33efrow22_col9 {\n",
       "            background-color:  #7da0f9;\n",
       "            color:  #000000;\n",
       "        }    #T_23e0d20c_8e4d_11ea_999b_8c85901a33efrow22_col10 {\n",
       "            background-color:  #7597f6;\n",
       "            color:  #000000;\n",
       "        }    #T_23e0d20c_8e4d_11ea_999b_8c85901a33efrow22_col11 {\n",
       "            background-color:  #adc9fd;\n",
       "            color:  #000000;\n",
       "        }    #T_23e0d20c_8e4d_11ea_999b_8c85901a33efrow22_col12 {\n",
       "            background-color:  #cedaeb;\n",
       "            color:  #000000;\n",
       "        }    #T_23e0d20c_8e4d_11ea_999b_8c85901a33efrow22_col13 {\n",
       "            background-color:  #85a8fc;\n",
       "            color:  #000000;\n",
       "        }    #T_23e0d20c_8e4d_11ea_999b_8c85901a33efrow22_col14 {\n",
       "            background-color:  #c9d7f0;\n",
       "            color:  #000000;\n",
       "        }    #T_23e0d20c_8e4d_11ea_999b_8c85901a33efrow22_col15 {\n",
       "            background-color:  #a9c6fd;\n",
       "            color:  #000000;\n",
       "        }    #T_23e0d20c_8e4d_11ea_999b_8c85901a33efrow22_col16 {\n",
       "            background-color:  #8db0fe;\n",
       "            color:  #000000;\n",
       "        }    #T_23e0d20c_8e4d_11ea_999b_8c85901a33efrow22_col17 {\n",
       "            background-color:  #ee8669;\n",
       "            color:  #000000;\n",
       "        }    #T_23e0d20c_8e4d_11ea_999b_8c85901a33efrow22_col18 {\n",
       "            background-color:  #4b64d5;\n",
       "            color:  #f1f1f1;\n",
       "        }    #T_23e0d20c_8e4d_11ea_999b_8c85901a33efrow22_col19 {\n",
       "            background-color:  #ead4c8;\n",
       "            color:  #000000;\n",
       "        }    #T_23e0d20c_8e4d_11ea_999b_8c85901a33efrow22_col20 {\n",
       "            background-color:  #c6d6f1;\n",
       "            color:  #000000;\n",
       "        }    #T_23e0d20c_8e4d_11ea_999b_8c85901a33efrow22_col21 {\n",
       "            background-color:  #bcd2f7;\n",
       "            color:  #000000;\n",
       "        }    #T_23e0d20c_8e4d_11ea_999b_8c85901a33efrow22_col22 {\n",
       "            background-color:  #b40426;\n",
       "            color:  #f1f1f1;\n",
       "        }    #T_23e0d20c_8e4d_11ea_999b_8c85901a33efrow22_col23 {\n",
       "            background-color:  #7396f5;\n",
       "            color:  #000000;\n",
       "        }    #T_23e0d20c_8e4d_11ea_999b_8c85901a33efrow23_col0 {\n",
       "            background-color:  #3b4cc0;\n",
       "            color:  #f1f1f1;\n",
       "        }    #T_23e0d20c_8e4d_11ea_999b_8c85901a33efrow23_col1 {\n",
       "            background-color:  #3b4cc0;\n",
       "            color:  #f1f1f1;\n",
       "        }    #T_23e0d20c_8e4d_11ea_999b_8c85901a33efrow23_col2 {\n",
       "            background-color:  #3b4cc0;\n",
       "            color:  #f1f1f1;\n",
       "        }    #T_23e0d20c_8e4d_11ea_999b_8c85901a33efrow23_col3 {\n",
       "            background-color:  #3b4cc0;\n",
       "            color:  #f1f1f1;\n",
       "        }    #T_23e0d20c_8e4d_11ea_999b_8c85901a33efrow23_col4 {\n",
       "            background-color:  #3b4cc0;\n",
       "            color:  #f1f1f1;\n",
       "        }    #T_23e0d20c_8e4d_11ea_999b_8c85901a33efrow23_col5 {\n",
       "            background-color:  #3b4cc0;\n",
       "            color:  #f1f1f1;\n",
       "        }    #T_23e0d20c_8e4d_11ea_999b_8c85901a33efrow23_col6 {\n",
       "            background-color:  #3b4cc0;\n",
       "            color:  #f1f1f1;\n",
       "        }    #T_23e0d20c_8e4d_11ea_999b_8c85901a33efrow23_col7 {\n",
       "            background-color:  #8db0fe;\n",
       "            color:  #000000;\n",
       "        }    #T_23e0d20c_8e4d_11ea_999b_8c85901a33efrow23_col8 {\n",
       "            background-color:  #6282ea;\n",
       "            color:  #000000;\n",
       "        }    #T_23e0d20c_8e4d_11ea_999b_8c85901a33efrow23_col9 {\n",
       "            background-color:  #84a7fc;\n",
       "            color:  #000000;\n",
       "        }    #T_23e0d20c_8e4d_11ea_999b_8c85901a33efrow23_col10 {\n",
       "            background-color:  #6485ec;\n",
       "            color:  #000000;\n",
       "        }    #T_23e0d20c_8e4d_11ea_999b_8c85901a33efrow23_col11 {\n",
       "            background-color:  #5673e0;\n",
       "            color:  #000000;\n",
       "        }    #T_23e0d20c_8e4d_11ea_999b_8c85901a33efrow23_col12 {\n",
       "            background-color:  #3b4cc0;\n",
       "            color:  #f1f1f1;\n",
       "        }    #T_23e0d20c_8e4d_11ea_999b_8c85901a33efrow23_col13 {\n",
       "            background-color:  #5a78e4;\n",
       "            color:  #000000;\n",
       "        }    #T_23e0d20c_8e4d_11ea_999b_8c85901a33efrow23_col14 {\n",
       "            background-color:  #3b4cc0;\n",
       "            color:  #f1f1f1;\n",
       "        }    #T_23e0d20c_8e4d_11ea_999b_8c85901a33efrow23_col15 {\n",
       "            background-color:  #4961d2;\n",
       "            color:  #f1f1f1;\n",
       "        }    #T_23e0d20c_8e4d_11ea_999b_8c85901a33efrow23_col16 {\n",
       "            background-color:  #4055c8;\n",
       "            color:  #f1f1f1;\n",
       "        }    #T_23e0d20c_8e4d_11ea_999b_8c85901a33efrow23_col17 {\n",
       "            background-color:  #3b4cc0;\n",
       "            color:  #f1f1f1;\n",
       "        }    #T_23e0d20c_8e4d_11ea_999b_8c85901a33efrow23_col18 {\n",
       "            background-color:  #3f53c6;\n",
       "            color:  #f1f1f1;\n",
       "        }    #T_23e0d20c_8e4d_11ea_999b_8c85901a33efrow23_col19 {\n",
       "            background-color:  #5e7de7;\n",
       "            color:  #000000;\n",
       "        }    #T_23e0d20c_8e4d_11ea_999b_8c85901a33efrow23_col20 {\n",
       "            background-color:  #3b4cc0;\n",
       "            color:  #f1f1f1;\n",
       "        }    #T_23e0d20c_8e4d_11ea_999b_8c85901a33efrow23_col21 {\n",
       "            background-color:  #465ecf;\n",
       "            color:  #f1f1f1;\n",
       "        }    #T_23e0d20c_8e4d_11ea_999b_8c85901a33efrow23_col22 {\n",
       "            background-color:  #3d50c3;\n",
       "            color:  #f1f1f1;\n",
       "        }    #T_23e0d20c_8e4d_11ea_999b_8c85901a33efrow23_col23 {\n",
       "            background-color:  #b40426;\n",
       "            color:  #f1f1f1;\n",
       "        }</style><table id=\"T_23e0d20c_8e4d_11ea_999b_8c85901a33ef\" ><thead>    <tr>        <th class=\"blank level0\" ></th>        <th class=\"col_heading level0 col0\" >summit_elev</th>        <th class=\"col_heading level0 col1\" >vertical_drop</th>        <th class=\"col_heading level0 col2\" >base_elev</th>        <th class=\"col_heading level0 col3\" >trams</th>        <th class=\"col_heading level0 col4\" >fastEight</th>        <th class=\"col_heading level0 col5\" >fastSixes</th>        <th class=\"col_heading level0 col6\" >fastQuads</th>        <th class=\"col_heading level0 col7\" >quad</th>        <th class=\"col_heading level0 col8\" >triple</th>        <th class=\"col_heading level0 col9\" >double</th>        <th class=\"col_heading level0 col10\" >surface</th>        <th class=\"col_heading level0 col11\" >total_chairs</th>        <th class=\"col_heading level0 col12\" >Runs</th>        <th class=\"col_heading level0 col13\" >TerrainParks</th>        <th class=\"col_heading level0 col14\" >LongestRun_mi</th>        <th class=\"col_heading level0 col15\" >SkiableTerrain_ac</th>        <th class=\"col_heading level0 col16\" >Snow Making_ac</th>        <th class=\"col_heading level0 col17\" >daysOpenLastYear</th>        <th class=\"col_heading level0 col18\" >yearsOpen</th>        <th class=\"col_heading level0 col19\" >averageSnowfall</th>        <th class=\"col_heading level0 col20\" >AdultWeekday</th>        <th class=\"col_heading level0 col21\" >AdultWeekend</th>        <th class=\"col_heading level0 col22\" >projectedDaysOpen</th>        <th class=\"col_heading level0 col23\" >NightSkiing_ac</th>    </tr></thead><tbody>\n",
       "                <tr>\n",
       "                        <th id=\"T_23e0d20c_8e4d_11ea_999b_8c85901a33eflevel0_row0\" class=\"row_heading level0 row0\" >summit_elev</th>\n",
       "                        <td id=\"T_23e0d20c_8e4d_11ea_999b_8c85901a33efrow0_col0\" class=\"data row0 col0\" >1.000000</td>\n",
       "                        <td id=\"T_23e0d20c_8e4d_11ea_999b_8c85901a33efrow0_col1\" class=\"data row0 col1\" >0.740000</td>\n",
       "                        <td id=\"T_23e0d20c_8e4d_11ea_999b_8c85901a33efrow0_col2\" class=\"data row0 col2\" >0.980000</td>\n",
       "                        <td id=\"T_23e0d20c_8e4d_11ea_999b_8c85901a33efrow0_col3\" class=\"data row0 col3\" >0.340000</td>\n",
       "                        <td id=\"T_23e0d20c_8e4d_11ea_999b_8c85901a33efrow0_col4\" class=\"data row0 col4\" >0.100000</td>\n",
       "                        <td id=\"T_23e0d20c_8e4d_11ea_999b_8c85901a33efrow0_col5\" class=\"data row0 col5\" >0.260000</td>\n",
       "                        <td id=\"T_23e0d20c_8e4d_11ea_999b_8c85901a33efrow0_col6\" class=\"data row0 col6\" >0.450000</td>\n",
       "                        <td id=\"T_23e0d20c_8e4d_11ea_999b_8c85901a33efrow0_col7\" class=\"data row0 col7\" >-0.010000</td>\n",
       "                        <td id=\"T_23e0d20c_8e4d_11ea_999b_8c85901a33efrow0_col8\" class=\"data row0 col8\" >0.180000</td>\n",
       "                        <td id=\"T_23e0d20c_8e4d_11ea_999b_8c85901a33efrow0_col9\" class=\"data row0 col9\" >0.110000</td>\n",
       "                        <td id=\"T_23e0d20c_8e4d_11ea_999b_8c85901a33efrow0_col10\" class=\"data row0 col10\" >-0.040000</td>\n",
       "                        <td id=\"T_23e0d20c_8e4d_11ea_999b_8c85901a33efrow0_col11\" class=\"data row0 col11\" >0.300000</td>\n",
       "                        <td id=\"T_23e0d20c_8e4d_11ea_999b_8c85901a33efrow0_col12\" class=\"data row0 col12\" >0.570000</td>\n",
       "                        <td id=\"T_23e0d20c_8e4d_11ea_999b_8c85901a33efrow0_col13\" class=\"data row0 col13\" >0.160000</td>\n",
       "                        <td id=\"T_23e0d20c_8e4d_11ea_999b_8c85901a33efrow0_col14\" class=\"data row0 col14\" >0.530000</td>\n",
       "                        <td id=\"T_23e0d20c_8e4d_11ea_999b_8c85901a33efrow0_col15\" class=\"data row0 col15\" >0.470000</td>\n",
       "                        <td id=\"T_23e0d20c_8e4d_11ea_999b_8c85901a33efrow0_col16\" class=\"data row0 col16\" >0.240000</td>\n",
       "                        <td id=\"T_23e0d20c_8e4d_11ea_999b_8c85901a33efrow0_col17\" class=\"data row0 col17\" >0.430000</td>\n",
       "                        <td id=\"T_23e0d20c_8e4d_11ea_999b_8c85901a33efrow0_col18\" class=\"data row0 col18\" >-0.020000</td>\n",
       "                        <td id=\"T_23e0d20c_8e4d_11ea_999b_8c85901a33efrow0_col19\" class=\"data row0 col19\" >0.690000</td>\n",
       "                        <td id=\"T_23e0d20c_8e4d_11ea_999b_8c85901a33efrow0_col20\" class=\"data row0 col20\" >0.470000</td>\n",
       "                        <td id=\"T_23e0d20c_8e4d_11ea_999b_8c85901a33efrow0_col21\" class=\"data row0 col21\" >0.380000</td>\n",
       "                        <td id=\"T_23e0d20c_8e4d_11ea_999b_8c85901a33efrow0_col22\" class=\"data row0 col22\" >0.400000</td>\n",
       "                        <td id=\"T_23e0d20c_8e4d_11ea_999b_8c85901a33efrow0_col23\" class=\"data row0 col23\" >-0.160000</td>\n",
       "            </tr>\n",
       "            <tr>\n",
       "                        <th id=\"T_23e0d20c_8e4d_11ea_999b_8c85901a33eflevel0_row1\" class=\"row_heading level0 row1\" >vertical_drop</th>\n",
       "                        <td id=\"T_23e0d20c_8e4d_11ea_999b_8c85901a33efrow1_col0\" class=\"data row1 col0\" >0.740000</td>\n",
       "                        <td id=\"T_23e0d20c_8e4d_11ea_999b_8c85901a33efrow1_col1\" class=\"data row1 col1\" >1.000000</td>\n",
       "                        <td id=\"T_23e0d20c_8e4d_11ea_999b_8c85901a33efrow1_col2\" class=\"data row1 col2\" >0.590000</td>\n",
       "                        <td id=\"T_23e0d20c_8e4d_11ea_999b_8c85901a33efrow1_col3\" class=\"data row1 col3\" >0.590000</td>\n",
       "                        <td id=\"T_23e0d20c_8e4d_11ea_999b_8c85901a33efrow1_col4\" class=\"data row1 col4\" >0.180000</td>\n",
       "                        <td id=\"T_23e0d20c_8e4d_11ea_999b_8c85901a33efrow1_col5\" class=\"data row1 col5\" >0.380000</td>\n",
       "                        <td id=\"T_23e0d20c_8e4d_11ea_999b_8c85901a33efrow1_col6\" class=\"data row1 col6\" >0.680000</td>\n",
       "                        <td id=\"T_23e0d20c_8e4d_11ea_999b_8c85901a33efrow1_col7\" class=\"data row1 col7\" >0.140000</td>\n",
       "                        <td id=\"T_23e0d20c_8e4d_11ea_999b_8c85901a33efrow1_col8\" class=\"data row1 col8\" >0.260000</td>\n",
       "                        <td id=\"T_23e0d20c_8e4d_11ea_999b_8c85901a33efrow1_col9\" class=\"data row1 col9\" >0.170000</td>\n",
       "                        <td id=\"T_23e0d20c_8e4d_11ea_999b_8c85901a33efrow1_col10\" class=\"data row1 col10\" >0.090000</td>\n",
       "                        <td id=\"T_23e0d20c_8e4d_11ea_999b_8c85901a33efrow1_col11\" class=\"data row1 col11\" >0.550000</td>\n",
       "                        <td id=\"T_23e0d20c_8e4d_11ea_999b_8c85901a33efrow1_col12\" class=\"data row1 col12\" >0.800000</td>\n",
       "                        <td id=\"T_23e0d20c_8e4d_11ea_999b_8c85901a33efrow1_col13\" class=\"data row1 col13\" >0.340000</td>\n",
       "                        <td id=\"T_23e0d20c_8e4d_11ea_999b_8c85901a33efrow1_col14\" class=\"data row1 col14\" >0.760000</td>\n",
       "                        <td id=\"T_23e0d20c_8e4d_11ea_999b_8c85901a33efrow1_col15\" class=\"data row1 col15\" >0.530000</td>\n",
       "                        <td id=\"T_23e0d20c_8e4d_11ea_999b_8c85901a33efrow1_col16\" class=\"data row1 col16\" >0.430000</td>\n",
       "                        <td id=\"T_23e0d20c_8e4d_11ea_999b_8c85901a33efrow1_col17\" class=\"data row1 col17\" >0.530000</td>\n",
       "                        <td id=\"T_23e0d20c_8e4d_11ea_999b_8c85901a33efrow1_col18\" class=\"data row1 col18\" >-0.030000</td>\n",
       "                        <td id=\"T_23e0d20c_8e4d_11ea_999b_8c85901a33efrow1_col19\" class=\"data row1 col19\" >0.660000</td>\n",
       "                        <td id=\"T_23e0d20c_8e4d_11ea_999b_8c85901a33efrow1_col20\" class=\"data row1 col20\" >0.630000</td>\n",
       "                        <td id=\"T_23e0d20c_8e4d_11ea_999b_8c85901a33efrow1_col21\" class=\"data row1 col21\" >0.580000</td>\n",
       "                        <td id=\"T_23e0d20c_8e4d_11ea_999b_8c85901a33efrow1_col22\" class=\"data row1 col22\" >0.510000</td>\n",
       "                        <td id=\"T_23e0d20c_8e4d_11ea_999b_8c85901a33efrow1_col23\" class=\"data row1 col23\" >-0.070000</td>\n",
       "            </tr>\n",
       "            <tr>\n",
       "                        <th id=\"T_23e0d20c_8e4d_11ea_999b_8c85901a33eflevel0_row2\" class=\"row_heading level0 row2\" >base_elev</th>\n",
       "                        <td id=\"T_23e0d20c_8e4d_11ea_999b_8c85901a33efrow2_col0\" class=\"data row2 col0\" >0.980000</td>\n",
       "                        <td id=\"T_23e0d20c_8e4d_11ea_999b_8c85901a33efrow2_col1\" class=\"data row2 col1\" >0.590000</td>\n",
       "                        <td id=\"T_23e0d20c_8e4d_11ea_999b_8c85901a33efrow2_col2\" class=\"data row2 col2\" >1.000000</td>\n",
       "                        <td id=\"T_23e0d20c_8e4d_11ea_999b_8c85901a33efrow2_col3\" class=\"data row2 col3\" >0.230000</td>\n",
       "                        <td id=\"T_23e0d20c_8e4d_11ea_999b_8c85901a33efrow2_col4\" class=\"data row2 col4\" >0.070000</td>\n",
       "                        <td id=\"T_23e0d20c_8e4d_11ea_999b_8c85901a33efrow2_col5\" class=\"data row2 col5\" >0.210000</td>\n",
       "                        <td id=\"T_23e0d20c_8e4d_11ea_999b_8c85901a33efrow2_col6\" class=\"data row2 col6\" >0.340000</td>\n",
       "                        <td id=\"T_23e0d20c_8e4d_11ea_999b_8c85901a33efrow2_col7\" class=\"data row2 col7\" >-0.060000</td>\n",
       "                        <td id=\"T_23e0d20c_8e4d_11ea_999b_8c85901a33efrow2_col8\" class=\"data row2 col8\" >0.150000</td>\n",
       "                        <td id=\"T_23e0d20c_8e4d_11ea_999b_8c85901a33efrow2_col9\" class=\"data row2 col9\" >0.080000</td>\n",
       "                        <td id=\"T_23e0d20c_8e4d_11ea_999b_8c85901a33efrow2_col10\" class=\"data row2 col10\" >-0.070000</td>\n",
       "                        <td id=\"T_23e0d20c_8e4d_11ea_999b_8c85901a33efrow2_col11\" class=\"data row2 col11\" >0.200000</td>\n",
       "                        <td id=\"T_23e0d20c_8e4d_11ea_999b_8c85901a33efrow2_col12\" class=\"data row2 col12\" >0.450000</td>\n",
       "                        <td id=\"T_23e0d20c_8e4d_11ea_999b_8c85901a33efrow2_col13\" class=\"data row2 col13\" >0.100000</td>\n",
       "                        <td id=\"T_23e0d20c_8e4d_11ea_999b_8c85901a33efrow2_col14\" class=\"data row2 col14\" >0.410000</td>\n",
       "                        <td id=\"T_23e0d20c_8e4d_11ea_999b_8c85901a33efrow2_col15\" class=\"data row2 col15\" >0.410000</td>\n",
       "                        <td id=\"T_23e0d20c_8e4d_11ea_999b_8c85901a33efrow2_col16\" class=\"data row2 col16\" >0.170000</td>\n",
       "                        <td id=\"T_23e0d20c_8e4d_11ea_999b_8c85901a33efrow2_col17\" class=\"data row2 col17\" >0.360000</td>\n",
       "                        <td id=\"T_23e0d20c_8e4d_11ea_999b_8c85901a33efrow2_col18\" class=\"data row2 col18\" >-0.020000</td>\n",
       "                        <td id=\"T_23e0d20c_8e4d_11ea_999b_8c85901a33efrow2_col19\" class=\"data row2 col19\" >0.630000</td>\n",
       "                        <td id=\"T_23e0d20c_8e4d_11ea_999b_8c85901a33efrow2_col20\" class=\"data row2 col20\" >0.380000</td>\n",
       "                        <td id=\"T_23e0d20c_8e4d_11ea_999b_8c85901a33efrow2_col21\" class=\"data row2 col21\" >0.280000</td>\n",
       "                        <td id=\"T_23e0d20c_8e4d_11ea_999b_8c85901a33efrow2_col22\" class=\"data row2 col22\" >0.330000</td>\n",
       "                        <td id=\"T_23e0d20c_8e4d_11ea_999b_8c85901a33efrow2_col23\" class=\"data row2 col23\" >-0.180000</td>\n",
       "            </tr>\n",
       "            <tr>\n",
       "                        <th id=\"T_23e0d20c_8e4d_11ea_999b_8c85901a33eflevel0_row3\" class=\"row_heading level0 row3\" >trams</th>\n",
       "                        <td id=\"T_23e0d20c_8e4d_11ea_999b_8c85901a33efrow3_col0\" class=\"data row3 col0\" >0.340000</td>\n",
       "                        <td id=\"T_23e0d20c_8e4d_11ea_999b_8c85901a33efrow3_col1\" class=\"data row3 col1\" >0.590000</td>\n",
       "                        <td id=\"T_23e0d20c_8e4d_11ea_999b_8c85901a33efrow3_col2\" class=\"data row3 col2\" >0.230000</td>\n",
       "                        <td id=\"T_23e0d20c_8e4d_11ea_999b_8c85901a33efrow3_col3\" class=\"data row3 col3\" >1.000000</td>\n",
       "                        <td id=\"T_23e0d20c_8e4d_11ea_999b_8c85901a33efrow3_col4\" class=\"data row3 col4\" >0.080000</td>\n",
       "                        <td id=\"T_23e0d20c_8e4d_11ea_999b_8c85901a33efrow3_col5\" class=\"data row3 col5\" >0.530000</td>\n",
       "                        <td id=\"T_23e0d20c_8e4d_11ea_999b_8c85901a33efrow3_col6\" class=\"data row3 col6\" >0.660000</td>\n",
       "                        <td id=\"T_23e0d20c_8e4d_11ea_999b_8c85901a33efrow3_col7\" class=\"data row3 col7\" >0.220000</td>\n",
       "                        <td id=\"T_23e0d20c_8e4d_11ea_999b_8c85901a33efrow3_col8\" class=\"data row3 col8\" >0.270000</td>\n",
       "                        <td id=\"T_23e0d20c_8e4d_11ea_999b_8c85901a33efrow3_col9\" class=\"data row3 col9\" >0.070000</td>\n",
       "                        <td id=\"T_23e0d20c_8e4d_11ea_999b_8c85901a33efrow3_col10\" class=\"data row3 col10\" >0.270000</td>\n",
       "                        <td id=\"T_23e0d20c_8e4d_11ea_999b_8c85901a33efrow3_col11\" class=\"data row3 col11\" >0.650000</td>\n",
       "                        <td id=\"T_23e0d20c_8e4d_11ea_999b_8c85901a33efrow3_col12\" class=\"data row3 col12\" >0.690000</td>\n",
       "                        <td id=\"T_23e0d20c_8e4d_11ea_999b_8c85901a33efrow3_col13\" class=\"data row3 col13\" >0.330000</td>\n",
       "                        <td id=\"T_23e0d20c_8e4d_11ea_999b_8c85901a33efrow3_col14\" class=\"data row3 col14\" >0.570000</td>\n",
       "                        <td id=\"T_23e0d20c_8e4d_11ea_999b_8c85901a33efrow3_col15\" class=\"data row3 col15\" >0.340000</td>\n",
       "                        <td id=\"T_23e0d20c_8e4d_11ea_999b_8c85901a33efrow3_col16\" class=\"data row3 col16\" >0.550000</td>\n",
       "                        <td id=\"T_23e0d20c_8e4d_11ea_999b_8c85901a33efrow3_col17\" class=\"data row3 col17\" >0.350000</td>\n",
       "                        <td id=\"T_23e0d20c_8e4d_11ea_999b_8c85901a33efrow3_col18\" class=\"data row3 col18\" >-0.010000</td>\n",
       "                        <td id=\"T_23e0d20c_8e4d_11ea_999b_8c85901a33efrow3_col19\" class=\"data row3 col19\" >0.290000</td>\n",
       "                        <td id=\"T_23e0d20c_8e4d_11ea_999b_8c85901a33efrow3_col20\" class=\"data row3 col20\" >0.410000</td>\n",
       "                        <td id=\"T_23e0d20c_8e4d_11ea_999b_8c85901a33efrow3_col21\" class=\"data row3 col21\" >0.410000</td>\n",
       "                        <td id=\"T_23e0d20c_8e4d_11ea_999b_8c85901a33efrow3_col22\" class=\"data row3 col22\" >0.210000</td>\n",
       "                        <td id=\"T_23e0d20c_8e4d_11ea_999b_8c85901a33efrow3_col23\" class=\"data row3 col23\" >-0.100000</td>\n",
       "            </tr>\n",
       "            <tr>\n",
       "                        <th id=\"T_23e0d20c_8e4d_11ea_999b_8c85901a33eflevel0_row4\" class=\"row_heading level0 row4\" >fastEight</th>\n",
       "                        <td id=\"T_23e0d20c_8e4d_11ea_999b_8c85901a33efrow4_col0\" class=\"data row4 col0\" >0.100000</td>\n",
       "                        <td id=\"T_23e0d20c_8e4d_11ea_999b_8c85901a33efrow4_col1\" class=\"data row4 col1\" >0.180000</td>\n",
       "                        <td id=\"T_23e0d20c_8e4d_11ea_999b_8c85901a33efrow4_col2\" class=\"data row4 col2\" >0.070000</td>\n",
       "                        <td id=\"T_23e0d20c_8e4d_11ea_999b_8c85901a33efrow4_col3\" class=\"data row4 col3\" >0.080000</td>\n",
       "                        <td id=\"T_23e0d20c_8e4d_11ea_999b_8c85901a33efrow4_col4\" class=\"data row4 col4\" >1.000000</td>\n",
       "                        <td id=\"T_23e0d20c_8e4d_11ea_999b_8c85901a33efrow4_col5\" class=\"data row4 col5\" >0.150000</td>\n",
       "                        <td id=\"T_23e0d20c_8e4d_11ea_999b_8c85901a33efrow4_col6\" class=\"data row4 col6\" >0.100000</td>\n",
       "                        <td id=\"T_23e0d20c_8e4d_11ea_999b_8c85901a33efrow4_col7\" class=\"data row4 col7\" >0.090000</td>\n",
       "                        <td id=\"T_23e0d20c_8e4d_11ea_999b_8c85901a33efrow4_col8\" class=\"data row4 col8\" >0.190000</td>\n",
       "                        <td id=\"T_23e0d20c_8e4d_11ea_999b_8c85901a33efrow4_col9\" class=\"data row4 col9\" >0.100000</td>\n",
       "                        <td id=\"T_23e0d20c_8e4d_11ea_999b_8c85901a33efrow4_col10\" class=\"data row4 col10\" >0.250000</td>\n",
       "                        <td id=\"T_23e0d20c_8e4d_11ea_999b_8c85901a33efrow4_col11\" class=\"data row4 col11\" >0.260000</td>\n",
       "                        <td id=\"T_23e0d20c_8e4d_11ea_999b_8c85901a33efrow4_col12\" class=\"data row4 col12\" >0.320000</td>\n",
       "                        <td id=\"T_23e0d20c_8e4d_11ea_999b_8c85901a33efrow4_col13\" class=\"data row4 col13\" >0.150000</td>\n",
       "                        <td id=\"T_23e0d20c_8e4d_11ea_999b_8c85901a33efrow4_col14\" class=\"data row4 col14\" >0.220000</td>\n",
       "                        <td id=\"T_23e0d20c_8e4d_11ea_999b_8c85901a33efrow4_col15\" class=\"data row4 col15\" >0.150000</td>\n",
       "                        <td id=\"T_23e0d20c_8e4d_11ea_999b_8c85901a33efrow4_col16\" class=\"data row4 col16\" >0.060000</td>\n",
       "                        <td id=\"T_23e0d20c_8e4d_11ea_999b_8c85901a33efrow4_col17\" class=\"data row4 col17\" >0.050000</td>\n",
       "                        <td id=\"T_23e0d20c_8e4d_11ea_999b_8c85901a33efrow4_col18\" class=\"data row4 col18\" >-0.010000</td>\n",
       "                        <td id=\"T_23e0d20c_8e4d_11ea_999b_8c85901a33efrow4_col19\" class=\"data row4 col19\" >0.090000</td>\n",
       "                        <td id=\"T_23e0d20c_8e4d_11ea_999b_8c85901a33efrow4_col20\" class=\"data row4 col20\" >0.000000</td>\n",
       "                        <td id=\"T_23e0d20c_8e4d_11ea_999b_8c85901a33efrow4_col21\" class=\"data row4 col21\" >-0.000000</td>\n",
       "                        <td id=\"T_23e0d20c_8e4d_11ea_999b_8c85901a33efrow4_col22\" class=\"data row4 col22\" >0.050000</td>\n",
       "                        <td id=\"T_23e0d20c_8e4d_11ea_999b_8c85901a33efrow4_col23\" class=\"data row4 col23\" >-0.030000</td>\n",
       "            </tr>\n",
       "            <tr>\n",
       "                        <th id=\"T_23e0d20c_8e4d_11ea_999b_8c85901a33eflevel0_row5\" class=\"row_heading level0 row5\" >fastSixes</th>\n",
       "                        <td id=\"T_23e0d20c_8e4d_11ea_999b_8c85901a33efrow5_col0\" class=\"data row5 col0\" >0.260000</td>\n",
       "                        <td id=\"T_23e0d20c_8e4d_11ea_999b_8c85901a33efrow5_col1\" class=\"data row5 col1\" >0.380000</td>\n",
       "                        <td id=\"T_23e0d20c_8e4d_11ea_999b_8c85901a33efrow5_col2\" class=\"data row5 col2\" >0.210000</td>\n",
       "                        <td id=\"T_23e0d20c_8e4d_11ea_999b_8c85901a33efrow5_col3\" class=\"data row5 col3\" >0.530000</td>\n",
       "                        <td id=\"T_23e0d20c_8e4d_11ea_999b_8c85901a33efrow5_col4\" class=\"data row5 col4\" >0.150000</td>\n",
       "                        <td id=\"T_23e0d20c_8e4d_11ea_999b_8c85901a33efrow5_col5\" class=\"data row5 col5\" >1.000000</td>\n",
       "                        <td id=\"T_23e0d20c_8e4d_11ea_999b_8c85901a33efrow5_col6\" class=\"data row5 col6\" >0.440000</td>\n",
       "                        <td id=\"T_23e0d20c_8e4d_11ea_999b_8c85901a33efrow5_col7\" class=\"data row5 col7\" >0.120000</td>\n",
       "                        <td id=\"T_23e0d20c_8e4d_11ea_999b_8c85901a33efrow5_col8\" class=\"data row5 col8\" >0.270000</td>\n",
       "                        <td id=\"T_23e0d20c_8e4d_11ea_999b_8c85901a33efrow5_col9\" class=\"data row5 col9\" >0.120000</td>\n",
       "                        <td id=\"T_23e0d20c_8e4d_11ea_999b_8c85901a33efrow5_col10\" class=\"data row5 col10\" >0.370000</td>\n",
       "                        <td id=\"T_23e0d20c_8e4d_11ea_999b_8c85901a33efrow5_col11\" class=\"data row5 col11\" >0.600000</td>\n",
       "                        <td id=\"T_23e0d20c_8e4d_11ea_999b_8c85901a33efrow5_col12\" class=\"data row5 col12\" >0.550000</td>\n",
       "                        <td id=\"T_23e0d20c_8e4d_11ea_999b_8c85901a33efrow5_col13\" class=\"data row5 col13\" >0.350000</td>\n",
       "                        <td id=\"T_23e0d20c_8e4d_11ea_999b_8c85901a33efrow5_col14\" class=\"data row5 col14\" >0.370000</td>\n",
       "                        <td id=\"T_23e0d20c_8e4d_11ea_999b_8c85901a33efrow5_col15\" class=\"data row5 col15\" >0.290000</td>\n",
       "                        <td id=\"T_23e0d20c_8e4d_11ea_999b_8c85901a33efrow5_col16\" class=\"data row5 col16\" >0.430000</td>\n",
       "                        <td id=\"T_23e0d20c_8e4d_11ea_999b_8c85901a33efrow5_col17\" class=\"data row5 col17\" >0.270000</td>\n",
       "                        <td id=\"T_23e0d20c_8e4d_11ea_999b_8c85901a33efrow5_col18\" class=\"data row5 col18\" >-0.010000</td>\n",
       "                        <td id=\"T_23e0d20c_8e4d_11ea_999b_8c85901a33efrow5_col19\" class=\"data row5 col19\" >0.180000</td>\n",
       "                        <td id=\"T_23e0d20c_8e4d_11ea_999b_8c85901a33efrow5_col20\" class=\"data row5 col20\" >0.220000</td>\n",
       "                        <td id=\"T_23e0d20c_8e4d_11ea_999b_8c85901a33efrow5_col21\" class=\"data row5 col21\" >0.230000</td>\n",
       "                        <td id=\"T_23e0d20c_8e4d_11ea_999b_8c85901a33efrow5_col22\" class=\"data row5 col22\" >0.200000</td>\n",
       "                        <td id=\"T_23e0d20c_8e4d_11ea_999b_8c85901a33efrow5_col23\" class=\"data row5 col23\" >-0.070000</td>\n",
       "            </tr>\n",
       "            <tr>\n",
       "                        <th id=\"T_23e0d20c_8e4d_11ea_999b_8c85901a33eflevel0_row6\" class=\"row_heading level0 row6\" >fastQuads</th>\n",
       "                        <td id=\"T_23e0d20c_8e4d_11ea_999b_8c85901a33efrow6_col0\" class=\"data row6 col0\" >0.450000</td>\n",
       "                        <td id=\"T_23e0d20c_8e4d_11ea_999b_8c85901a33efrow6_col1\" class=\"data row6 col1\" >0.680000</td>\n",
       "                        <td id=\"T_23e0d20c_8e4d_11ea_999b_8c85901a33efrow6_col2\" class=\"data row6 col2\" >0.340000</td>\n",
       "                        <td id=\"T_23e0d20c_8e4d_11ea_999b_8c85901a33efrow6_col3\" class=\"data row6 col3\" >0.660000</td>\n",
       "                        <td id=\"T_23e0d20c_8e4d_11ea_999b_8c85901a33efrow6_col4\" class=\"data row6 col4\" >0.100000</td>\n",
       "                        <td id=\"T_23e0d20c_8e4d_11ea_999b_8c85901a33efrow6_col5\" class=\"data row6 col5\" >0.440000</td>\n",
       "                        <td id=\"T_23e0d20c_8e4d_11ea_999b_8c85901a33efrow6_col6\" class=\"data row6 col6\" >1.000000</td>\n",
       "                        <td id=\"T_23e0d20c_8e4d_11ea_999b_8c85901a33efrow6_col7\" class=\"data row6 col7\" >0.150000</td>\n",
       "                        <td id=\"T_23e0d20c_8e4d_11ea_999b_8c85901a33efrow6_col8\" class=\"data row6 col8\" >0.300000</td>\n",
       "                        <td id=\"T_23e0d20c_8e4d_11ea_999b_8c85901a33efrow6_col9\" class=\"data row6 col9\" >0.100000</td>\n",
       "                        <td id=\"T_23e0d20c_8e4d_11ea_999b_8c85901a33efrow6_col10\" class=\"data row6 col10\" >0.330000</td>\n",
       "                        <td id=\"T_23e0d20c_8e4d_11ea_999b_8c85901a33efrow6_col11\" class=\"data row6 col11\" >0.760000</td>\n",
       "                        <td id=\"T_23e0d20c_8e4d_11ea_999b_8c85901a33efrow6_col12\" class=\"data row6 col12\" >0.750000</td>\n",
       "                        <td id=\"T_23e0d20c_8e4d_11ea_999b_8c85901a33efrow6_col13\" class=\"data row6 col13\" >0.430000</td>\n",
       "                        <td id=\"T_23e0d20c_8e4d_11ea_999b_8c85901a33efrow6_col14\" class=\"data row6 col14\" >0.580000</td>\n",
       "                        <td id=\"T_23e0d20c_8e4d_11ea_999b_8c85901a33efrow6_col15\" class=\"data row6 col15\" >0.390000</td>\n",
       "                        <td id=\"T_23e0d20c_8e4d_11ea_999b_8c85901a33efrow6_col16\" class=\"data row6 col16\" >0.520000</td>\n",
       "                        <td id=\"T_23e0d20c_8e4d_11ea_999b_8c85901a33efrow6_col17\" class=\"data row6 col17\" >0.450000</td>\n",
       "                        <td id=\"T_23e0d20c_8e4d_11ea_999b_8c85901a33efrow6_col18\" class=\"data row6 col18\" >-0.020000</td>\n",
       "                        <td id=\"T_23e0d20c_8e4d_11ea_999b_8c85901a33efrow6_col19\" class=\"data row6 col19\" >0.400000</td>\n",
       "                        <td id=\"T_23e0d20c_8e4d_11ea_999b_8c85901a33efrow6_col20\" class=\"data row6 col20\" >0.540000</td>\n",
       "                        <td id=\"T_23e0d20c_8e4d_11ea_999b_8c85901a33efrow6_col21\" class=\"data row6 col21\" >0.530000</td>\n",
       "                        <td id=\"T_23e0d20c_8e4d_11ea_999b_8c85901a33efrow6_col22\" class=\"data row6 col22\" >0.360000</td>\n",
       "                        <td id=\"T_23e0d20c_8e4d_11ea_999b_8c85901a33efrow6_col23\" class=\"data row6 col23\" >-0.020000</td>\n",
       "            </tr>\n",
       "            <tr>\n",
       "                        <th id=\"T_23e0d20c_8e4d_11ea_999b_8c85901a33eflevel0_row7\" class=\"row_heading level0 row7\" >quad</th>\n",
       "                        <td id=\"T_23e0d20c_8e4d_11ea_999b_8c85901a33efrow7_col0\" class=\"data row7 col0\" >-0.010000</td>\n",
       "                        <td id=\"T_23e0d20c_8e4d_11ea_999b_8c85901a33efrow7_col1\" class=\"data row7 col1\" >0.140000</td>\n",
       "                        <td id=\"T_23e0d20c_8e4d_11ea_999b_8c85901a33efrow7_col2\" class=\"data row7 col2\" >-0.060000</td>\n",
       "                        <td id=\"T_23e0d20c_8e4d_11ea_999b_8c85901a33efrow7_col3\" class=\"data row7 col3\" >0.220000</td>\n",
       "                        <td id=\"T_23e0d20c_8e4d_11ea_999b_8c85901a33efrow7_col4\" class=\"data row7 col4\" >0.090000</td>\n",
       "                        <td id=\"T_23e0d20c_8e4d_11ea_999b_8c85901a33efrow7_col5\" class=\"data row7 col5\" >0.120000</td>\n",
       "                        <td id=\"T_23e0d20c_8e4d_11ea_999b_8c85901a33efrow7_col6\" class=\"data row7 col6\" >0.150000</td>\n",
       "                        <td id=\"T_23e0d20c_8e4d_11ea_999b_8c85901a33efrow7_col7\" class=\"data row7 col7\" >1.000000</td>\n",
       "                        <td id=\"T_23e0d20c_8e4d_11ea_999b_8c85901a33efrow7_col8\" class=\"data row7 col8\" >0.140000</td>\n",
       "                        <td id=\"T_23e0d20c_8e4d_11ea_999b_8c85901a33efrow7_col9\" class=\"data row7 col9\" >-0.120000</td>\n",
       "                        <td id=\"T_23e0d20c_8e4d_11ea_999b_8c85901a33efrow7_col10\" class=\"data row7 col10\" >0.120000</td>\n",
       "                        <td id=\"T_23e0d20c_8e4d_11ea_999b_8c85901a33efrow7_col11\" class=\"data row7 col11\" >0.360000</td>\n",
       "                        <td id=\"T_23e0d20c_8e4d_11ea_999b_8c85901a33efrow7_col12\" class=\"data row7 col12\" >0.300000</td>\n",
       "                        <td id=\"T_23e0d20c_8e4d_11ea_999b_8c85901a33efrow7_col13\" class=\"data row7 col13\" >0.270000</td>\n",
       "                        <td id=\"T_23e0d20c_8e4d_11ea_999b_8c85901a33efrow7_col14\" class=\"data row7 col14\" >0.200000</td>\n",
       "                        <td id=\"T_23e0d20c_8e4d_11ea_999b_8c85901a33efrow7_col15\" class=\"data row7 col15\" >0.060000</td>\n",
       "                        <td id=\"T_23e0d20c_8e4d_11ea_999b_8c85901a33efrow7_col16\" class=\"data row7 col16\" >0.220000</td>\n",
       "                        <td id=\"T_23e0d20c_8e4d_11ea_999b_8c85901a33efrow7_col17\" class=\"data row7 col17\" >0.190000</td>\n",
       "                        <td id=\"T_23e0d20c_8e4d_11ea_999b_8c85901a33efrow7_col18\" class=\"data row7 col18\" >-0.030000</td>\n",
       "                        <td id=\"T_23e0d20c_8e4d_11ea_999b_8c85901a33efrow7_col19\" class=\"data row7 col19\" >0.070000</td>\n",
       "                        <td id=\"T_23e0d20c_8e4d_11ea_999b_8c85901a33efrow7_col20\" class=\"data row7 col20\" >0.250000</td>\n",
       "                        <td id=\"T_23e0d20c_8e4d_11ea_999b_8c85901a33efrow7_col21\" class=\"data row7 col21\" >0.300000</td>\n",
       "                        <td id=\"T_23e0d20c_8e4d_11ea_999b_8c85901a33efrow7_col22\" class=\"data row7 col22\" >0.200000</td>\n",
       "                        <td id=\"T_23e0d20c_8e4d_11ea_999b_8c85901a33efrow7_col23\" class=\"data row7 col23\" >0.160000</td>\n",
       "            </tr>\n",
       "            <tr>\n",
       "                        <th id=\"T_23e0d20c_8e4d_11ea_999b_8c85901a33eflevel0_row8\" class=\"row_heading level0 row8\" >triple</th>\n",
       "                        <td id=\"T_23e0d20c_8e4d_11ea_999b_8c85901a33efrow8_col0\" class=\"data row8 col0\" >0.180000</td>\n",
       "                        <td id=\"T_23e0d20c_8e4d_11ea_999b_8c85901a33efrow8_col1\" class=\"data row8 col1\" >0.260000</td>\n",
       "                        <td id=\"T_23e0d20c_8e4d_11ea_999b_8c85901a33efrow8_col2\" class=\"data row8 col2\" >0.150000</td>\n",
       "                        <td id=\"T_23e0d20c_8e4d_11ea_999b_8c85901a33efrow8_col3\" class=\"data row8 col3\" >0.270000</td>\n",
       "                        <td id=\"T_23e0d20c_8e4d_11ea_999b_8c85901a33efrow8_col4\" class=\"data row8 col4\" >0.190000</td>\n",
       "                        <td id=\"T_23e0d20c_8e4d_11ea_999b_8c85901a33efrow8_col5\" class=\"data row8 col5\" >0.270000</td>\n",
       "                        <td id=\"T_23e0d20c_8e4d_11ea_999b_8c85901a33efrow8_col6\" class=\"data row8 col6\" >0.300000</td>\n",
       "                        <td id=\"T_23e0d20c_8e4d_11ea_999b_8c85901a33efrow8_col7\" class=\"data row8 col7\" >0.140000</td>\n",
       "                        <td id=\"T_23e0d20c_8e4d_11ea_999b_8c85901a33efrow8_col8\" class=\"data row8 col8\" >1.000000</td>\n",
       "                        <td id=\"T_23e0d20c_8e4d_11ea_999b_8c85901a33efrow8_col9\" class=\"data row8 col9\" >-0.020000</td>\n",
       "                        <td id=\"T_23e0d20c_8e4d_11ea_999b_8c85901a33efrow8_col10\" class=\"data row8 col10\" >0.180000</td>\n",
       "                        <td id=\"T_23e0d20c_8e4d_11ea_999b_8c85901a33efrow8_col11\" class=\"data row8 col11\" >0.540000</td>\n",
       "                        <td id=\"T_23e0d20c_8e4d_11ea_999b_8c85901a33efrow8_col12\" class=\"data row8 col12\" >0.370000</td>\n",
       "                        <td id=\"T_23e0d20c_8e4d_11ea_999b_8c85901a33efrow8_col13\" class=\"data row8 col13\" >0.400000</td>\n",
       "                        <td id=\"T_23e0d20c_8e4d_11ea_999b_8c85901a33efrow8_col14\" class=\"data row8 col14\" >0.260000</td>\n",
       "                        <td id=\"T_23e0d20c_8e4d_11ea_999b_8c85901a33efrow8_col15\" class=\"data row8 col15\" >0.140000</td>\n",
       "                        <td id=\"T_23e0d20c_8e4d_11ea_999b_8c85901a33efrow8_col16\" class=\"data row8 col16\" >0.340000</td>\n",
       "                        <td id=\"T_23e0d20c_8e4d_11ea_999b_8c85901a33efrow8_col17\" class=\"data row8 col17\" >0.190000</td>\n",
       "                        <td id=\"T_23e0d20c_8e4d_11ea_999b_8c85901a33efrow8_col18\" class=\"data row8 col18\" >-0.040000</td>\n",
       "                        <td id=\"T_23e0d20c_8e4d_11ea_999b_8c85901a33efrow8_col19\" class=\"data row8 col19\" >0.130000</td>\n",
       "                        <td id=\"T_23e0d20c_8e4d_11ea_999b_8c85901a33efrow8_col20\" class=\"data row8 col20\" >0.270000</td>\n",
       "                        <td id=\"T_23e0d20c_8e4d_11ea_999b_8c85901a33efrow8_col21\" class=\"data row8 col21\" >0.310000</td>\n",
       "                        <td id=\"T_23e0d20c_8e4d_11ea_999b_8c85901a33efrow8_col22\" class=\"data row8 col22\" >0.160000</td>\n",
       "                        <td id=\"T_23e0d20c_8e4d_11ea_999b_8c85901a33efrow8_col23\" class=\"data row8 col23\" >0.090000</td>\n",
       "            </tr>\n",
       "            <tr>\n",
       "                        <th id=\"T_23e0d20c_8e4d_11ea_999b_8c85901a33eflevel0_row9\" class=\"row_heading level0 row9\" >double</th>\n",
       "                        <td id=\"T_23e0d20c_8e4d_11ea_999b_8c85901a33efrow9_col0\" class=\"data row9 col0\" >0.110000</td>\n",
       "                        <td id=\"T_23e0d20c_8e4d_11ea_999b_8c85901a33efrow9_col1\" class=\"data row9 col1\" >0.170000</td>\n",
       "                        <td id=\"T_23e0d20c_8e4d_11ea_999b_8c85901a33efrow9_col2\" class=\"data row9 col2\" >0.080000</td>\n",
       "                        <td id=\"T_23e0d20c_8e4d_11ea_999b_8c85901a33efrow9_col3\" class=\"data row9 col3\" >0.070000</td>\n",
       "                        <td id=\"T_23e0d20c_8e4d_11ea_999b_8c85901a33efrow9_col4\" class=\"data row9 col4\" >0.100000</td>\n",
       "                        <td id=\"T_23e0d20c_8e4d_11ea_999b_8c85901a33efrow9_col5\" class=\"data row9 col5\" >0.120000</td>\n",
       "                        <td id=\"T_23e0d20c_8e4d_11ea_999b_8c85901a33efrow9_col6\" class=\"data row9 col6\" >0.100000</td>\n",
       "                        <td id=\"T_23e0d20c_8e4d_11ea_999b_8c85901a33efrow9_col7\" class=\"data row9 col7\" >-0.120000</td>\n",
       "                        <td id=\"T_23e0d20c_8e4d_11ea_999b_8c85901a33efrow9_col8\" class=\"data row9 col8\" >-0.020000</td>\n",
       "                        <td id=\"T_23e0d20c_8e4d_11ea_999b_8c85901a33efrow9_col9\" class=\"data row9 col9\" >1.000000</td>\n",
       "                        <td id=\"T_23e0d20c_8e4d_11ea_999b_8c85901a33efrow9_col10\" class=\"data row9 col10\" >0.090000</td>\n",
       "                        <td id=\"T_23e0d20c_8e4d_11ea_999b_8c85901a33efrow9_col11\" class=\"data row9 col11\" >0.370000</td>\n",
       "                        <td id=\"T_23e0d20c_8e4d_11ea_999b_8c85901a33efrow9_col12\" class=\"data row9 col12\" >0.240000</td>\n",
       "                        <td id=\"T_23e0d20c_8e4d_11ea_999b_8c85901a33efrow9_col13\" class=\"data row9 col13\" >0.250000</td>\n",
       "                        <td id=\"T_23e0d20c_8e4d_11ea_999b_8c85901a33efrow9_col14\" class=\"data row9 col14\" >0.150000</td>\n",
       "                        <td id=\"T_23e0d20c_8e4d_11ea_999b_8c85901a33efrow9_col15\" class=\"data row9 col15\" >0.080000</td>\n",
       "                        <td id=\"T_23e0d20c_8e4d_11ea_999b_8c85901a33efrow9_col16\" class=\"data row9 col16\" >0.100000</td>\n",
       "                        <td id=\"T_23e0d20c_8e4d_11ea_999b_8c85901a33efrow9_col17\" class=\"data row9 col17\" >0.100000</td>\n",
       "                        <td id=\"T_23e0d20c_8e4d_11ea_999b_8c85901a33efrow9_col18\" class=\"data row9 col18\" >-0.030000</td>\n",
       "                        <td id=\"T_23e0d20c_8e4d_11ea_999b_8c85901a33efrow9_col19\" class=\"data row9 col19\" >0.090000</td>\n",
       "                        <td id=\"T_23e0d20c_8e4d_11ea_999b_8c85901a33efrow9_col20\" class=\"data row9 col20\" >0.120000</td>\n",
       "                        <td id=\"T_23e0d20c_8e4d_11ea_999b_8c85901a33efrow9_col21\" class=\"data row9 col21\" >0.120000</td>\n",
       "                        <td id=\"T_23e0d20c_8e4d_11ea_999b_8c85901a33efrow9_col22\" class=\"data row9 col22\" >0.110000</td>\n",
       "                        <td id=\"T_23e0d20c_8e4d_11ea_999b_8c85901a33efrow9_col23\" class=\"data row9 col23\" >0.130000</td>\n",
       "            </tr>\n",
       "            <tr>\n",
       "                        <th id=\"T_23e0d20c_8e4d_11ea_999b_8c85901a33eflevel0_row10\" class=\"row_heading level0 row10\" >surface</th>\n",
       "                        <td id=\"T_23e0d20c_8e4d_11ea_999b_8c85901a33efrow10_col0\" class=\"data row10 col0\" >-0.040000</td>\n",
       "                        <td id=\"T_23e0d20c_8e4d_11ea_999b_8c85901a33efrow10_col1\" class=\"data row10 col1\" >0.090000</td>\n",
       "                        <td id=\"T_23e0d20c_8e4d_11ea_999b_8c85901a33efrow10_col2\" class=\"data row10 col2\" >-0.070000</td>\n",
       "                        <td id=\"T_23e0d20c_8e4d_11ea_999b_8c85901a33efrow10_col3\" class=\"data row10 col3\" >0.270000</td>\n",
       "                        <td id=\"T_23e0d20c_8e4d_11ea_999b_8c85901a33efrow10_col4\" class=\"data row10 col4\" >0.250000</td>\n",
       "                        <td id=\"T_23e0d20c_8e4d_11ea_999b_8c85901a33efrow10_col5\" class=\"data row10 col5\" >0.370000</td>\n",
       "                        <td id=\"T_23e0d20c_8e4d_11ea_999b_8c85901a33efrow10_col6\" class=\"data row10 col6\" >0.330000</td>\n",
       "                        <td id=\"T_23e0d20c_8e4d_11ea_999b_8c85901a33efrow10_col7\" class=\"data row10 col7\" >0.120000</td>\n",
       "                        <td id=\"T_23e0d20c_8e4d_11ea_999b_8c85901a33efrow10_col8\" class=\"data row10 col8\" >0.180000</td>\n",
       "                        <td id=\"T_23e0d20c_8e4d_11ea_999b_8c85901a33efrow10_col9\" class=\"data row10 col9\" >0.090000</td>\n",
       "                        <td id=\"T_23e0d20c_8e4d_11ea_999b_8c85901a33efrow10_col10\" class=\"data row10 col10\" >1.000000</td>\n",
       "                        <td id=\"T_23e0d20c_8e4d_11ea_999b_8c85901a33efrow10_col11\" class=\"data row10 col11\" >0.660000</td>\n",
       "                        <td id=\"T_23e0d20c_8e4d_11ea_999b_8c85901a33efrow10_col12\" class=\"data row10 col12\" >0.310000</td>\n",
       "                        <td id=\"T_23e0d20c_8e4d_11ea_999b_8c85901a33efrow10_col13\" class=\"data row10 col13\" >0.350000</td>\n",
       "                        <td id=\"T_23e0d20c_8e4d_11ea_999b_8c85901a33efrow10_col14\" class=\"data row10 col14\" >0.160000</td>\n",
       "                        <td id=\"T_23e0d20c_8e4d_11ea_999b_8c85901a33efrow10_col15\" class=\"data row10 col15\" >0.090000</td>\n",
       "                        <td id=\"T_23e0d20c_8e4d_11ea_999b_8c85901a33efrow10_col16\" class=\"data row10 col16\" >0.310000</td>\n",
       "                        <td id=\"T_23e0d20c_8e4d_11ea_999b_8c85901a33efrow10_col17\" class=\"data row10 col17\" >0.140000</td>\n",
       "                        <td id=\"T_23e0d20c_8e4d_11ea_999b_8c85901a33efrow10_col18\" class=\"data row10 col18\" >0.090000</td>\n",
       "                        <td id=\"T_23e0d20c_8e4d_11ea_999b_8c85901a33efrow10_col19\" class=\"data row10 col19\" >-0.110000</td>\n",
       "                        <td id=\"T_23e0d20c_8e4d_11ea_999b_8c85901a33efrow10_col20\" class=\"data row10 col20\" >0.000000</td>\n",
       "                        <td id=\"T_23e0d20c_8e4d_11ea_999b_8c85901a33efrow10_col21\" class=\"data row10 col21\" >0.020000</td>\n",
       "                        <td id=\"T_23e0d20c_8e4d_11ea_999b_8c85901a33efrow10_col22\" class=\"data row10 col22\" >0.090000</td>\n",
       "                        <td id=\"T_23e0d20c_8e4d_11ea_999b_8c85901a33efrow10_col23\" class=\"data row10 col23\" >0.040000</td>\n",
       "            </tr>\n",
       "            <tr>\n",
       "                        <th id=\"T_23e0d20c_8e4d_11ea_999b_8c85901a33eflevel0_row11\" class=\"row_heading level0 row11\" >total_chairs</th>\n",
       "                        <td id=\"T_23e0d20c_8e4d_11ea_999b_8c85901a33efrow11_col0\" class=\"data row11 col0\" >0.300000</td>\n",
       "                        <td id=\"T_23e0d20c_8e4d_11ea_999b_8c85901a33efrow11_col1\" class=\"data row11 col1\" >0.550000</td>\n",
       "                        <td id=\"T_23e0d20c_8e4d_11ea_999b_8c85901a33efrow11_col2\" class=\"data row11 col2\" >0.200000</td>\n",
       "                        <td id=\"T_23e0d20c_8e4d_11ea_999b_8c85901a33efrow11_col3\" class=\"data row11 col3\" >0.650000</td>\n",
       "                        <td id=\"T_23e0d20c_8e4d_11ea_999b_8c85901a33efrow11_col4\" class=\"data row11 col4\" >0.260000</td>\n",
       "                        <td id=\"T_23e0d20c_8e4d_11ea_999b_8c85901a33efrow11_col5\" class=\"data row11 col5\" >0.600000</td>\n",
       "                        <td id=\"T_23e0d20c_8e4d_11ea_999b_8c85901a33efrow11_col6\" class=\"data row11 col6\" >0.760000</td>\n",
       "                        <td id=\"T_23e0d20c_8e4d_11ea_999b_8c85901a33efrow11_col7\" class=\"data row11 col7\" >0.360000</td>\n",
       "                        <td id=\"T_23e0d20c_8e4d_11ea_999b_8c85901a33efrow11_col8\" class=\"data row11 col8\" >0.540000</td>\n",
       "                        <td id=\"T_23e0d20c_8e4d_11ea_999b_8c85901a33efrow11_col9\" class=\"data row11 col9\" >0.370000</td>\n",
       "                        <td id=\"T_23e0d20c_8e4d_11ea_999b_8c85901a33efrow11_col10\" class=\"data row11 col10\" >0.660000</td>\n",
       "                        <td id=\"T_23e0d20c_8e4d_11ea_999b_8c85901a33efrow11_col11\" class=\"data row11 col11\" >1.000000</td>\n",
       "                        <td id=\"T_23e0d20c_8e4d_11ea_999b_8c85901a33efrow11_col12\" class=\"data row11 col12\" >0.770000</td>\n",
       "                        <td id=\"T_23e0d20c_8e4d_11ea_999b_8c85901a33efrow11_col13\" class=\"data row11 col13\" >0.610000</td>\n",
       "                        <td id=\"T_23e0d20c_8e4d_11ea_999b_8c85901a33efrow11_col14\" class=\"data row11 col14\" >0.540000</td>\n",
       "                        <td id=\"T_23e0d20c_8e4d_11ea_999b_8c85901a33efrow11_col15\" class=\"data row11 col15\" >0.330000</td>\n",
       "                        <td id=\"T_23e0d20c_8e4d_11ea_999b_8c85901a33efrow11_col16\" class=\"data row11 col16\" >0.580000</td>\n",
       "                        <td id=\"T_23e0d20c_8e4d_11ea_999b_8c85901a33efrow11_col17\" class=\"data row11 col17\" >0.410000</td>\n",
       "                        <td id=\"T_23e0d20c_8e4d_11ea_999b_8c85901a33efrow11_col18\" class=\"data row11 col18\" >-0.000000</td>\n",
       "                        <td id=\"T_23e0d20c_8e4d_11ea_999b_8c85901a33efrow11_col19\" class=\"data row11 col19\" >0.240000</td>\n",
       "                        <td id=\"T_23e0d20c_8e4d_11ea_999b_8c85901a33efrow11_col20\" class=\"data row11 col20\" >0.440000</td>\n",
       "                        <td id=\"T_23e0d20c_8e4d_11ea_999b_8c85901a33efrow11_col21\" class=\"data row11 col21\" >0.470000</td>\n",
       "                        <td id=\"T_23e0d20c_8e4d_11ea_999b_8c85901a33efrow11_col22\" class=\"data row11 col22\" >0.340000</td>\n",
       "                        <td id=\"T_23e0d20c_8e4d_11ea_999b_8c85901a33efrow11_col23\" class=\"data row11 col23\" >0.090000</td>\n",
       "            </tr>\n",
       "            <tr>\n",
       "                        <th id=\"T_23e0d20c_8e4d_11ea_999b_8c85901a33eflevel0_row12\" class=\"row_heading level0 row12\" >Runs</th>\n",
       "                        <td id=\"T_23e0d20c_8e4d_11ea_999b_8c85901a33efrow12_col0\" class=\"data row12 col0\" >0.570000</td>\n",
       "                        <td id=\"T_23e0d20c_8e4d_11ea_999b_8c85901a33efrow12_col1\" class=\"data row12 col1\" >0.800000</td>\n",
       "                        <td id=\"T_23e0d20c_8e4d_11ea_999b_8c85901a33efrow12_col2\" class=\"data row12 col2\" >0.450000</td>\n",
       "                        <td id=\"T_23e0d20c_8e4d_11ea_999b_8c85901a33efrow12_col3\" class=\"data row12 col3\" >0.690000</td>\n",
       "                        <td id=\"T_23e0d20c_8e4d_11ea_999b_8c85901a33efrow12_col4\" class=\"data row12 col4\" >0.320000</td>\n",
       "                        <td id=\"T_23e0d20c_8e4d_11ea_999b_8c85901a33efrow12_col5\" class=\"data row12 col5\" >0.550000</td>\n",
       "                        <td id=\"T_23e0d20c_8e4d_11ea_999b_8c85901a33efrow12_col6\" class=\"data row12 col6\" >0.750000</td>\n",
       "                        <td id=\"T_23e0d20c_8e4d_11ea_999b_8c85901a33efrow12_col7\" class=\"data row12 col7\" >0.300000</td>\n",
       "                        <td id=\"T_23e0d20c_8e4d_11ea_999b_8c85901a33efrow12_col8\" class=\"data row12 col8\" >0.370000</td>\n",
       "                        <td id=\"T_23e0d20c_8e4d_11ea_999b_8c85901a33efrow12_col9\" class=\"data row12 col9\" >0.240000</td>\n",
       "                        <td id=\"T_23e0d20c_8e4d_11ea_999b_8c85901a33efrow12_col10\" class=\"data row12 col10\" >0.310000</td>\n",
       "                        <td id=\"T_23e0d20c_8e4d_11ea_999b_8c85901a33efrow12_col11\" class=\"data row12 col11\" >0.770000</td>\n",
       "                        <td id=\"T_23e0d20c_8e4d_11ea_999b_8c85901a33efrow12_col12\" class=\"data row12 col12\" >1.000000</td>\n",
       "                        <td id=\"T_23e0d20c_8e4d_11ea_999b_8c85901a33efrow12_col13\" class=\"data row12 col13\" >0.470000</td>\n",
       "                        <td id=\"T_23e0d20c_8e4d_11ea_999b_8c85901a33efrow12_col14\" class=\"data row12 col14\" >0.720000</td>\n",
       "                        <td id=\"T_23e0d20c_8e4d_11ea_999b_8c85901a33efrow12_col15\" class=\"data row12 col15\" >0.490000</td>\n",
       "                        <td id=\"T_23e0d20c_8e4d_11ea_999b_8c85901a33efrow12_col16\" class=\"data row12 col16\" >0.460000</td>\n",
       "                        <td id=\"T_23e0d20c_8e4d_11ea_999b_8c85901a33efrow12_col17\" class=\"data row12 col17\" >0.480000</td>\n",
       "                        <td id=\"T_23e0d20c_8e4d_11ea_999b_8c85901a33efrow12_col18\" class=\"data row12 col18\" >-0.020000</td>\n",
       "                        <td id=\"T_23e0d20c_8e4d_11ea_999b_8c85901a33efrow12_col19\" class=\"data row12 col19\" >0.520000</td>\n",
       "                        <td id=\"T_23e0d20c_8e4d_11ea_999b_8c85901a33efrow12_col20\" class=\"data row12 col20\" >0.590000</td>\n",
       "                        <td id=\"T_23e0d20c_8e4d_11ea_999b_8c85901a33efrow12_col21\" class=\"data row12 col21\" >0.560000</td>\n",
       "                        <td id=\"T_23e0d20c_8e4d_11ea_999b_8c85901a33efrow12_col22\" class=\"data row12 col22\" >0.430000</td>\n",
       "                        <td id=\"T_23e0d20c_8e4d_11ea_999b_8c85901a33efrow12_col23\" class=\"data row12 col23\" >-0.030000</td>\n",
       "            </tr>\n",
       "            <tr>\n",
       "                        <th id=\"T_23e0d20c_8e4d_11ea_999b_8c85901a33eflevel0_row13\" class=\"row_heading level0 row13\" >TerrainParks</th>\n",
       "                        <td id=\"T_23e0d20c_8e4d_11ea_999b_8c85901a33efrow13_col0\" class=\"data row13 col0\" >0.160000</td>\n",
       "                        <td id=\"T_23e0d20c_8e4d_11ea_999b_8c85901a33efrow13_col1\" class=\"data row13 col1\" >0.340000</td>\n",
       "                        <td id=\"T_23e0d20c_8e4d_11ea_999b_8c85901a33efrow13_col2\" class=\"data row13 col2\" >0.100000</td>\n",
       "                        <td id=\"T_23e0d20c_8e4d_11ea_999b_8c85901a33efrow13_col3\" class=\"data row13 col3\" >0.330000</td>\n",
       "                        <td id=\"T_23e0d20c_8e4d_11ea_999b_8c85901a33efrow13_col4\" class=\"data row13 col4\" >0.150000</td>\n",
       "                        <td id=\"T_23e0d20c_8e4d_11ea_999b_8c85901a33efrow13_col5\" class=\"data row13 col5\" >0.350000</td>\n",
       "                        <td id=\"T_23e0d20c_8e4d_11ea_999b_8c85901a33efrow13_col6\" class=\"data row13 col6\" >0.430000</td>\n",
       "                        <td id=\"T_23e0d20c_8e4d_11ea_999b_8c85901a33efrow13_col7\" class=\"data row13 col7\" >0.270000</td>\n",
       "                        <td id=\"T_23e0d20c_8e4d_11ea_999b_8c85901a33efrow13_col8\" class=\"data row13 col8\" >0.400000</td>\n",
       "                        <td id=\"T_23e0d20c_8e4d_11ea_999b_8c85901a33efrow13_col9\" class=\"data row13 col9\" >0.250000</td>\n",
       "                        <td id=\"T_23e0d20c_8e4d_11ea_999b_8c85901a33efrow13_col10\" class=\"data row13 col10\" >0.350000</td>\n",
       "                        <td id=\"T_23e0d20c_8e4d_11ea_999b_8c85901a33efrow13_col11\" class=\"data row13 col11\" >0.610000</td>\n",
       "                        <td id=\"T_23e0d20c_8e4d_11ea_999b_8c85901a33efrow13_col12\" class=\"data row13 col12\" >0.470000</td>\n",
       "                        <td id=\"T_23e0d20c_8e4d_11ea_999b_8c85901a33efrow13_col13\" class=\"data row13 col13\" >1.000000</td>\n",
       "                        <td id=\"T_23e0d20c_8e4d_11ea_999b_8c85901a33efrow13_col14\" class=\"data row13 col14\" >0.360000</td>\n",
       "                        <td id=\"T_23e0d20c_8e4d_11ea_999b_8c85901a33efrow13_col15\" class=\"data row13 col15\" >0.140000</td>\n",
       "                        <td id=\"T_23e0d20c_8e4d_11ea_999b_8c85901a33efrow13_col16\" class=\"data row13 col16\" >0.380000</td>\n",
       "                        <td id=\"T_23e0d20c_8e4d_11ea_999b_8c85901a33efrow13_col17\" class=\"data row13 col17\" >0.290000</td>\n",
       "                        <td id=\"T_23e0d20c_8e4d_11ea_999b_8c85901a33efrow13_col18\" class=\"data row13 col18\" >0.040000</td>\n",
       "                        <td id=\"T_23e0d20c_8e4d_11ea_999b_8c85901a33efrow13_col19\" class=\"data row13 col19\" >0.120000</td>\n",
       "                        <td id=\"T_23e0d20c_8e4d_11ea_999b_8c85901a33efrow13_col20\" class=\"data row13 col20\" >0.310000</td>\n",
       "                        <td id=\"T_23e0d20c_8e4d_11ea_999b_8c85901a33efrow13_col21\" class=\"data row13 col21\" >0.340000</td>\n",
       "                        <td id=\"T_23e0d20c_8e4d_11ea_999b_8c85901a33efrow13_col22\" class=\"data row13 col22\" >0.260000</td>\n",
       "                        <td id=\"T_23e0d20c_8e4d_11ea_999b_8c85901a33efrow13_col23\" class=\"data row13 col23\" >0.140000</td>\n",
       "            </tr>\n",
       "            <tr>\n",
       "                        <th id=\"T_23e0d20c_8e4d_11ea_999b_8c85901a33eflevel0_row14\" class=\"row_heading level0 row14\" >LongestRun_mi</th>\n",
       "                        <td id=\"T_23e0d20c_8e4d_11ea_999b_8c85901a33efrow14_col0\" class=\"data row14 col0\" >0.530000</td>\n",
       "                        <td id=\"T_23e0d20c_8e4d_11ea_999b_8c85901a33efrow14_col1\" class=\"data row14 col1\" >0.760000</td>\n",
       "                        <td id=\"T_23e0d20c_8e4d_11ea_999b_8c85901a33efrow14_col2\" class=\"data row14 col2\" >0.410000</td>\n",
       "                        <td id=\"T_23e0d20c_8e4d_11ea_999b_8c85901a33efrow14_col3\" class=\"data row14 col3\" >0.570000</td>\n",
       "                        <td id=\"T_23e0d20c_8e4d_11ea_999b_8c85901a33efrow14_col4\" class=\"data row14 col4\" >0.220000</td>\n",
       "                        <td id=\"T_23e0d20c_8e4d_11ea_999b_8c85901a33efrow14_col5\" class=\"data row14 col5\" >0.370000</td>\n",
       "                        <td id=\"T_23e0d20c_8e4d_11ea_999b_8c85901a33efrow14_col6\" class=\"data row14 col6\" >0.580000</td>\n",
       "                        <td id=\"T_23e0d20c_8e4d_11ea_999b_8c85901a33efrow14_col7\" class=\"data row14 col7\" >0.200000</td>\n",
       "                        <td id=\"T_23e0d20c_8e4d_11ea_999b_8c85901a33efrow14_col8\" class=\"data row14 col8\" >0.260000</td>\n",
       "                        <td id=\"T_23e0d20c_8e4d_11ea_999b_8c85901a33efrow14_col9\" class=\"data row14 col9\" >0.150000</td>\n",
       "                        <td id=\"T_23e0d20c_8e4d_11ea_999b_8c85901a33efrow14_col10\" class=\"data row14 col10\" >0.160000</td>\n",
       "                        <td id=\"T_23e0d20c_8e4d_11ea_999b_8c85901a33efrow14_col11\" class=\"data row14 col11\" >0.540000</td>\n",
       "                        <td id=\"T_23e0d20c_8e4d_11ea_999b_8c85901a33efrow14_col12\" class=\"data row14 col12\" >0.720000</td>\n",
       "                        <td id=\"T_23e0d20c_8e4d_11ea_999b_8c85901a33efrow14_col13\" class=\"data row14 col13\" >0.360000</td>\n",
       "                        <td id=\"T_23e0d20c_8e4d_11ea_999b_8c85901a33efrow14_col14\" class=\"data row14 col14\" >1.000000</td>\n",
       "                        <td id=\"T_23e0d20c_8e4d_11ea_999b_8c85901a33efrow14_col15\" class=\"data row14 col15\" >0.370000</td>\n",
       "                        <td id=\"T_23e0d20c_8e4d_11ea_999b_8c85901a33efrow14_col16\" class=\"data row14 col16\" >0.490000</td>\n",
       "                        <td id=\"T_23e0d20c_8e4d_11ea_999b_8c85901a33efrow14_col17\" class=\"data row14 col17\" >0.390000</td>\n",
       "                        <td id=\"T_23e0d20c_8e4d_11ea_999b_8c85901a33efrow14_col18\" class=\"data row14 col18\" >0.000000</td>\n",
       "                        <td id=\"T_23e0d20c_8e4d_11ea_999b_8c85901a33efrow14_col19\" class=\"data row14 col19\" >0.470000</td>\n",
       "                        <td id=\"T_23e0d20c_8e4d_11ea_999b_8c85901a33efrow14_col20\" class=\"data row14 col20\" >0.510000</td>\n",
       "                        <td id=\"T_23e0d20c_8e4d_11ea_999b_8c85901a33efrow14_col21\" class=\"data row14 col21\" >0.480000</td>\n",
       "                        <td id=\"T_23e0d20c_8e4d_11ea_999b_8c85901a33efrow14_col22\" class=\"data row14 col22\" >0.360000</td>\n",
       "                        <td id=\"T_23e0d20c_8e4d_11ea_999b_8c85901a33efrow14_col23\" class=\"data row14 col23\" >-0.120000</td>\n",
       "            </tr>\n",
       "            <tr>\n",
       "                        <th id=\"T_23e0d20c_8e4d_11ea_999b_8c85901a33eflevel0_row15\" class=\"row_heading level0 row15\" >SkiableTerrain_ac</th>\n",
       "                        <td id=\"T_23e0d20c_8e4d_11ea_999b_8c85901a33efrow15_col0\" class=\"data row15 col0\" >0.470000</td>\n",
       "                        <td id=\"T_23e0d20c_8e4d_11ea_999b_8c85901a33efrow15_col1\" class=\"data row15 col1\" >0.530000</td>\n",
       "                        <td id=\"T_23e0d20c_8e4d_11ea_999b_8c85901a33efrow15_col2\" class=\"data row15 col2\" >0.410000</td>\n",
       "                        <td id=\"T_23e0d20c_8e4d_11ea_999b_8c85901a33efrow15_col3\" class=\"data row15 col3\" >0.340000</td>\n",
       "                        <td id=\"T_23e0d20c_8e4d_11ea_999b_8c85901a33efrow15_col4\" class=\"data row15 col4\" >0.150000</td>\n",
       "                        <td id=\"T_23e0d20c_8e4d_11ea_999b_8c85901a33efrow15_col5\" class=\"data row15 col5\" >0.290000</td>\n",
       "                        <td id=\"T_23e0d20c_8e4d_11ea_999b_8c85901a33efrow15_col6\" class=\"data row15 col6\" >0.390000</td>\n",
       "                        <td id=\"T_23e0d20c_8e4d_11ea_999b_8c85901a33efrow15_col7\" class=\"data row15 col7\" >0.060000</td>\n",
       "                        <td id=\"T_23e0d20c_8e4d_11ea_999b_8c85901a33efrow15_col8\" class=\"data row15 col8\" >0.140000</td>\n",
       "                        <td id=\"T_23e0d20c_8e4d_11ea_999b_8c85901a33efrow15_col9\" class=\"data row15 col9\" >0.080000</td>\n",
       "                        <td id=\"T_23e0d20c_8e4d_11ea_999b_8c85901a33efrow15_col10\" class=\"data row15 col10\" >0.090000</td>\n",
       "                        <td id=\"T_23e0d20c_8e4d_11ea_999b_8c85901a33efrow15_col11\" class=\"data row15 col11\" >0.330000</td>\n",
       "                        <td id=\"T_23e0d20c_8e4d_11ea_999b_8c85901a33efrow15_col12\" class=\"data row15 col12\" >0.490000</td>\n",
       "                        <td id=\"T_23e0d20c_8e4d_11ea_999b_8c85901a33efrow15_col13\" class=\"data row15 col13\" >0.140000</td>\n",
       "                        <td id=\"T_23e0d20c_8e4d_11ea_999b_8c85901a33efrow15_col14\" class=\"data row15 col14\" >0.370000</td>\n",
       "                        <td id=\"T_23e0d20c_8e4d_11ea_999b_8c85901a33efrow15_col15\" class=\"data row15 col15\" >1.000000</td>\n",
       "                        <td id=\"T_23e0d20c_8e4d_11ea_999b_8c85901a33efrow15_col16\" class=\"data row15 col16\" >0.230000</td>\n",
       "                        <td id=\"T_23e0d20c_8e4d_11ea_999b_8c85901a33efrow15_col17\" class=\"data row15 col17\" >0.330000</td>\n",
       "                        <td id=\"T_23e0d20c_8e4d_11ea_999b_8c85901a33efrow15_col18\" class=\"data row15 col18\" >-0.030000</td>\n",
       "                        <td id=\"T_23e0d20c_8e4d_11ea_999b_8c85901a33efrow15_col19\" class=\"data row15 col19\" >0.440000</td>\n",
       "                        <td id=\"T_23e0d20c_8e4d_11ea_999b_8c85901a33efrow15_col20\" class=\"data row15 col20\" >0.310000</td>\n",
       "                        <td id=\"T_23e0d20c_8e4d_11ea_999b_8c85901a33efrow15_col21\" class=\"data row15 col21\" >0.270000</td>\n",
       "                        <td id=\"T_23e0d20c_8e4d_11ea_999b_8c85901a33efrow15_col22\" class=\"data row15 col22\" >0.310000</td>\n",
       "                        <td id=\"T_23e0d20c_8e4d_11ea_999b_8c85901a33efrow15_col23\" class=\"data row15 col23\" >0.020000</td>\n",
       "            </tr>\n",
       "            <tr>\n",
       "                        <th id=\"T_23e0d20c_8e4d_11ea_999b_8c85901a33eflevel0_row16\" class=\"row_heading level0 row16\" >Snow Making_ac</th>\n",
       "                        <td id=\"T_23e0d20c_8e4d_11ea_999b_8c85901a33efrow16_col0\" class=\"data row16 col0\" >0.240000</td>\n",
       "                        <td id=\"T_23e0d20c_8e4d_11ea_999b_8c85901a33efrow16_col1\" class=\"data row16 col1\" >0.430000</td>\n",
       "                        <td id=\"T_23e0d20c_8e4d_11ea_999b_8c85901a33efrow16_col2\" class=\"data row16 col2\" >0.170000</td>\n",
       "                        <td id=\"T_23e0d20c_8e4d_11ea_999b_8c85901a33efrow16_col3\" class=\"data row16 col3\" >0.550000</td>\n",
       "                        <td id=\"T_23e0d20c_8e4d_11ea_999b_8c85901a33efrow16_col4\" class=\"data row16 col4\" >0.060000</td>\n",
       "                        <td id=\"T_23e0d20c_8e4d_11ea_999b_8c85901a33efrow16_col5\" class=\"data row16 col5\" >0.430000</td>\n",
       "                        <td id=\"T_23e0d20c_8e4d_11ea_999b_8c85901a33efrow16_col6\" class=\"data row16 col6\" >0.520000</td>\n",
       "                        <td id=\"T_23e0d20c_8e4d_11ea_999b_8c85901a33efrow16_col7\" class=\"data row16 col7\" >0.220000</td>\n",
       "                        <td id=\"T_23e0d20c_8e4d_11ea_999b_8c85901a33efrow16_col8\" class=\"data row16 col8\" >0.340000</td>\n",
       "                        <td id=\"T_23e0d20c_8e4d_11ea_999b_8c85901a33efrow16_col9\" class=\"data row16 col9\" >0.100000</td>\n",
       "                        <td id=\"T_23e0d20c_8e4d_11ea_999b_8c85901a33efrow16_col10\" class=\"data row16 col10\" >0.310000</td>\n",
       "                        <td id=\"T_23e0d20c_8e4d_11ea_999b_8c85901a33efrow16_col11\" class=\"data row16 col11\" >0.580000</td>\n",
       "                        <td id=\"T_23e0d20c_8e4d_11ea_999b_8c85901a33efrow16_col12\" class=\"data row16 col12\" >0.460000</td>\n",
       "                        <td id=\"T_23e0d20c_8e4d_11ea_999b_8c85901a33efrow16_col13\" class=\"data row16 col13\" >0.380000</td>\n",
       "                        <td id=\"T_23e0d20c_8e4d_11ea_999b_8c85901a33efrow16_col14\" class=\"data row16 col14\" >0.490000</td>\n",
       "                        <td id=\"T_23e0d20c_8e4d_11ea_999b_8c85901a33efrow16_col15\" class=\"data row16 col15\" >0.230000</td>\n",
       "                        <td id=\"T_23e0d20c_8e4d_11ea_999b_8c85901a33efrow16_col16\" class=\"data row16 col16\" >1.000000</td>\n",
       "                        <td id=\"T_23e0d20c_8e4d_11ea_999b_8c85901a33efrow16_col17\" class=\"data row16 col17\" >0.330000</td>\n",
       "                        <td id=\"T_23e0d20c_8e4d_11ea_999b_8c85901a33efrow16_col18\" class=\"data row16 col18\" >-0.000000</td>\n",
       "                        <td id=\"T_23e0d20c_8e4d_11ea_999b_8c85901a33efrow16_col19\" class=\"data row16 col19\" >0.170000</td>\n",
       "                        <td id=\"T_23e0d20c_8e4d_11ea_999b_8c85901a33efrow16_col20\" class=\"data row16 col20\" >0.310000</td>\n",
       "                        <td id=\"T_23e0d20c_8e4d_11ea_999b_8c85901a33efrow16_col21\" class=\"data row16 col21\" >0.330000</td>\n",
       "                        <td id=\"T_23e0d20c_8e4d_11ea_999b_8c85901a33efrow16_col22\" class=\"data row16 col22\" >0.250000</td>\n",
       "                        <td id=\"T_23e0d20c_8e4d_11ea_999b_8c85901a33efrow16_col23\" class=\"data row16 col23\" >0.020000</td>\n",
       "            </tr>\n",
       "            <tr>\n",
       "                        <th id=\"T_23e0d20c_8e4d_11ea_999b_8c85901a33eflevel0_row17\" class=\"row_heading level0 row17\" >daysOpenLastYear</th>\n",
       "                        <td id=\"T_23e0d20c_8e4d_11ea_999b_8c85901a33efrow17_col0\" class=\"data row17 col0\" >0.430000</td>\n",
       "                        <td id=\"T_23e0d20c_8e4d_11ea_999b_8c85901a33efrow17_col1\" class=\"data row17 col1\" >0.530000</td>\n",
       "                        <td id=\"T_23e0d20c_8e4d_11ea_999b_8c85901a33efrow17_col2\" class=\"data row17 col2\" >0.360000</td>\n",
       "                        <td id=\"T_23e0d20c_8e4d_11ea_999b_8c85901a33efrow17_col3\" class=\"data row17 col3\" >0.350000</td>\n",
       "                        <td id=\"T_23e0d20c_8e4d_11ea_999b_8c85901a33efrow17_col4\" class=\"data row17 col4\" >0.050000</td>\n",
       "                        <td id=\"T_23e0d20c_8e4d_11ea_999b_8c85901a33efrow17_col5\" class=\"data row17 col5\" >0.270000</td>\n",
       "                        <td id=\"T_23e0d20c_8e4d_11ea_999b_8c85901a33efrow17_col6\" class=\"data row17 col6\" >0.450000</td>\n",
       "                        <td id=\"T_23e0d20c_8e4d_11ea_999b_8c85901a33efrow17_col7\" class=\"data row17 col7\" >0.190000</td>\n",
       "                        <td id=\"T_23e0d20c_8e4d_11ea_999b_8c85901a33efrow17_col8\" class=\"data row17 col8\" >0.190000</td>\n",
       "                        <td id=\"T_23e0d20c_8e4d_11ea_999b_8c85901a33efrow17_col9\" class=\"data row17 col9\" >0.100000</td>\n",
       "                        <td id=\"T_23e0d20c_8e4d_11ea_999b_8c85901a33efrow17_col10\" class=\"data row17 col10\" >0.140000</td>\n",
       "                        <td id=\"T_23e0d20c_8e4d_11ea_999b_8c85901a33efrow17_col11\" class=\"data row17 col11\" >0.410000</td>\n",
       "                        <td id=\"T_23e0d20c_8e4d_11ea_999b_8c85901a33efrow17_col12\" class=\"data row17 col12\" >0.480000</td>\n",
       "                        <td id=\"T_23e0d20c_8e4d_11ea_999b_8c85901a33efrow17_col13\" class=\"data row17 col13\" >0.290000</td>\n",
       "                        <td id=\"T_23e0d20c_8e4d_11ea_999b_8c85901a33efrow17_col14\" class=\"data row17 col14\" >0.390000</td>\n",
       "                        <td id=\"T_23e0d20c_8e4d_11ea_999b_8c85901a33efrow17_col15\" class=\"data row17 col15\" >0.330000</td>\n",
       "                        <td id=\"T_23e0d20c_8e4d_11ea_999b_8c85901a33efrow17_col16\" class=\"data row17 col16\" >0.330000</td>\n",
       "                        <td id=\"T_23e0d20c_8e4d_11ea_999b_8c85901a33efrow17_col17\" class=\"data row17 col17\" >1.000000</td>\n",
       "                        <td id=\"T_23e0d20c_8e4d_11ea_999b_8c85901a33efrow17_col18\" class=\"data row17 col18\" >0.020000</td>\n",
       "                        <td id=\"T_23e0d20c_8e4d_11ea_999b_8c85901a33efrow17_col19\" class=\"data row17 col19\" >0.470000</td>\n",
       "                        <td id=\"T_23e0d20c_8e4d_11ea_999b_8c85901a33efrow17_col20\" class=\"data row17 col20\" >0.460000</td>\n",
       "                        <td id=\"T_23e0d20c_8e4d_11ea_999b_8c85901a33efrow17_col21\" class=\"data row17 col21\" >0.460000</td>\n",
       "                        <td id=\"T_23e0d20c_8e4d_11ea_999b_8c85901a33efrow17_col22\" class=\"data row17 col22\" >0.800000</td>\n",
       "                        <td id=\"T_23e0d20c_8e4d_11ea_999b_8c85901a33efrow17_col23\" class=\"data row17 col23\" >0.020000</td>\n",
       "            </tr>\n",
       "            <tr>\n",
       "                        <th id=\"T_23e0d20c_8e4d_11ea_999b_8c85901a33eflevel0_row18\" class=\"row_heading level0 row18\" >yearsOpen</th>\n",
       "                        <td id=\"T_23e0d20c_8e4d_11ea_999b_8c85901a33efrow18_col0\" class=\"data row18 col0\" >-0.020000</td>\n",
       "                        <td id=\"T_23e0d20c_8e4d_11ea_999b_8c85901a33efrow18_col1\" class=\"data row18 col1\" >-0.030000</td>\n",
       "                        <td id=\"T_23e0d20c_8e4d_11ea_999b_8c85901a33efrow18_col2\" class=\"data row18 col2\" >-0.020000</td>\n",
       "                        <td id=\"T_23e0d20c_8e4d_11ea_999b_8c85901a33efrow18_col3\" class=\"data row18 col3\" >-0.010000</td>\n",
       "                        <td id=\"T_23e0d20c_8e4d_11ea_999b_8c85901a33efrow18_col4\" class=\"data row18 col4\" >-0.010000</td>\n",
       "                        <td id=\"T_23e0d20c_8e4d_11ea_999b_8c85901a33efrow18_col5\" class=\"data row18 col5\" >-0.010000</td>\n",
       "                        <td id=\"T_23e0d20c_8e4d_11ea_999b_8c85901a33efrow18_col6\" class=\"data row18 col6\" >-0.020000</td>\n",
       "                        <td id=\"T_23e0d20c_8e4d_11ea_999b_8c85901a33efrow18_col7\" class=\"data row18 col7\" >-0.030000</td>\n",
       "                        <td id=\"T_23e0d20c_8e4d_11ea_999b_8c85901a33efrow18_col8\" class=\"data row18 col8\" >-0.040000</td>\n",
       "                        <td id=\"T_23e0d20c_8e4d_11ea_999b_8c85901a33efrow18_col9\" class=\"data row18 col9\" >-0.030000</td>\n",
       "                        <td id=\"T_23e0d20c_8e4d_11ea_999b_8c85901a33efrow18_col10\" class=\"data row18 col10\" >0.090000</td>\n",
       "                        <td id=\"T_23e0d20c_8e4d_11ea_999b_8c85901a33efrow18_col11\" class=\"data row18 col11\" >-0.000000</td>\n",
       "                        <td id=\"T_23e0d20c_8e4d_11ea_999b_8c85901a33efrow18_col12\" class=\"data row18 col12\" >-0.020000</td>\n",
       "                        <td id=\"T_23e0d20c_8e4d_11ea_999b_8c85901a33efrow18_col13\" class=\"data row18 col13\" >0.040000</td>\n",
       "                        <td id=\"T_23e0d20c_8e4d_11ea_999b_8c85901a33efrow18_col14\" class=\"data row18 col14\" >0.000000</td>\n",
       "                        <td id=\"T_23e0d20c_8e4d_11ea_999b_8c85901a33efrow18_col15\" class=\"data row18 col15\" >-0.030000</td>\n",
       "                        <td id=\"T_23e0d20c_8e4d_11ea_999b_8c85901a33efrow18_col16\" class=\"data row18 col16\" >-0.000000</td>\n",
       "                        <td id=\"T_23e0d20c_8e4d_11ea_999b_8c85901a33efrow18_col17\" class=\"data row18 col17\" >0.020000</td>\n",
       "                        <td id=\"T_23e0d20c_8e4d_11ea_999b_8c85901a33efrow18_col18\" class=\"data row18 col18\" >1.000000</td>\n",
       "                        <td id=\"T_23e0d20c_8e4d_11ea_999b_8c85901a33efrow18_col19\" class=\"data row18 col19\" >0.030000</td>\n",
       "                        <td id=\"T_23e0d20c_8e4d_11ea_999b_8c85901a33efrow18_col20\" class=\"data row18 col20\" >0.000000</td>\n",
       "                        <td id=\"T_23e0d20c_8e4d_11ea_999b_8c85901a33efrow18_col21\" class=\"data row18 col21\" >0.000000</td>\n",
       "                        <td id=\"T_23e0d20c_8e4d_11ea_999b_8c85901a33efrow18_col22\" class=\"data row18 col22\" >0.020000</td>\n",
       "                        <td id=\"T_23e0d20c_8e4d_11ea_999b_8c85901a33efrow18_col23\" class=\"data row18 col23\" >-0.020000</td>\n",
       "            </tr>\n",
       "            <tr>\n",
       "                        <th id=\"T_23e0d20c_8e4d_11ea_999b_8c85901a33eflevel0_row19\" class=\"row_heading level0 row19\" >averageSnowfall</th>\n",
       "                        <td id=\"T_23e0d20c_8e4d_11ea_999b_8c85901a33efrow19_col0\" class=\"data row19 col0\" >0.690000</td>\n",
       "                        <td id=\"T_23e0d20c_8e4d_11ea_999b_8c85901a33efrow19_col1\" class=\"data row19 col1\" >0.660000</td>\n",
       "                        <td id=\"T_23e0d20c_8e4d_11ea_999b_8c85901a33efrow19_col2\" class=\"data row19 col2\" >0.630000</td>\n",
       "                        <td id=\"T_23e0d20c_8e4d_11ea_999b_8c85901a33efrow19_col3\" class=\"data row19 col3\" >0.290000</td>\n",
       "                        <td id=\"T_23e0d20c_8e4d_11ea_999b_8c85901a33efrow19_col4\" class=\"data row19 col4\" >0.090000</td>\n",
       "                        <td id=\"T_23e0d20c_8e4d_11ea_999b_8c85901a33efrow19_col5\" class=\"data row19 col5\" >0.180000</td>\n",
       "                        <td id=\"T_23e0d20c_8e4d_11ea_999b_8c85901a33efrow19_col6\" class=\"data row19 col6\" >0.400000</td>\n",
       "                        <td id=\"T_23e0d20c_8e4d_11ea_999b_8c85901a33efrow19_col7\" class=\"data row19 col7\" >0.070000</td>\n",
       "                        <td id=\"T_23e0d20c_8e4d_11ea_999b_8c85901a33efrow19_col8\" class=\"data row19 col8\" >0.130000</td>\n",
       "                        <td id=\"T_23e0d20c_8e4d_11ea_999b_8c85901a33efrow19_col9\" class=\"data row19 col9\" >0.090000</td>\n",
       "                        <td id=\"T_23e0d20c_8e4d_11ea_999b_8c85901a33efrow19_col10\" class=\"data row19 col10\" >-0.110000</td>\n",
       "                        <td id=\"T_23e0d20c_8e4d_11ea_999b_8c85901a33efrow19_col11\" class=\"data row19 col11\" >0.240000</td>\n",
       "                        <td id=\"T_23e0d20c_8e4d_11ea_999b_8c85901a33efrow19_col12\" class=\"data row19 col12\" >0.520000</td>\n",
       "                        <td id=\"T_23e0d20c_8e4d_11ea_999b_8c85901a33efrow19_col13\" class=\"data row19 col13\" >0.120000</td>\n",
       "                        <td id=\"T_23e0d20c_8e4d_11ea_999b_8c85901a33efrow19_col14\" class=\"data row19 col14\" >0.470000</td>\n",
       "                        <td id=\"T_23e0d20c_8e4d_11ea_999b_8c85901a33efrow19_col15\" class=\"data row19 col15\" >0.440000</td>\n",
       "                        <td id=\"T_23e0d20c_8e4d_11ea_999b_8c85901a33efrow19_col16\" class=\"data row19 col16\" >0.170000</td>\n",
       "                        <td id=\"T_23e0d20c_8e4d_11ea_999b_8c85901a33efrow19_col17\" class=\"data row19 col17\" >0.470000</td>\n",
       "                        <td id=\"T_23e0d20c_8e4d_11ea_999b_8c85901a33efrow19_col18\" class=\"data row19 col18\" >0.030000</td>\n",
       "                        <td id=\"T_23e0d20c_8e4d_11ea_999b_8c85901a33efrow19_col19\" class=\"data row19 col19\" >1.000000</td>\n",
       "                        <td id=\"T_23e0d20c_8e4d_11ea_999b_8c85901a33efrow19_col20\" class=\"data row19 col20\" >0.460000</td>\n",
       "                        <td id=\"T_23e0d20c_8e4d_11ea_999b_8c85901a33efrow19_col21\" class=\"data row19 col21\" >0.380000</td>\n",
       "                        <td id=\"T_23e0d20c_8e4d_11ea_999b_8c85901a33efrow19_col22\" class=\"data row19 col22\" >0.510000</td>\n",
       "                        <td id=\"T_23e0d20c_8e4d_11ea_999b_8c85901a33efrow19_col23\" class=\"data row19 col23\" >0.020000</td>\n",
       "            </tr>\n",
       "            <tr>\n",
       "                        <th id=\"T_23e0d20c_8e4d_11ea_999b_8c85901a33eflevel0_row20\" class=\"row_heading level0 row20\" >AdultWeekday</th>\n",
       "                        <td id=\"T_23e0d20c_8e4d_11ea_999b_8c85901a33efrow20_col0\" class=\"data row20 col0\" >0.470000</td>\n",
       "                        <td id=\"T_23e0d20c_8e4d_11ea_999b_8c85901a33efrow20_col1\" class=\"data row20 col1\" >0.630000</td>\n",
       "                        <td id=\"T_23e0d20c_8e4d_11ea_999b_8c85901a33efrow20_col2\" class=\"data row20 col2\" >0.380000</td>\n",
       "                        <td id=\"T_23e0d20c_8e4d_11ea_999b_8c85901a33efrow20_col3\" class=\"data row20 col3\" >0.410000</td>\n",
       "                        <td id=\"T_23e0d20c_8e4d_11ea_999b_8c85901a33efrow20_col4\" class=\"data row20 col4\" >0.000000</td>\n",
       "                        <td id=\"T_23e0d20c_8e4d_11ea_999b_8c85901a33efrow20_col5\" class=\"data row20 col5\" >0.220000</td>\n",
       "                        <td id=\"T_23e0d20c_8e4d_11ea_999b_8c85901a33efrow20_col6\" class=\"data row20 col6\" >0.540000</td>\n",
       "                        <td id=\"T_23e0d20c_8e4d_11ea_999b_8c85901a33efrow20_col7\" class=\"data row20 col7\" >0.250000</td>\n",
       "                        <td id=\"T_23e0d20c_8e4d_11ea_999b_8c85901a33efrow20_col8\" class=\"data row20 col8\" >0.270000</td>\n",
       "                        <td id=\"T_23e0d20c_8e4d_11ea_999b_8c85901a33efrow20_col9\" class=\"data row20 col9\" >0.120000</td>\n",
       "                        <td id=\"T_23e0d20c_8e4d_11ea_999b_8c85901a33efrow20_col10\" class=\"data row20 col10\" >0.000000</td>\n",
       "                        <td id=\"T_23e0d20c_8e4d_11ea_999b_8c85901a33efrow20_col11\" class=\"data row20 col11\" >0.440000</td>\n",
       "                        <td id=\"T_23e0d20c_8e4d_11ea_999b_8c85901a33efrow20_col12\" class=\"data row20 col12\" >0.590000</td>\n",
       "                        <td id=\"T_23e0d20c_8e4d_11ea_999b_8c85901a33efrow20_col13\" class=\"data row20 col13\" >0.310000</td>\n",
       "                        <td id=\"T_23e0d20c_8e4d_11ea_999b_8c85901a33efrow20_col14\" class=\"data row20 col14\" >0.510000</td>\n",
       "                        <td id=\"T_23e0d20c_8e4d_11ea_999b_8c85901a33efrow20_col15\" class=\"data row20 col15\" >0.310000</td>\n",
       "                        <td id=\"T_23e0d20c_8e4d_11ea_999b_8c85901a33efrow20_col16\" class=\"data row20 col16\" >0.310000</td>\n",
       "                        <td id=\"T_23e0d20c_8e4d_11ea_999b_8c85901a33efrow20_col17\" class=\"data row20 col17\" >0.460000</td>\n",
       "                        <td id=\"T_23e0d20c_8e4d_11ea_999b_8c85901a33efrow20_col18\" class=\"data row20 col18\" >0.000000</td>\n",
       "                        <td id=\"T_23e0d20c_8e4d_11ea_999b_8c85901a33efrow20_col19\" class=\"data row20 col19\" >0.460000</td>\n",
       "                        <td id=\"T_23e0d20c_8e4d_11ea_999b_8c85901a33efrow20_col20\" class=\"data row20 col20\" >1.000000</td>\n",
       "                        <td id=\"T_23e0d20c_8e4d_11ea_999b_8c85901a33efrow20_col21\" class=\"data row20 col21\" >0.940000</td>\n",
       "                        <td id=\"T_23e0d20c_8e4d_11ea_999b_8c85901a33efrow20_col22\" class=\"data row20 col22\" >0.410000</td>\n",
       "                        <td id=\"T_23e0d20c_8e4d_11ea_999b_8c85901a33efrow20_col23\" class=\"data row20 col23\" >-0.020000</td>\n",
       "            </tr>\n",
       "            <tr>\n",
       "                        <th id=\"T_23e0d20c_8e4d_11ea_999b_8c85901a33eflevel0_row21\" class=\"row_heading level0 row21\" >AdultWeekend</th>\n",
       "                        <td id=\"T_23e0d20c_8e4d_11ea_999b_8c85901a33efrow21_col0\" class=\"data row21 col0\" >0.380000</td>\n",
       "                        <td id=\"T_23e0d20c_8e4d_11ea_999b_8c85901a33efrow21_col1\" class=\"data row21 col1\" >0.580000</td>\n",
       "                        <td id=\"T_23e0d20c_8e4d_11ea_999b_8c85901a33efrow21_col2\" class=\"data row21 col2\" >0.280000</td>\n",
       "                        <td id=\"T_23e0d20c_8e4d_11ea_999b_8c85901a33efrow21_col3\" class=\"data row21 col3\" >0.410000</td>\n",
       "                        <td id=\"T_23e0d20c_8e4d_11ea_999b_8c85901a33efrow21_col4\" class=\"data row21 col4\" >-0.000000</td>\n",
       "                        <td id=\"T_23e0d20c_8e4d_11ea_999b_8c85901a33efrow21_col5\" class=\"data row21 col5\" >0.230000</td>\n",
       "                        <td id=\"T_23e0d20c_8e4d_11ea_999b_8c85901a33efrow21_col6\" class=\"data row21 col6\" >0.530000</td>\n",
       "                        <td id=\"T_23e0d20c_8e4d_11ea_999b_8c85901a33efrow21_col7\" class=\"data row21 col7\" >0.300000</td>\n",
       "                        <td id=\"T_23e0d20c_8e4d_11ea_999b_8c85901a33efrow21_col8\" class=\"data row21 col8\" >0.310000</td>\n",
       "                        <td id=\"T_23e0d20c_8e4d_11ea_999b_8c85901a33efrow21_col9\" class=\"data row21 col9\" >0.120000</td>\n",
       "                        <td id=\"T_23e0d20c_8e4d_11ea_999b_8c85901a33efrow21_col10\" class=\"data row21 col10\" >0.020000</td>\n",
       "                        <td id=\"T_23e0d20c_8e4d_11ea_999b_8c85901a33efrow21_col11\" class=\"data row21 col11\" >0.470000</td>\n",
       "                        <td id=\"T_23e0d20c_8e4d_11ea_999b_8c85901a33efrow21_col12\" class=\"data row21 col12\" >0.560000</td>\n",
       "                        <td id=\"T_23e0d20c_8e4d_11ea_999b_8c85901a33efrow21_col13\" class=\"data row21 col13\" >0.340000</td>\n",
       "                        <td id=\"T_23e0d20c_8e4d_11ea_999b_8c85901a33efrow21_col14\" class=\"data row21 col14\" >0.480000</td>\n",
       "                        <td id=\"T_23e0d20c_8e4d_11ea_999b_8c85901a33efrow21_col15\" class=\"data row21 col15\" >0.270000</td>\n",
       "                        <td id=\"T_23e0d20c_8e4d_11ea_999b_8c85901a33efrow21_col16\" class=\"data row21 col16\" >0.330000</td>\n",
       "                        <td id=\"T_23e0d20c_8e4d_11ea_999b_8c85901a33efrow21_col17\" class=\"data row21 col17\" >0.460000</td>\n",
       "                        <td id=\"T_23e0d20c_8e4d_11ea_999b_8c85901a33efrow21_col18\" class=\"data row21 col18\" >0.000000</td>\n",
       "                        <td id=\"T_23e0d20c_8e4d_11ea_999b_8c85901a33efrow21_col19\" class=\"data row21 col19\" >0.380000</td>\n",
       "                        <td id=\"T_23e0d20c_8e4d_11ea_999b_8c85901a33efrow21_col20\" class=\"data row21 col20\" >0.940000</td>\n",
       "                        <td id=\"T_23e0d20c_8e4d_11ea_999b_8c85901a33efrow21_col21\" class=\"data row21 col21\" >1.000000</td>\n",
       "                        <td id=\"T_23e0d20c_8e4d_11ea_999b_8c85901a33efrow21_col22\" class=\"data row21 col22\" >0.390000</td>\n",
       "                        <td id=\"T_23e0d20c_8e4d_11ea_999b_8c85901a33efrow21_col23\" class=\"data row21 col23\" >0.040000</td>\n",
       "            </tr>\n",
       "            <tr>\n",
       "                        <th id=\"T_23e0d20c_8e4d_11ea_999b_8c85901a33eflevel0_row22\" class=\"row_heading level0 row22\" >projectedDaysOpen</th>\n",
       "                        <td id=\"T_23e0d20c_8e4d_11ea_999b_8c85901a33efrow22_col0\" class=\"data row22 col0\" >0.400000</td>\n",
       "                        <td id=\"T_23e0d20c_8e4d_11ea_999b_8c85901a33efrow22_col1\" class=\"data row22 col1\" >0.510000</td>\n",
       "                        <td id=\"T_23e0d20c_8e4d_11ea_999b_8c85901a33efrow22_col2\" class=\"data row22 col2\" >0.330000</td>\n",
       "                        <td id=\"T_23e0d20c_8e4d_11ea_999b_8c85901a33efrow22_col3\" class=\"data row22 col3\" >0.210000</td>\n",
       "                        <td id=\"T_23e0d20c_8e4d_11ea_999b_8c85901a33efrow22_col4\" class=\"data row22 col4\" >0.050000</td>\n",
       "                        <td id=\"T_23e0d20c_8e4d_11ea_999b_8c85901a33efrow22_col5\" class=\"data row22 col5\" >0.200000</td>\n",
       "                        <td id=\"T_23e0d20c_8e4d_11ea_999b_8c85901a33efrow22_col6\" class=\"data row22 col6\" >0.360000</td>\n",
       "                        <td id=\"T_23e0d20c_8e4d_11ea_999b_8c85901a33efrow22_col7\" class=\"data row22 col7\" >0.200000</td>\n",
       "                        <td id=\"T_23e0d20c_8e4d_11ea_999b_8c85901a33efrow22_col8\" class=\"data row22 col8\" >0.160000</td>\n",
       "                        <td id=\"T_23e0d20c_8e4d_11ea_999b_8c85901a33efrow22_col9\" class=\"data row22 col9\" >0.110000</td>\n",
       "                        <td id=\"T_23e0d20c_8e4d_11ea_999b_8c85901a33efrow22_col10\" class=\"data row22 col10\" >0.090000</td>\n",
       "                        <td id=\"T_23e0d20c_8e4d_11ea_999b_8c85901a33efrow22_col11\" class=\"data row22 col11\" >0.340000</td>\n",
       "                        <td id=\"T_23e0d20c_8e4d_11ea_999b_8c85901a33efrow22_col12\" class=\"data row22 col12\" >0.430000</td>\n",
       "                        <td id=\"T_23e0d20c_8e4d_11ea_999b_8c85901a33efrow22_col13\" class=\"data row22 col13\" >0.260000</td>\n",
       "                        <td id=\"T_23e0d20c_8e4d_11ea_999b_8c85901a33efrow22_col14\" class=\"data row22 col14\" >0.360000</td>\n",
       "                        <td id=\"T_23e0d20c_8e4d_11ea_999b_8c85901a33efrow22_col15\" class=\"data row22 col15\" >0.310000</td>\n",
       "                        <td id=\"T_23e0d20c_8e4d_11ea_999b_8c85901a33efrow22_col16\" class=\"data row22 col16\" >0.250000</td>\n",
       "                        <td id=\"T_23e0d20c_8e4d_11ea_999b_8c85901a33efrow22_col17\" class=\"data row22 col17\" >0.800000</td>\n",
       "                        <td id=\"T_23e0d20c_8e4d_11ea_999b_8c85901a33efrow22_col18\" class=\"data row22 col18\" >0.020000</td>\n",
       "                        <td id=\"T_23e0d20c_8e4d_11ea_999b_8c85901a33efrow22_col19\" class=\"data row22 col19\" >0.510000</td>\n",
       "                        <td id=\"T_23e0d20c_8e4d_11ea_999b_8c85901a33efrow22_col20\" class=\"data row22 col20\" >0.410000</td>\n",
       "                        <td id=\"T_23e0d20c_8e4d_11ea_999b_8c85901a33efrow22_col21\" class=\"data row22 col21\" >0.390000</td>\n",
       "                        <td id=\"T_23e0d20c_8e4d_11ea_999b_8c85901a33efrow22_col22\" class=\"data row22 col22\" >1.000000</td>\n",
       "                        <td id=\"T_23e0d20c_8e4d_11ea_999b_8c85901a33efrow22_col23\" class=\"data row22 col23\" >0.030000</td>\n",
       "            </tr>\n",
       "            <tr>\n",
       "                        <th id=\"T_23e0d20c_8e4d_11ea_999b_8c85901a33eflevel0_row23\" class=\"row_heading level0 row23\" >NightSkiing_ac</th>\n",
       "                        <td id=\"T_23e0d20c_8e4d_11ea_999b_8c85901a33efrow23_col0\" class=\"data row23 col0\" >-0.160000</td>\n",
       "                        <td id=\"T_23e0d20c_8e4d_11ea_999b_8c85901a33efrow23_col1\" class=\"data row23 col1\" >-0.070000</td>\n",
       "                        <td id=\"T_23e0d20c_8e4d_11ea_999b_8c85901a33efrow23_col2\" class=\"data row23 col2\" >-0.180000</td>\n",
       "                        <td id=\"T_23e0d20c_8e4d_11ea_999b_8c85901a33efrow23_col3\" class=\"data row23 col3\" >-0.100000</td>\n",
       "                        <td id=\"T_23e0d20c_8e4d_11ea_999b_8c85901a33efrow23_col4\" class=\"data row23 col4\" >-0.030000</td>\n",
       "                        <td id=\"T_23e0d20c_8e4d_11ea_999b_8c85901a33efrow23_col5\" class=\"data row23 col5\" >-0.070000</td>\n",
       "                        <td id=\"T_23e0d20c_8e4d_11ea_999b_8c85901a33efrow23_col6\" class=\"data row23 col6\" >-0.020000</td>\n",
       "                        <td id=\"T_23e0d20c_8e4d_11ea_999b_8c85901a33efrow23_col7\" class=\"data row23 col7\" >0.160000</td>\n",
       "                        <td id=\"T_23e0d20c_8e4d_11ea_999b_8c85901a33efrow23_col8\" class=\"data row23 col8\" >0.090000</td>\n",
       "                        <td id=\"T_23e0d20c_8e4d_11ea_999b_8c85901a33efrow23_col9\" class=\"data row23 col9\" >0.130000</td>\n",
       "                        <td id=\"T_23e0d20c_8e4d_11ea_999b_8c85901a33efrow23_col10\" class=\"data row23 col10\" >0.040000</td>\n",
       "                        <td id=\"T_23e0d20c_8e4d_11ea_999b_8c85901a33efrow23_col11\" class=\"data row23 col11\" >0.090000</td>\n",
       "                        <td id=\"T_23e0d20c_8e4d_11ea_999b_8c85901a33efrow23_col12\" class=\"data row23 col12\" >-0.030000</td>\n",
       "                        <td id=\"T_23e0d20c_8e4d_11ea_999b_8c85901a33efrow23_col13\" class=\"data row23 col13\" >0.140000</td>\n",
       "                        <td id=\"T_23e0d20c_8e4d_11ea_999b_8c85901a33efrow23_col14\" class=\"data row23 col14\" >-0.120000</td>\n",
       "                        <td id=\"T_23e0d20c_8e4d_11ea_999b_8c85901a33efrow23_col15\" class=\"data row23 col15\" >0.020000</td>\n",
       "                        <td id=\"T_23e0d20c_8e4d_11ea_999b_8c85901a33efrow23_col16\" class=\"data row23 col16\" >0.020000</td>\n",
       "                        <td id=\"T_23e0d20c_8e4d_11ea_999b_8c85901a33efrow23_col17\" class=\"data row23 col17\" >0.020000</td>\n",
       "                        <td id=\"T_23e0d20c_8e4d_11ea_999b_8c85901a33efrow23_col18\" class=\"data row23 col18\" >-0.020000</td>\n",
       "                        <td id=\"T_23e0d20c_8e4d_11ea_999b_8c85901a33efrow23_col19\" class=\"data row23 col19\" >0.020000</td>\n",
       "                        <td id=\"T_23e0d20c_8e4d_11ea_999b_8c85901a33efrow23_col20\" class=\"data row23 col20\" >-0.020000</td>\n",
       "                        <td id=\"T_23e0d20c_8e4d_11ea_999b_8c85901a33efrow23_col21\" class=\"data row23 col21\" >0.040000</td>\n",
       "                        <td id=\"T_23e0d20c_8e4d_11ea_999b_8c85901a33efrow23_col22\" class=\"data row23 col22\" >0.030000</td>\n",
       "                        <td id=\"T_23e0d20c_8e4d_11ea_999b_8c85901a33efrow23_col23\" class=\"data row23 col23\" >1.000000</td>\n",
       "            </tr>\n",
       "    </tbody></table>"
      ],
      "text/plain": [
       "<pandas.io.formats.style.Styler at 0x13c4f13d0>"
      ]
     },
     "execution_count": 46,
     "metadata": {},
     "output_type": "execute_result"
    }
   ],
   "source": [
    "#Calculate the correlation coefficients\n",
    "corr = df.corr()\n",
    "#plot it in the next line\n",
    "corr.round(2).style.background_gradient(cmap='coolwarm')"
   ]
  },
  {
   "cell_type": "markdown",
   "metadata": {
    "colab_type": "text",
    "id": "K_cyPDSe4-XL"
   },
   "source": [
    "When reviewing the Pearson correlation coefficient heatmap, you can see substantial differences in the correlations compared to the response variable(s) as well as in the features when compared to each other. The heatmap helps identify features that suffer from multi-collinearity. "
   ]
  },
  {
   "cell_type": "markdown",
   "metadata": {
    "colab_type": "text",
    "id": "gcO2qobH4-XM"
   },
   "source": [
    "<font color='teal'>**Use the correlation matrix displayed in the heatmap to select and remove collinear features. Remember to exclude the response variable(s) from the matrix to ensure they are retained in your final model development dataset. Then select those features that are more than 95% correlated for removal.**</font>\n",
    "\n",
    "Step 1: Create a correlation matrix that excludes your response variables. \n",
    "\n",
    "Step 2: Select the upper triangle of the correlation matrix. This is because a correlation matrix actually contains the same information, twice over!\n",
    "\n",
    "Step 3: Find the index of feature columns with a correlation greater than 0.95."
   ]
  },
  {
   "cell_type": "code",
   "execution_count": null,
   "metadata": {
    "colab": {},
    "colab_type": "code",
    "id": "G7MwPeW_4-XN"
   },
   "outputs": [],
   "source": [
    "# Step 1. Call the variable corr_matrix\n",
    "corr_matrix = dfno.drop(['AdultWeekday','AdultWeekend','daysOpenLastYear','projectedDaysOpen'], axis=1).corr().abs()\n",
    "\n",
    "# Step 2. Uncomment the following code to get the upper triangle of the correlation matrix \n",
    "upper = corr_matrix.where(np.triu(np.ones(corr_matrix.shape), k=1).astype(np.bool))\n",
    "\n",
    "# Step 3. This code iterates through our columns and gets the index of any that have a correlation > 0.95\n",
    "# Call the variable to_drop, get the columns of our 'upper' variable, make sure the threshold is 0.95.\n",
    "to_drop = [column for column in upper.columns if any(upper[column] > 0.95)]"
   ]
  },
  {
   "cell_type": "code",
   "execution_count": null,
   "metadata": {
    "colab": {},
    "colab_type": "code",
    "id": "kMjMQkC7QGyb"
   },
   "outputs": [],
   "source": [
    "# Let's see those features! \n",
    "print('Features selected to drop include:',to_drop)"
   ]
  },
  {
   "cell_type": "code",
   "execution_count": null,
   "metadata": {
    "colab": {},
    "colab_type": "code",
    "id": "fpGCEljBQGyd"
   },
   "outputs": [],
   "source": [
    "print('Reduced dataframe size: ',dfno.drop(dfno[to_drop], axis=1).shape)"
   ]
  },
  {
   "cell_type": "code",
   "execution_count": null,
   "metadata": {},
   "outputs": [],
   "source": [
    "# Now replace dfno by the result of dropping the columns in the to_drop variable from it\n",
    "dfno = dfno.drop(dfno[to_drop], axis=1)"
   ]
  },
  {
   "cell_type": "markdown",
   "metadata": {
    "colab_type": "text",
    "id": "80_xI8GT4-XQ"
   },
   "source": [
    "Now we address the feature creation piece of this step. We can create additional features through many methods such as: combining several features, grouping features into bins, or even by applying an unsupervised classification algorithm, such as k-means clustering and using the clusters as features in our model development dataset.\n",
    "\n",
    "Clustering essentially finds patterns in data when we don't know in advance what we're looking for. The K-means algorithm is one way of doing clustering. It puts our data into groups (or 'clusters') which can then become features for further analysis. What the k-means algorithm outputs, though, depends on the number of clusters we set out to have. We will use a method called 'Elbow plotting' to determine this number. \n",
    "\n",
    "We will cover clustering and k-means thoroughly in the Unsupervised Learning unit of this course, but for now, we'll use it for feature creation alone, which is an integral part of Exploratory Data Analysis. Don't worry if you don't understand the details just yet. "
   ]
  },
  {
   "cell_type": "markdown",
   "metadata": {
    "colab_type": "text",
    "id": "zmuto_od4-XR"
   },
   "source": [
    "Run the next two cells below to create an Elbow plot. The Elbow plot is a diagnostic tool that helps us determine the number of clusters to include in our k-means clustering implementation. \n",
    "\n",
    "In this example, the error between clusters and within clusters is compared for a range of 1 to 11 clusters, and it appears the elbow is between two and four, therefore we set the parameter k = 3."
   ]
  },
  {
   "cell_type": "code",
   "execution_count": null,
   "metadata": {
    "colab": {},
    "colab_type": "code",
    "id": "i43iaNs24-XS"
   },
   "outputs": [],
   "source": [
    "#from sklearn.cluster import KMeans\n",
    "x = dfno.drop(['Name','state'], axis =1).values"
   ]
  },
  {
   "cell_type": "code",
   "execution_count": null,
   "metadata": {
    "colab": {},
    "colab_type": "code",
    "id": "oLNoqXQN4-XV"
   },
   "outputs": [],
   "source": [
    "Error =[]\n",
    "for i in range(1, 11):\n",
    "   kmeans = KMeans(n_clusters = i).fit(x)\n",
    "    kmeans.fit(x)\n",
    "    Error.append(kmeans.inertia_)\n",
    "import matplotlib.pyplot as plt\n",
    "plt.plot(range(1, 11), Error)\n",
    "plt.title('Elbow method')\n",
    "plt.xlabel('No of clusters')\n",
    "plt.ylabel('Error')\n",
    "plt.show()"
   ]
  },
  {
   "cell_type": "markdown",
   "metadata": {
    "colab_type": "text",
    "id": "y8BrP0e_4-XY"
   },
   "source": [
    "<font color='teal'>**Fit the kmeans algorithm with the k parameter set to three and plot the results.**</font>"
   ]
  },
  {
   "cell_type": "code",
   "execution_count": null,
   "metadata": {
    "colab": {},
    "colab_type": "code",
    "id": "_TfakkUd4-XY"
   },
   "outputs": [],
   "source": [
    "# This code will fit the k-means algorithm with our k parameter set to three, and plot the results. Cool, huh? \n",
    "kmeans3 = KMeans(n_clusters=3)\n",
    "y_kmeans3 = kmeans3.fit_predict(x)\n",
    "plt.scatter(x[:, 0], x[:, 1], c=y_kmeans3, s=50, cmap='viridis')\n",
    "\n",
    "centers = kmeans3.cluster_centers_\n",
    "plt.scatter(centers[:, 0], centers[:, 1], c='black', s=200, alpha=0.5);\n"
   ]
  },
  {
   "cell_type": "markdown",
   "metadata": {
    "colab_type": "text",
    "id": "Hvmu-OX24-Xb"
   },
   "source": [
    "<font color='teal'>**Add the clusters to your dataframe as a new column to include in the next step and write the updated dataframe out as csv. Save the dataframe in the data folder and name it `step3_output.csv`.**</font>"
   ]
  },
  {
   "cell_type": "code",
   "execution_count": null,
   "metadata": {
    "colab": {},
    "colab_type": "code",
    "id": "5L_tqS8h4-Xc"
   },
   "outputs": [],
   "source": [
    "# Make a new column in your dfno dataframe called 'clusters', and assign it the variable: y_kmeans3\n",
    "dfno['clusters']=y_kmeans3"
   ]
  },
  {
   "cell_type": "code",
   "execution_count": null,
   "metadata": {
    "colab": {},
    "colab_type": "code",
    "id": "sCTz-F2h4-Xf"
   },
   "outputs": [],
   "source": [
    "# Write your dataframe to csv "
   ]
  }
 ],
 "metadata": {
  "colab": {
   "collapsed_sections": [],
   "name": "GuidedCapstoneStep3.ipynb",
   "provenance": []
  },
  "kernelspec": {
   "display_name": "Python 3",
   "language": "python",
   "name": "python3"
  },
  "language_info": {
   "codemirror_mode": {
    "name": "ipython",
    "version": 3
   },
   "file_extension": ".py",
   "mimetype": "text/x-python",
   "name": "python",
   "nbconvert_exporter": "python",
   "pygments_lexer": "ipython3",
   "version": "3.7.4"
  },
  "toc": {
   "base_numbering": "0",
   "nav_menu": {},
   "number_sections": true,
   "sideBar": true,
   "skip_h1_title": false,
   "title_cell": "Table of Contents",
   "title_sidebar": "Contents",
   "toc_cell": true,
   "toc_position": {
    "height": "calc(100% - 180px)",
    "left": "10px",
    "top": "150px",
    "width": "288px"
   },
   "toc_section_display": true,
   "toc_window_display": true
  }
 },
 "nbformat": 4,
 "nbformat_minor": 4
}
